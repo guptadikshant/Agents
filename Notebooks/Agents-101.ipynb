{
 "cells": [
  {
   "cell_type": "markdown",
   "id": "9ded7b5b-bff4-4850-add3-04d31d4ee7c9",
   "metadata": {},
   "source": [
    "[Example Notebook](https://colab.research.google.com/drive/1bPhY1Awz0NIuzGy9RX72eZRB10FwZY0j?usp=sharing#scrollTo=6o7h7-SdMKHK)"
   ]
  },
  {
   "cell_type": "code",
   "execution_count": 1,
   "id": "e795c826-1ceb-42d3-b7e2-f4ffb179a00d",
   "metadata": {},
   "outputs": [],
   "source": [
    "import os\n",
    "import requests\n",
    "import json\n",
    "from langchain_groq import ChatGroq\n",
    "from langchain_core.prompts import ChatPromptTemplate\n",
    "from langchain_core.prompts.chat import MessagesPlaceholder\n",
    "from langchain_openai import ChatOpenAI\n",
    "from langchain_core.output_parsers import StrOutputParser\n",
    "from langchain_core.tools import tool\n",
    "from langchain.agents import AgentExecutor\n",
    "from langchain_core.utils.function_calling import convert_to_openai_function\n",
    "from langchain.agents.format_scratchpad import format_to_openai_function_messages \n",
    "from langchain.agents.output_parsers import OpenAIFunctionsAgentOutputParser\n",
    "from IPython.display import Markdown\n",
    "from dotenv import load_dotenv, find_dotenv"
   ]
  },
  {
   "cell_type": "code",
   "execution_count": 2,
   "id": "09304efc-c85e-463c-9ea1-192477ead5c7",
   "metadata": {},
   "outputs": [
    {
     "data": {
      "text/plain": [
       "True"
      ]
     },
     "execution_count": 2,
     "metadata": {},
     "output_type": "execute_result"
    }
   ],
   "source": [
    "load_dotenv(find_dotenv())"
   ]
  },
  {
   "cell_type": "markdown",
   "id": "f3f2f0ab",
   "metadata": {},
   "source": [
    "## Normal Execution"
   ]
  },
  {
   "cell_type": "code",
   "execution_count": 3,
   "id": "b82a28f7",
   "metadata": {},
   "outputs": [],
   "source": [
    "prompt = \"\"\"GENERAL INSTRUCTIONS\n",
    "You are a domain expert. Your task is to break down a complex question into simpler sub-parts so that it will be \n",
    "easier to answer a complex question. Think of it as step by step approach to reach to a solution.\n",
    "\n",
    "USER QUESTION\n",
    "{user_question}\n",
    "\n",
    "ANSWER FORMAT\n",
    "Provide sub questions in dictionary format with key as \"sub-questions\" and sub questions in list as value of the dictionary\n",
    "\"\"\""
   ]
  },
  {
   "cell_type": "code",
   "execution_count": 4,
   "id": "f4140124",
   "metadata": {},
   "outputs": [],
   "source": [
    "prompt = \"\"\"\n",
    "You are a helpful assistant which answers user's questions. For a complex question which you think\n",
    "you need some help, then you can request some help from available help or use tool from available tool.\n",
    "\n",
    "USER QUESTION\n",
    "{user_question}\n",
    "\n",
    "AVAIALABLE TOOL\n",
    "1) Search Tool\n",
    "2) Math Tool\n",
    "\n",
    "AVAILABLE HELP\n",
    "Decomposition: Breaks complex question into simple sub questions to reach to the final answer\n",
    "\n",
    "Provide final answer in a dictionary format with keys as 'Tool_Request' and 'Helper_Request'\n",
    "\n",
    "Update the value of the key if you used the help or the tool. If you doesn't use then update it with \"Not Required\".\n",
    "\n",
    "NO PREAMBLE NEEDED.\n",
    "\"\"\""
   ]
  },
  {
   "cell_type": "code",
   "execution_count": 5,
   "id": "7e11ea56",
   "metadata": {},
   "outputs": [],
   "source": [
    "prompt_template = ChatPromptTemplate.from_template(prompt)\n",
    "\n",
    "llm = ChatOpenAI(model=\"gpt-4o-mini\", temperature=0, api_key=os.environ[\"OPENAI_API_KEY\"])\n",
    "\n",
    "chain = prompt_template | llm | StrOutputParser()"
   ]
  },
  {
   "cell_type": "code",
   "execution_count": 6,
   "id": "3f1d00f6",
   "metadata": {},
   "outputs": [
    {
     "data": {
      "text/plain": [
       "{'Tool_Request': 'Search Tool', 'Helper_Request': 'Not Required'}"
      ]
     },
     "execution_count": 6,
     "metadata": {},
     "output_type": "execute_result"
    }
   ],
   "source": [
    "json.loads(chain.invoke(\"how much did the revenue increaases for Apple between Q1 of 2024 and Q2 of 2024?\"))"
   ]
  },
  {
   "cell_type": "markdown",
   "id": "e9f90a7a",
   "metadata": {},
   "source": [
    "## Started with Tools"
   ]
  },
  {
   "cell_type": "code",
   "execution_count": 7,
   "id": "ea2d04ea",
   "metadata": {},
   "outputs": [],
   "source": [
    "# first tool -  Calculator\n",
    "\n",
    "@tool\n",
    "def calculate(operation):\n",
    "    \"\"\"Useful to perform any mathematical calculations,\n",
    "    like sum, minus, multiplication, division, etc.\n",
    "    The input to this tool should be a mathematical\n",
    "    expression, a couple examples are `200*7` or `5000/2*10`\n",
    "    \"\"\"\n",
    "    try:\n",
    "        return eval(operation)\n",
    "    except SyntaxError:\n",
    "        return \"Error: Invalid syntax in mathematical expression\"\n",
    "    \n",
    "# Second tool - Search tool\n",
    "\n",
    "@tool\n",
    "def search_internet(query):\n",
    "    \"\"\"Useful to search the internet\n",
    "        about a a given topic and return relevant results\"\"\"\n",
    "    try:\n",
    "        top_result_to_return = 4\n",
    "        url = \"https://google.serper.dev/search\"\n",
    "        payload = json.dumps({\"q\": query})\n",
    "        headers = {\n",
    "            'X-API-KEY': os.environ['SERPER_API_KEY'],\n",
    "            'content-type': 'application/json'\n",
    "        }\n",
    "        response = requests.request(\"POST\", url, headers=headers, data=payload)\n",
    "        # check if there is an organic key\n",
    "        if 'organic' not in response.json():\n",
    "            return \"Sorry, I couldn't find anything about that, there could be an error with you serper api key.\"\n",
    "        else:\n",
    "            results = response.json()['organic']\n",
    "            string = []\n",
    "            for result in results[:top_result_to_return]:\n",
    "                try:\n",
    "                    string.append('\\n'.join([\n",
    "                        f\"Title: {result['title']}\", f\"Link: {result['link']}\",\n",
    "                        f\"Snippet: {result['snippet']}\", \"\\n-----------------\"\n",
    "                    ]))\n",
    "                except KeyError:\n",
    "                    next\n",
    "\n",
    "            return '\\n'.join(string)\n",
    "    except Exception:\n",
    "        print(\"Exception occurred in search tool\")\n"
   ]
  },
  {
   "cell_type": "code",
   "execution_count": 8,
   "id": "da0f775f",
   "metadata": {},
   "outputs": [],
   "source": [
    "available_tools = [\n",
    "    calculate,\n",
    "    search_internet\n",
    "]\n",
    "\n",
    "functions = [convert_to_openai_function(f) for f in available_tools]"
   ]
  },
  {
   "cell_type": "code",
   "execution_count": 9,
   "id": "382d785b",
   "metadata": {},
   "outputs": [
    {
     "data": {
      "text/plain": [
       "[{'name': 'calculate',\n",
       "  'description': 'Useful to perform any mathematical calculations,\\n    like sum, minus, multiplication, division, etc.\\n    The input to this tool should be a mathematical\\n    expression, a couple examples are `200*7` or `5000/2*10`',\n",
       "  'parameters': {'properties': {'operation': {}},\n",
       "   'required': ['operation'],\n",
       "   'type': 'object'}},\n",
       " {'name': 'search_internet',\n",
       "  'description': 'Useful to search the internet\\n        about a a given topic and return relevant results',\n",
       "  'parameters': {'properties': {'query': {}},\n",
       "   'required': ['query'],\n",
       "   'type': 'object'}}]"
      ]
     },
     "execution_count": 9,
     "metadata": {},
     "output_type": "execute_result"
    }
   ],
   "source": [
    "functions"
   ]
  },
  {
   "cell_type": "code",
   "execution_count": 10,
   "id": "634fc3ac",
   "metadata": {},
   "outputs": [],
   "source": [
    "llm = ChatOpenAI(model=\"gpt-4o-mini\", temperature=0, api_key=os.environ[\"OPENAI_API_KEY\"])\n",
    "\n",
    "llm_with_tools = llm.bind(functions=functions)"
   ]
  },
  {
   "cell_type": "code",
   "execution_count": 11,
   "id": "174fa0f0",
   "metadata": {},
   "outputs": [],
   "source": [
    "prompt = ChatPromptTemplate.from_messages(\n",
    "[\n",
    "    (\"system\",\"you are a helpful AI assistant which helps users to resolve their queries\"),\n",
    "    (\"user\", \"{question}\"),\n",
    "    MessagesPlaceholder(variable_name=\"agent_scratchpad\"),\n",
    "])"
   ]
  },
  {
   "cell_type": "code",
   "execution_count": 12,
   "id": "f6996f77",
   "metadata": {},
   "outputs": [],
   "source": [
    "chain = prompt | llm_with_tools | OpenAIFunctionsAgentOutputParser()"
   ]
  },
  {
   "cell_type": "code",
   "execution_count": 13,
   "id": "1c558e7c",
   "metadata": {},
   "outputs": [],
   "source": [
    "agent = (\n",
    "{\n",
    "    \"question\": lambda x: x[\"question\"],\n",
    "    \"agent_scratchpad\": lambda x: format_to_openai_function_messages(\n",
    "        x[\"intermediate_steps\"]\n",
    "    ),\n",
    "}\n",
    "| prompt\n",
    "| llm_with_tools\n",
    "| OpenAIFunctionsAgentOutputParser()\n",
    ")\n"
   ]
  },
  {
   "cell_type": "code",
   "execution_count": 14,
   "id": "a7f3701c",
   "metadata": {},
   "outputs": [],
   "source": [
    "agent_executor = AgentExecutor(agent=agent, tools=available_tools, verbose=True)"
   ]
  },
  {
   "cell_type": "code",
   "execution_count": 15,
   "id": "a8390013",
   "metadata": {},
   "outputs": [
    {
     "name": "stdout",
     "output_type": "stream",
     "text": [
      "\n",
      "\n",
      "\u001b[1m> Entering new AgentExecutor chain...\u001b[0m\n",
      "\u001b[32;1m\u001b[1;3m\n",
      "Invoking: `search_internet` with `{'query': 'Google revenue Q1 2024 Q2 2024'}`\n",
      "\n",
      "\n",
      "\u001b[0m\u001b[33;1m\u001b[1;3mTitle: [PDF] Alphabet Announces Second Quarter 2024 Results\n",
      "Link: https://abc.xyz/assets/19/e4/3dc1d4d6439c81206370167db1bd/2024q2-alphabet-earnings-release.pdf\n",
      "Snippet: Ruth Porat, President and Chief Investment Officer; CFO said: “We delivered revenues of $85 billion, up 14% year- on-year driven by Search as ...\n",
      "\n",
      "-----------------\n",
      "Title: [PDF] GOOG Exhibit 99.1 Q1 2024 - Alphabet Inc.\n",
      "Link: https://abc.xyz/assets/91/b3/3f9213d14ce3ae27e1038e01a0e0/2024q1-alphabet-earnings-release-pdf.pdf\n",
      "Snippet: Google Cloud generates revenues primarily from consumption-based fees and subscriptions received for Google Cloud Platform services, Google ...\n",
      "\n",
      "-----------------\n",
      "Title: Alphabet Announces Second Quarter 2024 Results - SEC.gov\n",
      "Link: https://www.sec.gov/Archives/edgar/data/1652044/000165204424000076/googexhibit991q22024.htm\n",
      "Snippet: We delivered revenues of $85 billion, up 14% year-on-year driven by Search as well as Cloud, which for the first time exceeded $10 billion in quarterly ...\n",
      "\n",
      "-----------------\n",
      "Title: Alphabet Second Quarter 2024 Earnings: EPS Beats Expectations\n",
      "Link: https://finance.yahoo.com/news/alphabet-second-quarter-2024-earnings-131726123.html\n",
      "Snippet: Alphabet (NASDAQ:GOOGL) Second Quarter 2024 Results. Key Financial Results. Revenue: US$84.7b (up 14% from 2Q 2023).\n",
      "\n",
      "-----------------\u001b[0m\u001b[32;1m\u001b[1;3m\n",
      "Invoking: `search_internet` with `{'query': 'Google revenue Q1 2024'}`\n",
      "\n",
      "\n",
      "\u001b[0m\u001b[33;1m\u001b[1;3mTitle: [PDF] GOOG Exhibit 99.1 Q1 2024 - Alphabet Inc.\n",
      "Link: https://abc.xyz/assets/91/b3/3f9213d14ce3ae27e1038e01a0e0/2024q1-alphabet-earnings-release-pdf.pdf\n",
      "Snippet: Google Services generates revenues primarily from advertising; fees received for consumer subscription-based products such as YouTube TV, ...\n",
      "\n",
      "-----------------\n",
      "Title: [PDF] Alphabet Announces Fourth Quarter and Fiscal Year 2024 Results\n",
      "Link: https://abc.xyz/assets/a3/91/6d1950c148fa84c7d699abe05284/2024q4-alphabet-earnings-release.pdf\n",
      "Snippet: Google Services revenues increased 10% to $84.1 billion, reflecting the strong momentum across Google. Search & other and YouTube ads. •. Google ...\n",
      "\n",
      "-----------------\n",
      "Title: Alphabet Inc (GOOGL) Q1 2024 Earnings: Exceeds Revenue ...\n",
      "Link: https://finance.yahoo.com/news/alphabet-inc-googl-q1-2024-214204233.html\n",
      "Snippet: For Q1 2024, Alphabet reported revenues of $80.5 billion, a 15% increase from the previous year, surpassing the estimated $78.59 billion. This ...\n",
      "\n",
      "-----------------\n",
      "Title: Alphabet Announces First Quarter 2024 Results - SEC.gov\n",
      "Link: https://www.sec.gov/Archives/edgar/data/1652044/000165204424000047/googexhibit991q12024.htm\n",
      "Snippet: (1)Total constant currency revenues of $80.9 billion for the quarter ended March 31, 2024 increased $11.2 billion compared to $69.7 billion in ...\n",
      "\n",
      "-----------------\u001b[0m\u001b[32;1m\u001b[1;3mIn Q1 2024, Google (Alphabet Inc.) reported revenues of **$80.5 billion**. In Q2 2024, the revenue was **$85 billion**. \n",
      "\n",
      "To find the difference in revenue between Q2 2024 and Q1 2024:\n",
      "\n",
      "\\[\n",
      "\\text{Difference} = \\text{Revenue in Q2 2024} - \\text{Revenue in Q1 2024} = 85 \\text{ billion} - 80.5 \\text{ billion} = 4.5 \\text{ billion}\n",
      "\\]\n",
      "\n",
      "Thus, the difference in revenue between Q2 2024 and Q1 2024 is **$4.5 billion**.\u001b[0m\n",
      "\n",
      "\u001b[1m> Finished chain.\u001b[0m\n"
     ]
    },
    {
     "data": {
      "text/plain": [
       "{'question': 'Can you provide me the difference between the revenue of Google between Q1 2024 and Q2 2024?',\n",
       " 'output': 'In Q1 2024, Google (Alphabet Inc.) reported revenues of **$80.5 billion**. In Q2 2024, the revenue was **$85 billion**. \\n\\nTo find the difference in revenue between Q2 2024 and Q1 2024:\\n\\n\\\\[\\n\\\\text{Difference} = \\\\text{Revenue in Q2 2024} - \\\\text{Revenue in Q1 2024} = 85 \\\\text{ billion} - 80.5 \\\\text{ billion} = 4.5 \\\\text{ billion}\\n\\\\]\\n\\nThus, the difference in revenue between Q2 2024 and Q1 2024 is **$4.5 billion**.'}"
      ]
     },
     "execution_count": 15,
     "metadata": {},
     "output_type": "execute_result"
    }
   ],
   "source": [
    "agent_executor.invoke({\"question\": \"Can you provide me the difference between the revenue of Google between Q1 2024 and Q2 2024?\"})"
   ]
  },
  {
   "cell_type": "code",
   "execution_count": 16,
   "id": "27ff7cf3",
   "metadata": {},
   "outputs": [
    {
     "name": "stdout",
     "output_type": "stream",
     "text": [
      "\n",
      "\n",
      "\u001b[1m> Entering new AgentExecutor chain...\u001b[0m\n",
      "\u001b[32;1m\u001b[1;3mHello! How can I assist you today?\u001b[0m\n",
      "\n",
      "\u001b[1m> Finished chain.\u001b[0m\n"
     ]
    },
    {
     "data": {
      "text/plain": [
       "{'question': 'Hello there', 'output': 'Hello! How can I assist you today?'}"
      ]
     },
     "execution_count": 16,
     "metadata": {},
     "output_type": "execute_result"
    }
   ],
   "source": [
    "agent_executor.invoke(\n",
    "    {\n",
    "        \"question\": \"\"\"Hello there\"\"\"\n",
    "    }\n",
    ")"
   ]
  },
  {
   "cell_type": "code",
   "execution_count": 17,
   "id": "d3d46a15-bed8-450c-b761-ebe3a2753ad9",
   "metadata": {},
   "outputs": [],
   "source": [
    "class CustomAgent:\n",
    "\n",
    "    def __init__(self) -> None:\n",
    "        self.OPENAI_LLM =  ChatOpenAI(model=\"gpt-4o-mini\", temperature=0, api_key=os.environ[\"OPENAI_API_KEY\"])\n",
    "        self.GROQ_LLM = ChatGroq(model=\"llama-3.1-70b-versatile\", api_key=os.environ[\"GROQ_API_KEY\"], temperature=0)\n",
    "\n",
    "    @staticmethod\n",
    "    @tool\n",
    "    def calculate(operation):\n",
    "        \"\"\"Useful to perform any mathematical calculations,\n",
    "        like sum, minus, multiplication, division, etc.\n",
    "        The input to this tool should be a mathematical\n",
    "        expression, a couple examples are `200*7` or `5000/2*10`\n",
    "        \"\"\"\n",
    "        try:\n",
    "            return eval(operation)\n",
    "        except SyntaxError:\n",
    "            return \"Error: Invalid syntax in mathematical expression\"\n",
    "        \n",
    "\n",
    "    @staticmethod\n",
    "    @tool\n",
    "    def search_internet(query):\n",
    "        \"\"\"Useful to search the internet\n",
    "            about a a given topic and return relevant results\"\"\"\n",
    "        try:\n",
    "            top_result_to_return = 4\n",
    "            url = \"https://google.serper.dev/search\"\n",
    "            payload = json.dumps({\"q\": query})\n",
    "            headers = {\n",
    "                'X-API-KEY': os.environ['SERPER_API_KEY'],\n",
    "                'content-type': 'application/json'\n",
    "            }\n",
    "            response = requests.request(\"POST\", url, headers=headers, data=payload)\n",
    "            # check if there is an organic key\n",
    "            if 'organic' not in response.json():\n",
    "                return \"Sorry, I couldn't find anything about that, there could be an error with you serper api key.\"\n",
    "            else:\n",
    "                results = response.json()['organic']\n",
    "                string = []\n",
    "                for result in results[:top_result_to_return]:\n",
    "                    try:\n",
    "                        string.append('\\n'.join([\n",
    "                            f\"Title: {result['title']}\", f\"Link: {result['link']}\",\n",
    "                            f\"Snippet: {result['snippet']}\", \"\\n-----------------\"\n",
    "                        ]))\n",
    "                    except KeyError:\n",
    "                        next\n",
    "\n",
    "                return '\\n'.join(string)\n",
    "        except Exception:\n",
    "            print(\"Exception occurred in search tool\")\n",
    "\n",
    "    \n",
    "    def get_agent_output(self, question: str):\n",
    "\n",
    "        available_tools = [\n",
    "            calculate,\n",
    "            search_internet\n",
    "        ]\n",
    "\n",
    "        functions = [convert_to_openai_function(f) for f in available_tools]\n",
    "\n",
    "        llm = self.OPENAI_LLM\n",
    "\n",
    "        llm_with_tools = llm.bind(functions=functions)\n",
    "\n",
    "        prompt = ChatPromptTemplate.from_messages(\n",
    "            [\n",
    "                (\"system\",\"you are a helpful AI assistant which helps users to resolve their queries\"),\n",
    "                (\"user\", \"{question}\"),\n",
    "                MessagesPlaceholder(variable_name=\"agent_scratchpad\"),\n",
    "            ])\n",
    "        \n",
    "        agent = (\n",
    "        {\n",
    "            \"question\": lambda x: x[\"question\"],\n",
    "            \"agent_scratchpad\": lambda x: format_to_openai_function_messages(\n",
    "                x[\"intermediate_steps\"]\n",
    "            ),\n",
    "        }\n",
    "        | prompt\n",
    "        | llm_with_tools\n",
    "        | OpenAIFunctionsAgentOutputParser())\n",
    "\n",
    "\n",
    "        agent_executor = AgentExecutor(agent=agent, tools=available_tools)\n",
    "\n",
    "        return agent_executor.invoke({\"question\": question})\n"
   ]
  },
  {
   "cell_type": "code",
   "execution_count": 18,
   "id": "661e40fe-d6cc-46d3-9140-3a977df90b61",
   "metadata": {},
   "outputs": [],
   "source": [
    "custom_agent = CustomAgent()"
   ]
  },
  {
   "cell_type": "code",
   "execution_count": 19,
   "id": "640fbfab",
   "metadata": {},
   "outputs": [],
   "source": [
    "user_question = \"Can you provide me the difference between the revenue of Google between Q1 2024 and Q2 2024?\""
   ]
  },
  {
   "cell_type": "code",
   "execution_count": 20,
   "id": "72e91fdd-bf37-476a-aa94-d4096df4eefd",
   "metadata": {},
   "outputs": [],
   "source": [
    "output = custom_agent.get_agent_output(\n",
    "    question=user_question\n",
    ")"
   ]
  },
  {
   "cell_type": "code",
   "execution_count": 21,
   "id": "162e0fdc",
   "metadata": {},
   "outputs": [
    {
     "data": {
      "text/markdown": [
       "The revenue for Google (Alphabet Inc.) in Q1 2024 was $80.5 billion, while in Q2 2024, it was $84.7 billion. \n",
       "\n",
       "To find the difference in revenue between Q1 2024 and Q2 2024:\n",
       "\n",
       "\\[\n",
       "\\text{Difference} = \\text{Q2 Revenue} - \\text{Q1 Revenue} = 84.7 \\, \\text{billion} - 80.5 \\, \\text{billion} = 4.2 \\, \\text{billion}\n",
       "\\]\n",
       "\n",
       "Thus, the difference in revenue between Q1 2024 and Q2 2024 is $4.2 billion."
      ],
      "text/plain": [
       "<IPython.core.display.Markdown object>"
      ]
     },
     "execution_count": 21,
     "metadata": {},
     "output_type": "execute_result"
    }
   ],
   "source": [
    "Markdown(output[\"output\"])"
   ]
  },
  {
   "cell_type": "code",
   "execution_count": 22,
   "id": "383b4867",
   "metadata": {},
   "outputs": [],
   "source": [
    "user_question = \"\"\"\n",
    "Can you comment on the on going war between Iran and Israel?\\\n",
    "Why these 2 nations are fighting each other? Will this lead to World War 3?\\\n",
    "What's your opninion here?\n",
    "\"\"\"\n",
    "\n",
    "output = custom_agent.get_agent_output(\n",
    "    question=user_question\n",
    ")"
   ]
  },
  {
   "cell_type": "code",
   "execution_count": 23,
   "id": "78f48eea",
   "metadata": {},
   "outputs": [
    {
     "data": {
      "text/markdown": [
       "The ongoing conflict between Iran and Israel is deeply rooted in historical, political, and ideological differences. Here are some key points regarding the situation:\n",
       "\n",
       "1. **Historical Context**: The animosity between Iran and Israel has been escalating since the 1979 Iranian Revolution, which led to the establishment of the Islamic Republic of Iran. Iran's leadership views Israel as a primary adversary, often referring to it as an \"illegitimate\" state.\n",
       "\n",
       "2. **Current Escalation**: Recent reports indicate that tensions have significantly increased, with Iran launching missile attacks against Israel. This is part of a broader pattern of hostilities that includes proxy conflicts involving groups like Hezbollah in Lebanon and Hamas in Gaza, which are supported by Iran.\n",
       "\n",
       "3. **Regional Dynamics**: The conflict is not just bilateral; it involves various regional players and has implications for global security. The involvement of other nations, including the United States and various Arab states, complicates the situation further.\n",
       "\n",
       "4. **Potential for Wider Conflict**: While the situation is tense, predicting a full-scale World War III is speculative. However, the risk of escalation into a broader conflict exists, especially if other nations become involved or if there are significant miscalculations on either side.\n",
       "\n",
       "5. **Conclusion**: The conflict between Iran and Israel is complex and multifaceted, driven by a mix of ideological, political, and military factors. While the potential for escalation is real, the international community is likely to seek diplomatic solutions to prevent a wider war.\n",
       "\n",
       "In summary, the situation remains fluid, and while it poses significant risks, the outcome will depend on various factors, including diplomatic efforts and the actions of other regional and global powers."
      ],
      "text/plain": [
       "<IPython.core.display.Markdown object>"
      ]
     },
     "execution_count": 23,
     "metadata": {},
     "output_type": "execute_result"
    }
   ],
   "source": [
    "Markdown(output[\"output\"])"
   ]
  },
  {
   "cell_type": "code",
   "execution_count": 24,
   "id": "14afeba2",
   "metadata": {},
   "outputs": [],
   "source": [
    "user_question = \"\"\"\n",
    "what are the ongoing issues going for canada?\n",
    "\"\"\"\n",
    "\n",
    "output = custom_agent.get_agent_output(\n",
    "    question=user_question\n",
    ")"
   ]
  },
  {
   "cell_type": "code",
   "execution_count": 25,
   "id": "68aedca4",
   "metadata": {},
   "outputs": [
    {
     "data": {
      "text/markdown": [
       "As of 2023, Canada is facing several ongoing issues, including:\n",
       "\n",
       "1. **Income Inequality**: There has been a reported increase in income inequality, which has been a growing concern as the country emerges from the COVID-19 pandemic.\n",
       "\n",
       "2. **Housing Crisis**: Issues related to low income, overcrowded or inadequate housing, and lack of access to affordable housing are significant challenges.\n",
       "\n",
       "3. **Education Disparities**: A lack of high school diplomas among certain populations is contributing to ongoing social issues.\n",
       "\n",
       "4. **Racism and Discrimination**: The Canadian government is actively working on an Anti-Racism Strategy to combat increasing levels of racism and discrimination.\n",
       "\n",
       "5. **Economic Challenges**: There are concerns about skyrocketing national debt and falling living standards, which are affecting the overall economic stability of the country.\n",
       "\n",
       "6. **Sustainable Development Goals**: Canada is also focused on addressing various social, economic, and environmental challenges as part of its commitment to the Sustainable Development Goals.\n",
       "\n",
       "These issues reflect a complex landscape that the country is navigating in 2023. For more detailed information, you can refer to the sources linked in the search results."
      ],
      "text/plain": [
       "<IPython.core.display.Markdown object>"
      ]
     },
     "execution_count": 25,
     "metadata": {},
     "output_type": "execute_result"
    }
   ],
   "source": [
    "Markdown(output[\"output\"])"
   ]
  },
  {
   "cell_type": "markdown",
   "id": "01221cc5-bc1f-435a-b206-d58c79813317",
   "metadata": {},
   "source": [
    "## Using CrewAI"
   ]
  },
  {
   "cell_type": "markdown",
   "id": "514d6004-1842-4f68-81f0-f5dc5d566404",
   "metadata": {},
   "source": [
    "### Simple Agent"
   ]
  },
  {
   "cell_type": "code",
   "execution_count": 27,
   "id": "a80f280c",
   "metadata": {},
   "outputs": [],
   "source": [
    "from crewai import Agent, Crew, Process, Task, LLM"
   ]
  },
  {
   "cell_type": "code",
   "execution_count": 29,
   "id": "b2357653",
   "metadata": {},
   "outputs": [],
   "source": [
    "# using Llama 3.3 from Groq\n",
    "llama_llm = LLM(\n",
    "    model=\"groq/llama-3.3-70b-versatile\",\n",
    "    temperature=0.7\n",
    ")"
   ]
  },
  {
   "cell_type": "code",
   "execution_count": 48,
   "id": "fac821d7",
   "metadata": {},
   "outputs": [],
   "source": [
    "simple_agent = Agent(\n",
    "    role=\"you are a helpful AI agent responds to the user's queries\",\n",
    "    goal=\"Your goal is to understand the user query completely and then respond with a answer which the user is looking for\",\n",
    "    backstory=\"\"\"\n",
    "    You are a helpful AI Agent which helps to resolve the user's query. The user might face some issue\n",
    "    and you need to provide resolution best to your knowledge. The answer should be accurate and doesn't contain any error\n",
    "    \"\"\",\n",
    "    llm=llama_llm  # Assign the LLM to the agent\n",
    ")"
   ]
  },
  {
   "cell_type": "code",
   "execution_count": 49,
   "id": "5bb03df1-7d21-4396-8321-edd2909cebf3",
   "metadata": {},
   "outputs": [],
   "source": [
    "# Define a task for the agent\n",
    "task = Task(\n",
    "    description=\"Respond to the user's query: {input}\",\n",
    "    agent=simple_agent,\n",
    "    expected_output=\"An accurate answer to the user's query\"\n",
    ")\n"
   ]
  },
  {
   "cell_type": "code",
   "execution_count": 50,
   "id": "dc4dcce7",
   "metadata": {},
   "outputs": [],
   "source": [
    "crew = Crew(\n",
    "    agents=[simple_agent],\n",
    "    tasks=[task]\n",
    ")"
   ]
  },
  {
   "cell_type": "code",
   "execution_count": 52,
   "id": "b5c3a318-01a0-40d7-b591-d8d804d5abc8",
   "metadata": {},
   "outputs": [],
   "source": [
    "result = crew.kickoff({\"input\":\"what is the 2+2?\"})"
   ]
  },
  {
   "cell_type": "code",
   "execution_count": 53,
   "id": "a479fda8-c94e-478f-b1cb-5324fd1db422",
   "metadata": {},
   "outputs": [
    {
     "name": "stdout",
     "output_type": "stream",
     "text": [
      "The answer to the equation 2+2 is 4.\n"
     ]
    }
   ],
   "source": [
    "print(result)"
   ]
  },
  {
   "cell_type": "code",
   "execution_count": null,
   "id": "36b16d15-c228-4b56-b9d4-67dcb94524a5",
   "metadata": {},
   "outputs": [],
   "source": []
  }
 ],
 "metadata": {
  "kernelspec": {
   "display_name": "Python 3 (ipykernel)",
   "language": "python",
   "name": "python3"
  },
  "language_info": {
   "codemirror_mode": {
    "name": "ipython",
    "version": 3
   },
   "file_extension": ".py",
   "mimetype": "text/x-python",
   "name": "python",
   "nbconvert_exporter": "python",
   "pygments_lexer": "ipython3",
   "version": "3.11.4"
  }
 },
 "nbformat": 4,
 "nbformat_minor": 5
}
