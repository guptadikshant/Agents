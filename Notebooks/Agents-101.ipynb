{
 "cells": [
  {
   "cell_type": "markdown",
   "id": "9ded7b5b-bff4-4850-add3-04d31d4ee7c9",
   "metadata": {},
   "source": [
    "[Example Notebook](https://colab.research.google.com/drive/1bPhY1Awz0NIuzGy9RX72eZRB10FwZY0j?usp=sharing#scrollTo=6o7h7-SdMKHK)"
   ]
  },
  {
   "cell_type": "code",
   "execution_count": 38,
   "id": "e795c826-1ceb-42d3-b7e2-f4ffb179a00d",
   "metadata": {},
   "outputs": [],
   "source": [
    "import os\n",
    "import requests\n",
    "import json\n",
    "from langchain_groq import ChatGroq\n",
    "from langchain_core.prompts import ChatPromptTemplate\n",
    "from langchain_core.prompts.chat import MessagesPlaceholder\n",
    "from langchain_openai import ChatOpenAI\n",
    "from langchain_core.output_parsers import StrOutputParser\n",
    "from langchain_core.tools import tool\n",
    "from langchain.agents import AgentExecutor\n",
    "from langchain_core.utils.function_calling import convert_to_openai_function\n",
    "from langchain.agents.format_scratchpad import format_to_openai_function_messages \n",
    "from langchain.agents.output_parsers import OpenAIFunctionsAgentOutputParser\n",
    "from IPython.display import Markdown\n",
    "from dotenv import load_dotenv, find_dotenv"
   ]
  },
  {
   "cell_type": "code",
   "execution_count": 2,
   "id": "09304efc-c85e-463c-9ea1-192477ead5c7",
   "metadata": {},
   "outputs": [
    {
     "data": {
      "text/plain": [
       "True"
      ]
     },
     "execution_count": 2,
     "metadata": {},
     "output_type": "execute_result"
    }
   ],
   "source": [
    "load_dotenv(find_dotenv())"
   ]
  },
  {
   "cell_type": "markdown",
   "id": "f3f2f0ab",
   "metadata": {},
   "source": [
    "## Normal Execution"
   ]
  },
  {
   "cell_type": "code",
   "execution_count": 45,
   "id": "b82a28f7",
   "metadata": {},
   "outputs": [],
   "source": [
    "prompt = \"\"\"GENERAL INSTRUCTIONS\n",
    "You are a domain expert. Your task is to break down a complex question into simpler sub-parts so that it will be \n",
    "easier to answer a complex question. Think of it as step by step approach to reach to a solution.\n",
    "\n",
    "USER QUESTION\n",
    "{user_question}\n",
    "\n",
    "ANSWER FORMAT\n",
    "Provide sub questions in dictionary format with key as \"sub-questions\" and sub questions in list as value of the dictionary\n",
    "\"\"\""
   ]
  },
  {
   "cell_type": "code",
   "execution_count": 57,
   "id": "f4140124",
   "metadata": {},
   "outputs": [],
   "source": [
    "prompt = \"\"\"\n",
    "You are a helpful assistant which answers user's questions. For a complex question which you think\n",
    "you need some help, then you can request some help from available help or use tool from available tool.\n",
    "\n",
    "USER QUESTION\n",
    "{user_question}\n",
    "\n",
    "AVAIALABLE TOOL\n",
    "1) Search Tool\n",
    "2) Math Tool\n",
    "\n",
    "AVAILABLE HELP\n",
    "Decomposition: Breaks complex question into simple sub questions to reach to the final answer\n",
    "\n",
    "Provide final answer in a dictionary format with keys as 'Tool_Request' and 'Helper_Request'\n",
    "\n",
    "Update the value of the key if you used the help or the tool. If you doesn't use then update it with \"Not Required\".\n",
    "\n",
    "NO PREAMBLE NEEDED.\n",
    "\"\"\""
   ]
  },
  {
   "cell_type": "code",
   "execution_count": 61,
   "id": "7e11ea56",
   "metadata": {},
   "outputs": [],
   "source": [
    "prompt_template = ChatPromptTemplate.from_template(prompt)\n",
    "\n",
    "llm = ChatOpenAI(model=\"gpt-4o-mini\", temperature=0, api_key=os.environ[\"OPENAI_API_KEY\"])\n",
    "\n",
    "chain = prompt_template | llm | StrOutputParser()"
   ]
  },
  {
   "cell_type": "code",
   "execution_count": 63,
   "id": "3f1d00f6",
   "metadata": {},
   "outputs": [
    {
     "data": {
      "text/plain": [
       "{'Tool_Request': 'Search Tool', 'Helper_Request': 'Not Required'}"
      ]
     },
     "execution_count": 63,
     "metadata": {},
     "output_type": "execute_result"
    }
   ],
   "source": [
    "json.loads(chain.invoke(\"how much did the revenue increaases for Apple between Q1 of 2024 and Q2 of 2024?\"))"
   ]
  },
  {
   "cell_type": "markdown",
   "id": "e9f90a7a",
   "metadata": {},
   "source": [
    "## Started with Tools"
   ]
  },
  {
   "cell_type": "code",
   "execution_count": 3,
   "id": "ea2d04ea",
   "metadata": {},
   "outputs": [],
   "source": [
    "# first tool -  Calculator\n",
    "\n",
    "@tool\n",
    "def calculate(operation):\n",
    "    \"\"\"Useful to perform any mathematical calculations,\n",
    "    like sum, minus, multiplication, division, etc.\n",
    "    The input to this tool should be a mathematical\n",
    "    expression, a couple examples are `200*7` or `5000/2*10`\n",
    "    \"\"\"\n",
    "    try:\n",
    "        return eval(operation)\n",
    "    except SyntaxError:\n",
    "        return \"Error: Invalid syntax in mathematical expression\"\n",
    "    \n",
    "# Second tool - Search tool\n",
    "\n",
    "@tool\n",
    "def search_internet(query):\n",
    "    \"\"\"Useful to search the internet\n",
    "        about a a given topic and return relevant results\"\"\"\n",
    "    try:\n",
    "        top_result_to_return = 4\n",
    "        url = \"https://google.serper.dev/search\"\n",
    "        payload = json.dumps({\"q\": query})\n",
    "        headers = {\n",
    "            'X-API-KEY': os.environ['SERPER_API_KEY'],\n",
    "            'content-type': 'application/json'\n",
    "        }\n",
    "        response = requests.request(\"POST\", url, headers=headers, data=payload)\n",
    "        # check if there is an organic key\n",
    "        if 'organic' not in response.json():\n",
    "            return \"Sorry, I couldn't find anything about that, there could be an error with you serper api key.\"\n",
    "        else:\n",
    "            results = response.json()['organic']\n",
    "            string = []\n",
    "            for result in results[:top_result_to_return]:\n",
    "                try:\n",
    "                    string.append('\\n'.join([\n",
    "                        f\"Title: {result['title']}\", f\"Link: {result['link']}\",\n",
    "                        f\"Snippet: {result['snippet']}\", \"\\n-----------------\"\n",
    "                    ]))\n",
    "                except KeyError:\n",
    "                    next\n",
    "\n",
    "            return '\\n'.join(string)\n",
    "    except Exception:\n",
    "        print(\"Exception occurred in search tool\")\n"
   ]
  },
  {
   "cell_type": "code",
   "execution_count": 4,
   "id": "da0f775f",
   "metadata": {},
   "outputs": [],
   "source": [
    "available_tools = [\n",
    "    calculate,\n",
    "    search_internet\n",
    "]\n",
    "\n",
    "functions = [convert_to_openai_function(f) for f in available_tools]"
   ]
  },
  {
   "cell_type": "code",
   "execution_count": 5,
   "id": "382d785b",
   "metadata": {},
   "outputs": [
    {
     "data": {
      "text/plain": [
       "[{'name': 'calculate',\n",
       "  'description': 'Useful to perform any mathematical calculations,\\n    like sum, minus, multiplication, division, etc.\\n    The input to this tool should be a mathematical\\n    expression, a couple examples are `200*7` or `5000/2*10`',\n",
       "  'parameters': {'type': 'object',\n",
       "   'properties': {'operation': {}},\n",
       "   'required': ['operation']}},\n",
       " {'name': 'search_internet',\n",
       "  'description': 'Useful to search the internet\\n        about a a given topic and return relevant results',\n",
       "  'parameters': {'type': 'object',\n",
       "   'properties': {'query': {}},\n",
       "   'required': ['query']}}]"
      ]
     },
     "execution_count": 5,
     "metadata": {},
     "output_type": "execute_result"
    }
   ],
   "source": [
    "functions"
   ]
  },
  {
   "cell_type": "code",
   "execution_count": 6,
   "id": "634fc3ac",
   "metadata": {},
   "outputs": [],
   "source": [
    "llm = ChatOpenAI(model=\"gpt-4o-mini\", temperature=0, api_key=os.environ[\"OPENAI_API_KEY\"])\n",
    "\n",
    "llm_with_tools = llm.bind(functions=functions)"
   ]
  },
  {
   "cell_type": "code",
   "execution_count": 7,
   "id": "174fa0f0",
   "metadata": {},
   "outputs": [],
   "source": [
    "prompt = ChatPromptTemplate.from_messages(\n",
    "[\n",
    "    (\"system\",\"you are a helpful AI assistant which helps users to resolve their queries\"),\n",
    "    (\"user\", \"{question}\"),\n",
    "    MessagesPlaceholder(variable_name=\"agent_scratchpad\"),\n",
    "])"
   ]
  },
  {
   "cell_type": "code",
   "execution_count": 8,
   "id": "f6996f77",
   "metadata": {},
   "outputs": [],
   "source": [
    "chain = prompt | llm_with_tools | OpenAIFunctionsAgentOutputParser()"
   ]
  },
  {
   "cell_type": "code",
   "execution_count": 9,
   "id": "1c558e7c",
   "metadata": {},
   "outputs": [],
   "source": [
    "agent = (\n",
    "{\n",
    "    \"question\": lambda x: x[\"question\"],\n",
    "    \"agent_scratchpad\": lambda x: format_to_openai_function_messages(\n",
    "        x[\"intermediate_steps\"]\n",
    "    ),\n",
    "}\n",
    "| prompt\n",
    "| llm_with_tools\n",
    "| OpenAIFunctionsAgentOutputParser())\n"
   ]
  },
  {
   "cell_type": "code",
   "execution_count": 10,
   "id": "a7f3701c",
   "metadata": {},
   "outputs": [],
   "source": [
    "agent_executor = AgentExecutor(agent=agent, tools=available_tools, verbose=True)"
   ]
  },
  {
   "cell_type": "code",
   "execution_count": 11,
   "id": "a8390013",
   "metadata": {},
   "outputs": [
    {
     "name": "stdout",
     "output_type": "stream",
     "text": [
      "\n",
      "\n",
      "\u001b[1m> Entering new AgentExecutor chain...\u001b[0m\n",
      "\u001b[32;1m\u001b[1;3m\n",
      "Invoking: `search_internet` with `{'query': 'Google revenue Q1 2024 Q2 2024'}`\n",
      "\n",
      "\n",
      "\u001b[0m\u001b[33;1m\u001b[1;3mTitle: [PDF] Alphabet Announces Second Quarter 2024 Results\n",
      "Link: https://abc.xyz/assets/19/e4/3dc1d4d6439c81206370167db1bd/2024q2-alphabet-earnings-release.pdf\n",
      "Snippet: Ruth Porat, President and Chief Investment Officer; CFO said: “We delivered revenues of $85 billion, up 14% year- on-year driven by Search as ...\n",
      "\n",
      "-----------------\n",
      "Title: Google Search Revenue Grows 14% In Q2 2024\n",
      "Link: https://www.searchenginejournal.com/google-search-revenue-grows-14-in-q2-2024/522922/\n",
      "Snippet: Google Search Revenue Grows 14% In Q2 2024 · Google Search revenue: $48.5 billion (up from $42.6 billion in Q2 2023) · Total Alphabet revenue: ...\n",
      "\n",
      "-----------------\n",
      "Title: Alphabet (GOOG, GOOGL) Q2 2024 Earnings: Key financials and ...\n",
      "Link: https://news.alphastreet.com/alphabet-goog-googl-q2-2024-earnings-key-financials-and-quarterly-highlights/\n",
      "Snippet: Alphabet Inc. (NASDAQ: GOOG, GOOGL) reported second quarter 2024 earnings results today. Revenues increased 14% year-over-year to $84.7 billion.\n",
      "\n",
      "-----------------\n",
      "Title: Google's robust Q2 earnings buoyed by significant growth in ...\n",
      "Link: https://www.emarketer.com/content/google-s-robust-q2-earnings-buoyed-by-significant-growth-advertising-revenues-across-search-youtube\n",
      "Snippet: By the numbers: Google parent Alphabet achieved strong results, according to its Q2 earnings. Total revenues: $84.7 billion (14% YoY ...\n",
      "\n",
      "-----------------\u001b[0m\u001b[32;1m\u001b[1;3m\n",
      "Invoking: `search_internet` with `{'query': 'Google revenue Q1 2024'}`\n",
      "\n",
      "\n",
      "\u001b[0m\u001b[33;1m\u001b[1;3mTitle: [PDF] GOOG Exhibit 99.1 Q1 2024 - Alphabet Inc.\n",
      "Link: https://abc.xyz/assets/91/b3/3f9213d14ce3ae27e1038e01a0e0/2024q1-alphabet-earnings-release-pdf.pdf\n",
      "Snippet: Google Cloud generates revenues primarily from consumption-based fees and subscriptions received for Google Cloud Platform services, Google ...\n",
      "\n",
      "-----------------\n",
      "Title: Google: quarterly revenue 2024 | Statista\n",
      "Link: https://www.statista.com/statistics/267606/quarterly-revenue-of-google/\n",
      "Snippet: Google generates around 80 billion U.S. dollars in revenue per quarter. The majority of Google's revenue is via the company's ad business.\n",
      "\n",
      "-----------------\n",
      "Title: Alphabet Inc (GOOGL) Q1 2024 Earnings: Exceeds Revenue ...\n",
      "Link: https://finance.yahoo.com/news/alphabet-inc-googl-q1-2024-214204233.html\n",
      "Snippet: For Q1 2024, Alphabet reported revenues of $80.5 billion, a 15% increase from the previous year, surpassing the estimated $78.59 billion.\n",
      "\n",
      "-----------------\n",
      "Title: Alphabet Announces First Quarter 2024 Results - SEC.gov\n",
      "Link: https://www.sec.gov/Archives/edgar/data/1652044/000165204424000047/googexhibit991q12024.htm\n",
      "Snippet: We delivered revenues of $80.5 billion, up 15% year-on-year, and operating margin expansion.” Q1 2024 Financial Highlights (unaudited). The ...\n",
      "\n",
      "-----------------\u001b[0m\u001b[32;1m\u001b[1;3mIn Q1 2024, Google (Alphabet Inc.) reported revenues of **$80.5 billion**. In Q2 2024, the revenue increased to **$84.7 billion**. \n",
      "\n",
      "To find the difference in revenue between Q2 2024 and Q1 2024:\n",
      "\n",
      "\\[\n",
      "\\text{Difference} = \\text{Q2 Revenue} - \\text{Q1 Revenue} = 84.7 \\, \\text{billion} - 80.5 \\, \\text{billion} = 4.2 \\, \\text{billion}\n",
      "\\]\n",
      "\n",
      "Thus, the difference in revenue between Q2 2024 and Q1 2024 is **$4.2 billion**.\u001b[0m\n",
      "\n",
      "\u001b[1m> Finished chain.\u001b[0m\n"
     ]
    },
    {
     "data": {
      "text/plain": [
       "{'question': 'Can you provide me the difference between the revenue of Google between Q1 2024 and Q2 2024?',\n",
       " 'output': 'In Q1 2024, Google (Alphabet Inc.) reported revenues of **$80.5 billion**. In Q2 2024, the revenue increased to **$84.7 billion**. \\n\\nTo find the difference in revenue between Q2 2024 and Q1 2024:\\n\\n\\\\[\\n\\\\text{Difference} = \\\\text{Q2 Revenue} - \\\\text{Q1 Revenue} = 84.7 \\\\, \\\\text{billion} - 80.5 \\\\, \\\\text{billion} = 4.2 \\\\, \\\\text{billion}\\n\\\\]\\n\\nThus, the difference in revenue between Q2 2024 and Q1 2024 is **$4.2 billion**.'}"
      ]
     },
     "execution_count": 11,
     "metadata": {},
     "output_type": "execute_result"
    }
   ],
   "source": [
    "agent_executor.invoke({\"question\": \"Can you provide me the difference between the revenue of Google between Q1 2024 and Q2 2024?\"})"
   ]
  },
  {
   "cell_type": "code",
   "execution_count": 51,
   "id": "27ff7cf3",
   "metadata": {},
   "outputs": [
    {
     "name": "stdout",
     "output_type": "stream",
     "text": [
      "\n",
      "\n",
      "\u001b[1m> Entering new AgentExecutor chain...\u001b[0m\n",
      "\u001b[32;1m\u001b[1;3mHello! How can I assist you today?\u001b[0m\n",
      "\n",
      "\u001b[1m> Finished chain.\u001b[0m\n"
     ]
    },
    {
     "data": {
      "text/plain": [
       "{'question': 'Hello there', 'output': 'Hello! How can I assist you today?'}"
      ]
     },
     "execution_count": 51,
     "metadata": {},
     "output_type": "execute_result"
    }
   ],
   "source": [
    "agent_executor.invoke(\n",
    "    {\n",
    "        \"question\": \"\"\"Hello there\"\"\"\n",
    "    }\n",
    ")"
   ]
  },
  {
   "cell_type": "code",
   "execution_count": 33,
   "id": "d3d46a15-bed8-450c-b761-ebe3a2753ad9",
   "metadata": {},
   "outputs": [],
   "source": [
    "class CustomAgent:\n",
    "\n",
    "    def __init__(self) -> None:\n",
    "        self.OPENAI_LLM =  ChatOpenAI(model=\"gpt-4o-mini\", temperature=0, api_key=os.environ[\"OPENAI_API_KEY\"])\n",
    "        self.GROQ_LLM = ChatGroq(model=\"llama-3.1-70b-versatile\", api_key=os.environ[\"GROQ_API_KEY\"], temperature=0)\n",
    "\n",
    "    @staticmethod\n",
    "    @tool\n",
    "    def calculate(operation):\n",
    "        \"\"\"Useful to perform any mathematical calculations,\n",
    "        like sum, minus, multiplication, division, etc.\n",
    "        The input to this tool should be a mathematical\n",
    "        expression, a couple examples are `200*7` or `5000/2*10`\n",
    "        \"\"\"\n",
    "        try:\n",
    "            return eval(operation)\n",
    "        except SyntaxError:\n",
    "            return \"Error: Invalid syntax in mathematical expression\"\n",
    "        \n",
    "\n",
    "    @staticmethod\n",
    "    @tool\n",
    "    def search_internet(query):\n",
    "        \"\"\"Useful to search the internet\n",
    "            about a a given topic and return relevant results\"\"\"\n",
    "        try:\n",
    "            top_result_to_return = 4\n",
    "            url = \"https://google.serper.dev/search\"\n",
    "            payload = json.dumps({\"q\": query})\n",
    "            headers = {\n",
    "                'X-API-KEY': os.environ['SERPER_API_KEY'],\n",
    "                'content-type': 'application/json'\n",
    "            }\n",
    "            response = requests.request(\"POST\", url, headers=headers, data=payload)\n",
    "            # check if there is an organic key\n",
    "            if 'organic' not in response.json():\n",
    "                return \"Sorry, I couldn't find anything about that, there could be an error with you serper api key.\"\n",
    "            else:\n",
    "                results = response.json()['organic']\n",
    "                string = []\n",
    "                for result in results[:top_result_to_return]:\n",
    "                    try:\n",
    "                        string.append('\\n'.join([\n",
    "                            f\"Title: {result['title']}\", f\"Link: {result['link']}\",\n",
    "                            f\"Snippet: {result['snippet']}\", \"\\n-----------------\"\n",
    "                        ]))\n",
    "                    except KeyError:\n",
    "                        next\n",
    "\n",
    "                return '\\n'.join(string)\n",
    "        except Exception:\n",
    "            print(\"Exception occurred in search tool\")\n",
    "\n",
    "    \n",
    "    def get_agent_output(self, question: str):\n",
    "\n",
    "        available_tools = [\n",
    "            calculate,\n",
    "            search_internet\n",
    "        ]\n",
    "\n",
    "        functions = [convert_to_openai_function(f) for f in available_tools]\n",
    "\n",
    "        llm = self.OPENAI_LLM\n",
    "\n",
    "        llm_with_tools = llm.bind(functions=functions)\n",
    "\n",
    "        prompt = ChatPromptTemplate.from_messages(\n",
    "            [\n",
    "                (\"system\",\"you are a helpful AI assistant which helps users to resolve their queries\"),\n",
    "                (\"user\", \"{question}\"),\n",
    "                MessagesPlaceholder(variable_name=\"agent_scratchpad\"),\n",
    "            ])\n",
    "        \n",
    "        agent = (\n",
    "        {\n",
    "            \"question\": lambda x: x[\"question\"],\n",
    "            \"agent_scratchpad\": lambda x: format_to_openai_function_messages(\n",
    "                x[\"intermediate_steps\"]\n",
    "            ),\n",
    "        }\n",
    "        | prompt\n",
    "        | llm_with_tools\n",
    "        | OpenAIFunctionsAgentOutputParser())\n",
    "\n",
    "\n",
    "        agent_executor = AgentExecutor(agent=agent, tools=available_tools)\n",
    "\n",
    "        return agent_executor.invoke({\"question\": question})\n"
   ]
  },
  {
   "cell_type": "code",
   "execution_count": 34,
   "id": "661e40fe-d6cc-46d3-9140-3a977df90b61",
   "metadata": {},
   "outputs": [],
   "source": [
    "custom_agent = CustomAgent()"
   ]
  },
  {
   "cell_type": "code",
   "execution_count": 35,
   "id": "640fbfab",
   "metadata": {},
   "outputs": [],
   "source": [
    "user_question = \"Can you provide me the difference between the revenue of Google between Q1 2024 and Q2 2024?\""
   ]
  },
  {
   "cell_type": "code",
   "execution_count": 36,
   "id": "72e91fdd-bf37-476a-aa94-d4096df4eefd",
   "metadata": {},
   "outputs": [],
   "source": [
    "output = custom_agent.get_agent_output(\n",
    "    question=user_question\n",
    ")"
   ]
  },
  {
   "cell_type": "code",
   "execution_count": 39,
   "id": "162e0fdc",
   "metadata": {},
   "outputs": [
    {
     "data": {
      "text/markdown": [
       "In Q1 2024, Google (Alphabet Inc.) reported revenues of **$80.5 billion**. In Q2 2024, the revenue increased to **$85 billion**. \n",
       "\n",
       "To find the difference in revenue between Q2 2024 and Q1 2024:\n",
       "\n",
       "\\[\n",
       "\\text{Difference} = \\text{Revenue in Q2 2024} - \\text{Revenue in Q1 2024} = 85 \\text{ billion} - 80.5 \\text{ billion} = 4.5 \\text{ billion}\n",
       "\\]\n",
       "\n",
       "Thus, the difference in revenue between Q2 2024 and Q1 2024 is **$4.5 billion**."
      ],
      "text/plain": [
       "<IPython.core.display.Markdown object>"
      ]
     },
     "execution_count": 39,
     "metadata": {},
     "output_type": "execute_result"
    }
   ],
   "source": [
    "Markdown(output[\"output\"])"
   ]
  },
  {
   "cell_type": "code",
   "execution_count": 40,
   "id": "383b4867",
   "metadata": {},
   "outputs": [],
   "source": [
    "user_question = \"\"\"\n",
    "Can you comment on the on going war between Iran and Israel?\\\n",
    "Why these 2 nations are fighting each other? Will this lead to World War 3?\\\n",
    "What's your opninion here?\n",
    "\"\"\"\n",
    "\n",
    "output = custom_agent.get_agent_output(\n",
    "    question=user_question\n",
    ")"
   ]
  },
  {
   "cell_type": "code",
   "execution_count": 41,
   "id": "78f48eea",
   "metadata": {},
   "outputs": [
    {
     "data": {
      "text/markdown": [
       "The ongoing conflict between Iran and Israel has escalated significantly in recent weeks, with Iran launching a substantial missile attack on Israel, reportedly involving nearly 200 missiles. This escalation follows a series of tensions and military actions between the two nations, including Israeli strikes on Iranian positions in Syria and the destruction of Iranian military assets.\n",
       "\n",
       "### Reasons for the Conflict\n",
       "1. **Ideological Differences**: Iran, a predominantly Shia Muslim nation, and Israel, a Jewish state, have fundamentally opposing ideologies. Iran's leadership has historically called for the destruction of Israel and supports groups that oppose Israeli existence.\n",
       "   \n",
       "2. **Regional Influence**: Both nations seek to expand their influence in the Middle East. Iran supports various militant groups, such as Hezbollah in Lebanon and Hamas in Gaza, which are in direct conflict with Israel.\n",
       "\n",
       "3. **Nuclear Concerns**: Israel perceives Iran's nuclear program as a direct threat to its existence. The fear of a nuclear-armed Iran has led to preemptive strikes and ongoing military operations against Iranian interests.\n",
       "\n",
       "4. **Proxy Wars**: The conflict often plays out through proxy wars, with both nations supporting opposing sides in regional conflicts, further complicating their relationship.\n",
       "\n",
       "### Potential for World War 3\n",
       "While the situation is tense and could potentially draw in other nations, the likelihood of a full-scale World War 3 is uncertain. Many countries, including the United States, have vested interests in the region and may intervene diplomatically or militarily to prevent a broader conflict. However, the situation remains volatile, and miscalculations could lead to wider hostilities.\n",
       "\n",
       "### Conclusion\n",
       "The Iran-Israel conflict is deeply rooted in historical, ideological, and geopolitical factors. While the recent escalation is concerning, the international community's response will play a crucial role in determining whether this conflict will expand further. It is essential to monitor developments closely, as the situation can change rapidly."
      ],
      "text/plain": [
       "<IPython.core.display.Markdown object>"
      ]
     },
     "execution_count": 41,
     "metadata": {},
     "output_type": "execute_result"
    }
   ],
   "source": [
    "Markdown(output[\"output\"])"
   ]
  },
  {
   "cell_type": "code",
   "execution_count": null,
   "id": "9175abeb",
   "metadata": {},
   "outputs": [],
   "source": [
    "from langchain_community.tools import JiraAction"
   ]
  },
  {
   "cell_type": "code",
   "execution_count": null,
   "id": "14afeba2",
   "metadata": {},
   "outputs": [],
   "source": []
  },
  {
   "cell_type": "code",
   "execution_count": null,
   "id": "68aedca4",
   "metadata": {},
   "outputs": [],
   "source": []
  },
  {
   "cell_type": "code",
   "execution_count": null,
   "id": "5f7df5ac",
   "metadata": {},
   "outputs": [],
   "source": []
  },
  {
   "cell_type": "code",
   "execution_count": null,
   "id": "9a16f0b4",
   "metadata": {},
   "outputs": [],
   "source": []
  },
  {
   "cell_type": "code",
   "execution_count": null,
   "id": "a80f280c",
   "metadata": {},
   "outputs": [],
   "source": []
  },
  {
   "cell_type": "code",
   "execution_count": null,
   "id": "b2357653",
   "metadata": {},
   "outputs": [],
   "source": []
  },
  {
   "cell_type": "code",
   "execution_count": null,
   "id": "fac821d7",
   "metadata": {},
   "outputs": [],
   "source": []
  },
  {
   "cell_type": "code",
   "execution_count": null,
   "id": "dc4dcce7",
   "metadata": {},
   "outputs": [],
   "source": []
  }
 ],
 "metadata": {
  "kernelspec": {
   "display_name": "Python 3",
   "language": "python",
   "name": "python3"
  },
  "language_info": {
   "codemirror_mode": {
    "name": "ipython",
    "version": 3
   },
   "file_extension": ".py",
   "mimetype": "text/x-python",
   "name": "python",
   "nbconvert_exporter": "python",
   "pygments_lexer": "ipython3",
   "version": "3.11.4"
  }
 },
 "nbformat": 4,
 "nbformat_minor": 5
}
