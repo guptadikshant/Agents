{
 "cells": [
  {
   "cell_type": "code",
   "execution_count": 1,
   "id": "8dd3e1bc-e5b2-4581-a3f4-806354b31c81",
   "metadata": {},
   "outputs": [
    {
     "ename": "SyntaxError",
     "evalue": "invalid syntax (1180195894.py, line 1)",
     "output_type": "error",
     "traceback": [
      "  \u001b[36mCell\u001b[39m\u001b[36m \u001b[39m\u001b[32mIn[1]\u001b[39m\u001b[32m, line 1\u001b[39m\n\u001b[31m    \u001b[39m\u001b[31mCapitalize the first letter of each word without using title()\u001b[39m\n               ^\n\u001b[31mSyntaxError\u001b[39m\u001b[31m:\u001b[39m invalid syntax\n"
     ]
    }
   ],
   "source": [
    "# Capitalize the first letter of each word without using title()\n",
    " \n",
    "capitalize_words(\"hello from dikshant\")\n",
    "# Output: 'Hello From Dikshant'"
   ]
  },
  {
   "cell_type": "code",
   "execution_count": 4,
   "id": "eedc37b6-f423-4a52-9b3b-3f057df32b74",
   "metadata": {},
   "outputs": [],
   "source": [
    "def capitalize_words(input_str: str):\n",
    "    divided_str = input_str.split(\" \")\n",
    "    print(divided_str)\n",
    "    new_list = []\n",
    "    for word in divided_str:\n",
    "        word = word[0].upper() + word[1:]\n",
    "        new_list.append(word)\n",
    "\n",
    "    return \" \".join(new_list)\n"
   ]
  },
  {
   "cell_type": "code",
   "execution_count": 5,
   "id": "2b4516a6-0905-4a0a-b61c-092cd4c58383",
   "metadata": {},
   "outputs": [
    {
     "name": "stdout",
     "output_type": "stream",
     "text": [
      "['hello', 'from', 'dikshant']\n"
     ]
    },
    {
     "data": {
      "text/plain": [
       "'Hello From Dikshant'"
      ]
     },
     "execution_count": 5,
     "metadata": {},
     "output_type": "execute_result"
    }
   ],
   "source": [
    "capitalize_words(\"hello from dikshant\")"
   ]
  },
  {
   "cell_type": "code",
   "execution_count": null,
   "id": "5d9e7726-f68d-4dfe-abf6-064bc1d1291f",
   "metadata": {},
   "outputs": [],
   "source": []
  }
 ],
 "metadata": {
  "kernelspec": {
   "display_name": "Python 3 (ipykernel)",
   "language": "python",
   "name": "python3"
  },
  "language_info": {
   "codemirror_mode": {
    "name": "ipython",
    "version": 3
   },
   "file_extension": ".py",
   "mimetype": "text/x-python",
   "name": "python",
   "nbconvert_exporter": "python",
   "pygments_lexer": "ipython3",
   "version": "3.11.4"
  }
 },
 "nbformat": 4,
 "nbformat_minor": 5
}
