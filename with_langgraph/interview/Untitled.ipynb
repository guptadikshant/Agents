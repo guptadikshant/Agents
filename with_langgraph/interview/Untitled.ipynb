{
 "cells": [
  {
   "cell_type": "code",
   "execution_count": 2,
   "id": "8aea9b1c-4f6c-4b1c-b447-e2fd6823026d",
   "metadata": {},
   "outputs": [],
   "source": [
    "def is_palindrom(s: str):\n",
    "    return s  == s[::-1]"
   ]
  },
  {
   "cell_type": "code",
   "execution_count": 3,
   "id": "99f38fcb-0a14-467c-84c6-7e32e4a3374b",
   "metadata": {},
   "outputs": [
    {
     "data": {
      "text/plain": [
       "True"
      ]
     },
     "execution_count": 3,
     "metadata": {},
     "output_type": "execute_result"
    }
   ],
   "source": [
    "is_palindrom(\"naman\")"
   ]
  },
  {
   "cell_type": "code",
   "execution_count": 4,
   "id": "b263e7ca-b035-4b99-81f4-96be27b746a5",
   "metadata": {},
   "outputs": [
    {
     "data": {
      "text/plain": [
       "False"
      ]
     },
     "execution_count": 4,
     "metadata": {},
     "output_type": "execute_result"
    }
   ],
   "source": [
    "is_palindrom(\"Dikshant\")"
   ]
  },
  {
   "cell_type": "code",
   "execution_count": 16,
   "id": "2e41a30a-65c6-4171-b512-4e263abe0639",
   "metadata": {},
   "outputs": [],
   "source": [
    "def is_palindrom2(s: str):\n",
    "    temp = []\n",
    "    for i in range((len(s)-1) // 2):\n",
    "        if s[i] == s[-(i+1)]:\n",
    "            temp.append(True)\n",
    "        else:\n",
    "            temp.append(False)\n",
    "\n",
    "    return True if all(temp) else False\n",
    "        "
   ]
  },
  {
   "cell_type": "code",
   "execution_count": 17,
   "id": "e0778c52-35bb-46ce-9f8d-7414c5ab1671",
   "metadata": {},
   "outputs": [
    {
     "data": {
      "text/plain": [
       "True"
      ]
     },
     "execution_count": 17,
     "metadata": {},
     "output_type": "execute_result"
    }
   ],
   "source": [
    "is_palindrom2(\"naman\")"
   ]
  },
  {
   "cell_type": "code",
   "execution_count": 18,
   "id": "5622ebbc-80ac-497a-abfc-19128f909b2e",
   "metadata": {},
   "outputs": [
    {
     "data": {
      "text/plain": [
       "False"
      ]
     },
     "execution_count": 18,
     "metadata": {},
     "output_type": "execute_result"
    }
   ],
   "source": [
    "is_palindrom2(\"Dikshant\")"
   ]
  },
  {
   "cell_type": "code",
   "execution_count": 20,
   "id": "fd4040de-3207-4855-99c0-b6d0b948e2b7",
   "metadata": {},
   "outputs": [],
   "source": [
    "temp_dict = {\n",
    "    \"name\": \"abc\",\n",
    "    \"age\": [5,6,7,8]\n",
    "}"
   ]
  },
  {
   "cell_type": "code",
   "execution_count": 24,
   "id": "fdbf2a01-f943-4e78-9420-02ac343f230e",
   "metadata": {},
   "outputs": [
    {
     "data": {
      "text/plain": [
       "8"
      ]
     },
     "execution_count": 24,
     "metadata": {},
     "output_type": "execute_result"
    }
   ],
   "source": [
    "temp_dict[\"age\"][3]"
   ]
  },
  {
   "cell_type": "code",
   "execution_count": 26,
   "id": "ed90a305-d239-423d-9bd7-c1665eeeb276",
   "metadata": {},
   "outputs": [
    {
     "data": {
      "text/plain": [
       "['name', 'age']"
      ]
     },
     "execution_count": 26,
     "metadata": {},
     "output_type": "execute_result"
    }
   ],
   "source": [
    "list(temp_dict.keys())"
   ]
  },
  {
   "cell_type": "code",
   "execution_count": null,
   "id": "c7e88eb3-4c01-4393-b0e2-4d5011703c68",
   "metadata": {},
   "outputs": [],
   "source": [
    "customer_id, sales,product_id -> Customer\n",
    "\n",
    "product_id, category, sub_category -> Product"
   ]
  },
  {
   "cell_type": "code",
   "execution_count": null,
   "id": "7303d3d4-070f-4915-a212-0f2625cee210",
   "metadata": {},
   "outputs": [],
   "source": [
    "select customer_id, sum(sales)\n",
    "from customer\n",
    "where customer"
   ]
  },
  {
   "cell_type": "code",
   "execution_count": null,
   "id": "684d9353-0477-47c1-80f3-d316bcb0b25d",
   "metadata": {},
   "outputs": [],
   "source": [
    "df[['customer_id', \"sales\"]].groupby(df[\"customer_id\"]).agg(sum(df[\"sales\"]))"
   ]
  },
  {
   "cell_type": "code",
   "execution_count": null,
   "id": "74f24965-791e-46d3-b1ae-d25a5a930fcf",
   "metadata": {},
   "outputs": [],
   "source": [
    "select customer.customer_id\n",
    "where product.category = \"abc\",\n",
    "      product.product_id = customer.product_id\n",
    "groupby product.category\n",
    "having customer.sales > 5000"
   ]
  },
  {
   "cell_type": "code",
   "execution_count": null,
   "id": "68ab6de6-4191-441e-af12-d1efd7e4d33e",
   "metadata": {},
   "outputs": [],
   "source": []
  },
  {
   "cell_type": "code",
   "execution_count": 28,
   "id": "e217e0eb-457e-4621-8cde-8ec02cadd864",
   "metadata": {},
   "outputs": [
    {
     "data": {
      "text/plain": [
       "[1, 2, 3, 4, 5]"
      ]
     },
     "execution_count": 28,
     "metadata": {},
     "output_type": "execute_result"
    }
   ],
   "source": [
    "lst = list(range(1,6))\n",
    "lst"
   ]
  },
  {
   "cell_type": "code",
   "execution_count": 29,
   "id": "19f6ab9e-4652-47d9-a2f7-d9167d230a88",
   "metadata": {},
   "outputs": [
    {
     "data": {
      "text/plain": [
       "[1, 3, 5]"
      ]
     },
     "execution_count": 29,
     "metadata": {},
     "output_type": "execute_result"
    }
   ],
   "source": [
    "[x for x in lst if x % 2 != 0]"
   ]
  },
  {
   "cell_type": "code",
   "execution_count": 56,
   "id": "9a89ff8a-209c-4488-b58c-12e70dc35b60",
   "metadata": {},
   "outputs": [],
   "source": [
    "def is_prime(num: int):\n",
    "    if num > 1:\n",
    "        for i in range(2, num, 1):\n",
    "            if num % i == 0:\n",
    "                print(\"NOT PRIME\")\n",
    "                break\n",
    "        else:\n",
    "            print(\"PRIME\")\n",
    "    else:\n",
    "        print(\"PRIME\")"
   ]
  },
  {
   "cell_type": "code",
   "execution_count": 57,
   "id": "a1ca2496-c8bb-43ea-91d6-0d7289a13d54",
   "metadata": {},
   "outputs": [
    {
     "name": "stdout",
     "output_type": "stream",
     "text": [
      "PRIME\n"
     ]
    }
   ],
   "source": [
    "is_prime(11)"
   ]
  },
  {
   "cell_type": "code",
   "execution_count": 58,
   "id": "83014195-ed44-4303-99d0-92f712ebb4c8",
   "metadata": {},
   "outputs": [
    {
     "name": "stdout",
     "output_type": "stream",
     "text": [
      "NOT PRIME\n"
     ]
    }
   ],
   "source": [
    "is_prime(4)"
   ]
  },
  {
   "cell_type": "code",
   "execution_count": null,
   "id": "986bf2ec-6813-4a26-8168-5fad9812f811",
   "metadata": {},
   "outputs": [],
   "source": []
  }
 ],
 "metadata": {
  "kernelspec": {
   "display_name": "Python 3 (ipykernel)",
   "language": "python",
   "name": "python3"
  },
  "language_info": {
   "codemirror_mode": {
    "name": "ipython",
    "version": 3
   },
   "file_extension": ".py",
   "mimetype": "text/x-python",
   "name": "python",
   "nbconvert_exporter": "python",
   "pygments_lexer": "ipython3",
   "version": "3.11.4"
  }
 },
 "nbformat": 4,
 "nbformat_minor": 5
}
