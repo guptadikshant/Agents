{
 "cells": [
  {
   "cell_type": "code",
   "execution_count": 2,
   "id": "e9ed45c9-b1ed-41eb-b1a7-44e80b736915",
   "metadata": {},
   "outputs": [],
   "source": [
    "s = \"dikshant gupta\""
   ]
  },
  {
   "cell_type": "code",
   "execution_count": 10,
   "id": "ad396d89-d3d2-4816-b557-af15704bdcbf",
   "metadata": {},
   "outputs": [
    {
     "data": {
      "text/plain": [
       "3"
      ]
     },
     "execution_count": 10,
     "metadata": {},
     "output_type": "execute_result"
    }
   ],
   "source": [
    "count_vowel = len(set(char for char in s if char in [\"a\", \"e\", \"i\", \"o\", \"u\"]))\n",
    "count_vowel"
   ]
  },
  {
   "cell_type": "code",
   "execution_count": null,
   "id": "5d17a477-6f9c-4352-ab29-f1e4f7630dd8",
   "metadata": {},
   "outputs": [],
   "source": [
    "employee_salary = {\n",
    "    \"Alice\": 50000,\n",
    "    \"Bob\": 60000,\n",
    "    \"Charlie\": 55000,\n",
    "    \"David\": 58000\n",
    "}\n",
    " \n",
    "Find the name of the employee with 58000 salary"
   ]
  },
  {
   "cell_type": "code",
   "execution_count": 4,
   "id": "8f0f619c-ddfc-4e35-94d4-6b8ee1805bba",
   "metadata": {},
   "outputs": [],
   "source": [
    "employee_salary = {\n",
    "    \"Alice\": 50000,\n",
    "    \"Bob\": 60000,\n",
    "    \"Charlie\": 55000,\n",
    "    \"David\": 58000\n",
    "}"
   ]
  },
  {
   "cell_type": "code",
   "execution_count": 5,
   "id": "660efad2-4147-49cf-a6f9-ace8ce9973b7",
   "metadata": {},
   "outputs": [
    {
     "name": "stdout",
     "output_type": "stream",
     "text": [
      "Bob\n"
     ]
    }
   ],
   "source": [
    "for name, salary in employee_salary.items():\n",
    "    if salary > 58000:\n",
    "        print(name)"
   ]
  },
  {
   "cell_type": "code",
   "execution_count": 7,
   "id": "bc51ecff-d080-4880-b8ca-f0f05ea47f2c",
   "metadata": {},
   "outputs": [
    {
     "data": {
      "text/plain": [
       "[('Alice', 50000), ('Bob', 60000), ('Charlie', 55000), ('David', 58000)]"
      ]
     },
     "execution_count": 7,
     "metadata": {},
     "output_type": "execute_result"
    }
   ],
   "source": [
    "employee_data = list(employee_salary.items())\n",
    "employee_data"
   ]
  },
  {
   "cell_type": "code",
   "execution_count": 8,
   "id": "126a4239-1493-4677-bd81-3e7114e9780a",
   "metadata": {},
   "outputs": [
    {
     "data": {
      "text/plain": [
       "'David'"
      ]
     },
     "execution_count": 8,
     "metadata": {},
     "output_type": "execute_result"
    }
   ],
   "source": [
    "employee_data[-1][0]"
   ]
  },
  {
   "cell_type": "code",
   "execution_count": null,
   "id": "64b9bf6e-5cec-42ad-8d4e-e2343290ffd0",
   "metadata": {},
   "outputs": [],
   "source": []
  },
  {
   "cell_type": "code",
   "execution_count": null,
   "id": "8a90d52e-c031-4b96-8766-aa23cd9df716",
   "metadata": {},
   "outputs": [],
   "source": []
  },
  {
   "cell_type": "code",
   "execution_count": null,
   "id": "cee14a42-c44e-411c-a669-630cde011d2c",
   "metadata": {},
   "outputs": [],
   "source": []
  },
  {
   "cell_type": "code",
   "execution_count": null,
   "id": "a77457bd-756d-421f-8efd-fbb4be9d2839",
   "metadata": {},
   "outputs": [],
   "source": []
  }
 ],
 "metadata": {
  "kernelspec": {
   "display_name": "Python 3 (ipykernel)",
   "language": "python",
   "name": "python3"
  },
  "language_info": {
   "codemirror_mode": {
    "name": "ipython",
    "version": 3
   },
   "file_extension": ".py",
   "mimetype": "text/x-python",
   "name": "python",
   "nbconvert_exporter": "python",
   "pygments_lexer": "ipython3",
   "version": "3.11.4"
  }
 },
 "nbformat": 4,
 "nbformat_minor": 5
}
