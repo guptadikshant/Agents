{
 "cells": [
  {
   "cell_type": "code",
   "execution_count": 2,
   "id": "018d6cbc-0653-4543-ae69-0de96b267a2c",
   "metadata": {},
   "outputs": [],
   "source": [
    "string1 = \"silent\"\n",
    "string2 = \"listen\""
   ]
  },
  {
   "cell_type": "code",
   "execution_count": 3,
   "id": "c1e4195c-8029-4024-b672-35df27faeebd",
   "metadata": {},
   "outputs": [],
   "source": [
    "def check_anagram(str1, str2):\n",
    "    str1 = sorted(str1)\n",
    "    str2 = sorted(str2)\n",
    "\n",
    "    return str1 == str2"
   ]
  },
  {
   "cell_type": "code",
   "execution_count": 4,
   "id": "be65c79a-a102-4a5c-9dff-0e08531df8d3",
   "metadata": {},
   "outputs": [
    {
     "data": {
      "text/plain": [
       "True"
      ]
     },
     "execution_count": 4,
     "metadata": {},
     "output_type": "execute_result"
    }
   ],
   "source": [
    "check_anagram(string1, string2)"
   ]
  },
  {
   "cell_type": "code",
   "execution_count": 5,
   "id": "0d2876b2-5e14-4dff-ba83-1195cded5509",
   "metadata": {},
   "outputs": [
    {
     "data": {
      "text/plain": [
       "False"
      ]
     },
     "execution_count": 5,
     "metadata": {},
     "output_type": "execute_result"
    }
   ],
   "source": [
    "check_anagram(\"hello\", \"window\")"
   ]
  },
  {
   "cell_type": "code",
   "execution_count": 6,
   "id": "8ccc5963-125b-4076-96f9-e836d7f94729",
   "metadata": {},
   "outputs": [],
   "source": [
    "lst = [1,2,3,4]\n",
    "target = 6"
   ]
  },
  {
   "cell_type": "code",
   "execution_count": 9,
   "id": "07c4b67e-fea4-418a-ace9-869e34b9b09f",
   "metadata": {},
   "outputs": [
    {
     "name": "stdout",
     "output_type": "stream",
     "text": [
      "2 4\n"
     ]
    }
   ],
   "source": [
    "for i in range(len(lst)):\n",
    "    for j in range(i+1, len(lst)):\n",
    "        \n",
    "        if lst[i] + lst[j] == target:\n",
    "            print(lst[i], lst[j])"
   ]
  },
  {
   "cell_type": "code",
   "execution_count": 56,
   "id": "fd5690cf-43e0-4c53-9775-982bca34b3d0",
   "metadata": {},
   "outputs": [
    {
     "name": "stdout",
     "output_type": "stream",
     "text": [
      "1 3\n",
      "0 4\n",
      "{1: 0, 2: 1, 3: 2, 4: 3, 5: 4, 6: 5}\n"
     ]
    }
   ],
   "source": [
    "mapped = {}\n",
    "for i in range(len(lst)):\n",
    "    comp = abs(lst[i] - target)\n",
    "    if comp in mapped:\n",
    "        print(mapped[comp], i)\n",
    "    mapped[lst[i]] = i\n",
    "\n",
    "print(mapped)\n",
    "        "
   ]
  },
  {
   "cell_type": "code",
   "execution_count": null,
   "id": "8909751a-2c0c-43b0-8c3e-235a73dc0959",
   "metadata": {},
   "outputs": [],
   "source": []
  },
  {
   "cell_type": "code",
   "execution_count": 41,
   "id": "56b7ce19-f87f-45da-a4a9-b2e3c21fb5cd",
   "metadata": {},
   "outputs": [],
   "source": [
    "lst = [1,2,3,4]\n",
    "k = 3"
   ]
  },
  {
   "cell_type": "code",
   "execution_count": 34,
   "id": "c325e115-27dd-4f7d-88ae-b921401df6db",
   "metadata": {},
   "outputs": [],
   "source": [
    "sorted_list = sorted(lst, reverse=True)\n",
    "k_largest = sorted_list[k-1]"
   ]
  },
  {
   "cell_type": "code",
   "execution_count": 35,
   "id": "7bf6b54c-6b55-42fd-ba37-ab8f5497fffa",
   "metadata": {},
   "outputs": [
    {
     "data": {
      "text/plain": [
       "2"
      ]
     },
     "execution_count": 35,
     "metadata": {},
     "output_type": "execute_result"
    }
   ],
   "source": [
    "k_largest"
   ]
  },
  {
   "cell_type": "code",
   "execution_count": 39,
   "id": "ac6fbece-4668-45cf-b941-16b62bff3801",
   "metadata": {},
   "outputs": [
    {
     "name": "stdout",
     "output_type": "stream",
     "text": [
      "0\n",
      "1\n"
     ]
    },
    {
     "ename": "ValueError",
     "evalue": "list.remove(x): x not in list",
     "output_type": "error",
     "traceback": [
      "\u001b[31m---------------------------------------------------------------------------\u001b[39m",
      "\u001b[31mValueError\u001b[39m                                Traceback (most recent call last)",
      "\u001b[36mCell\u001b[39m\u001b[36m \u001b[39m\u001b[32mIn[39]\u001b[39m\u001b[32m, line 9\u001b[39m\n\u001b[32m      7\u001b[39m     \u001b[38;5;28;01mif\u001b[39;00m x > max_ele:\n\u001b[32m      8\u001b[39m         max_ele = x\n\u001b[32m----> \u001b[39m\u001b[32m9\u001b[39m lst.remove(max_ele)\n",
      "\u001b[31mValueError\u001b[39m: list.remove(x): x not in list"
     ]
    }
   ],
   "source": [
    "max_ele = float(\"-inf\")\n",
    "cnt = 0\n",
    "while cnt < k:\n",
    "    print(cnt)\n",
    "    cnt += 1\n",
    "    for x in lst:\n",
    "        if x > max_ele:\n",
    "            max_ele = x\n",
    "\n",
    "    print()"
   ]
  },
  {
   "cell_type": "code",
   "execution_count": 43,
   "id": "9faa43a6-7dbf-4f67-b130-34d833ae61ce",
   "metadata": {},
   "outputs": [
    {
     "data": {
      "text/plain": [
       "2"
      ]
     },
     "execution_count": 43,
     "metadata": {},
     "output_type": "execute_result"
    }
   ],
   "source": [
    "lst = lst[::-1]\n",
    "lst[k-1]"
   ]
  },
  {
   "cell_type": "code",
   "execution_count": 49,
   "id": "44fc11ca-af6f-441c-9e75-1fb078f41031",
   "metadata": {},
   "outputs": [],
   "source": [
    "lst = [1,2,3,4,5,6] # [5,6,1,2,3,4]\n",
    "k = 2"
   ]
  },
  {
   "cell_type": "code",
   "execution_count": 50,
   "id": "a5e0d285-ae11-4205-ad6b-14e4ec4b896e",
   "metadata": {},
   "outputs": [
    {
     "data": {
      "text/plain": [
       "6"
      ]
     },
     "execution_count": 50,
     "metadata": {},
     "output_type": "execute_result"
    }
   ],
   "source": [
    "lst[-1]"
   ]
  },
  {
   "cell_type": "code",
   "execution_count": 53,
   "id": "1f6ec89c-6fe5-43c9-b3d9-5c063db52f74",
   "metadata": {},
   "outputs": [],
   "source": [
    "new_list = []\n",
    "for i in range(k):\n",
    "    new_list.append(lst[-(i+1)])\n",
    "\n",
    "for i in range(len(lst)-k):\n",
    "    new_list.append(lst[i])"
   ]
  },
  {
   "cell_type": "code",
   "execution_count": 54,
   "id": "dcb7b818-22d2-455e-9daa-e908e78d262d",
   "metadata": {},
   "outputs": [
    {
     "data": {
      "text/plain": [
       "[6, 5, 1, 2, 3, 4]"
      ]
     },
     "execution_count": 54,
     "metadata": {},
     "output_type": "execute_result"
    }
   ],
   "source": [
    "new_list"
   ]
  },
  {
   "cell_type": "code",
   "execution_count": null,
   "id": "61a666e6-0e42-4653-9723-7e076be6a408",
   "metadata": {},
   "outputs": [],
   "source": []
  },
  {
   "cell_type": "code",
   "execution_count": null,
   "id": "5325e63a-86b6-44ee-af73-0f7434789c38",
   "metadata": {},
   "outputs": [],
   "source": []
  },
  {
   "cell_type": "code",
   "execution_count": null,
   "id": "2be2f84c-65f2-4381-a868-e2dec495a812",
   "metadata": {},
   "outputs": [],
   "source": []
  },
  {
   "cell_type": "code",
   "execution_count": null,
   "id": "88fee950-c051-44ba-9f76-8371e86ca62d",
   "metadata": {},
   "outputs": [],
   "source": []
  },
  {
   "cell_type": "code",
   "execution_count": null,
   "id": "f39422a9-3c6d-4e32-8521-b1af2e0d9509",
   "metadata": {},
   "outputs": [],
   "source": []
  },
  {
   "cell_type": "code",
   "execution_count": null,
   "id": "107fceeb-ae82-48c0-b517-761ee239f599",
   "metadata": {},
   "outputs": [],
   "source": []
  },
  {
   "cell_type": "code",
   "execution_count": null,
   "id": "2e56fd54-adaa-4276-9dd3-ca7fa80027d0",
   "metadata": {},
   "outputs": [],
   "source": []
  },
  {
   "cell_type": "code",
   "execution_count": null,
   "id": "09b791cc-86a7-4927-adf8-203d60ec8a72",
   "metadata": {},
   "outputs": [],
   "source": []
  },
  {
   "cell_type": "code",
   "execution_count": null,
   "id": "d662fd07-d759-4095-9925-b60838d96b1b",
   "metadata": {},
   "outputs": [],
   "source": []
  },
  {
   "cell_type": "code",
   "execution_count": null,
   "id": "7c76fe65-dcb9-4c00-b992-a04aaf1b8e06",
   "metadata": {},
   "outputs": [],
   "source": []
  },
  {
   "cell_type": "code",
   "execution_count": null,
   "id": "0c574a9c-5a87-482e-a7ba-0105ebcf2074",
   "metadata": {},
   "outputs": [],
   "source": []
  }
 ],
 "metadata": {
  "kernelspec": {
   "display_name": "Python 3 (ipykernel)",
   "language": "python",
   "name": "python3"
  },
  "language_info": {
   "codemirror_mode": {
    "name": "ipython",
    "version": 3
   },
   "file_extension": ".py",
   "mimetype": "text/x-python",
   "name": "python",
   "nbconvert_exporter": "python",
   "pygments_lexer": "ipython3",
   "version": "3.11.4"
  }
 },
 "nbformat": 4,
 "nbformat_minor": 5
}
