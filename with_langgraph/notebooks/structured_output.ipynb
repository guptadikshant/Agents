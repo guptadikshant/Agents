{
 "cells": [
  {
   "cell_type": "code",
   "execution_count": 3,
   "id": "07b70332-e09f-4d8d-84c5-bcc2a72f235c",
   "metadata": {},
   "outputs": [],
   "source": [
    "from pydantic import BaseModel, Field\n",
    "from langchain_google_genai import ChatGoogleGenerativeAI\n",
    "from dotenv import load_dotenv, find_dotenv"
   ]
  },
  {
   "cell_type": "code",
   "execution_count": 4,
   "id": "ae848ee9-fa12-4a74-94a7-de9df3bfd870",
   "metadata": {},
   "outputs": [
    {
     "data": {
      "text/plain": [
       "True"
      ]
     },
     "execution_count": 4,
     "metadata": {},
     "output_type": "execute_result"
    }
   ],
   "source": [
    "load_dotenv(find_dotenv())"
   ]
  },
  {
   "cell_type": "code",
   "execution_count": 5,
   "id": "fed0cac3-ad6e-49ca-ae3d-f3def0ad75ed",
   "metadata": {},
   "outputs": [],
   "source": [
    "llm = ChatGoogleGenerativeAI(model=\"gemini-2.0-flash\")"
   ]
  },
  {
   "cell_type": "code",
   "execution_count": 6,
   "id": "e97effbb-5ed3-40fd-af6e-eb514a50b753",
   "metadata": {},
   "outputs": [],
   "source": [
    "class Country(BaseModel):\n",
    "    \"\"\"Information about a Country\"\"\"\n",
    "    name: str = Field(description=\"name of the country\")\n",
    "    language: str = Field(description=\"language of the Country\")\n",
    "    capital: str = Field(description=\"Capital of the Country\")"
   ]
  },
  {
   "cell_type": "code",
   "execution_count": 7,
   "id": "923528d0-91f8-4fe6-bf3b-5da382412bab",
   "metadata": {},
   "outputs": [],
   "source": [
    "structred_llm = llm.with_structured_output(schema=Country)"
   ]
  },
  {
   "cell_type": "code",
   "execution_count": 9,
   "id": "571f1ff9-2ca5-47c0-8527-90a5f1d53a8c",
   "metadata": {},
   "outputs": [
    {
     "data": {
      "text/plain": [
       "Country(name='France', language='French', capital='Paris')"
      ]
     },
     "execution_count": 9,
     "metadata": {},
     "output_type": "execute_result"
    }
   ],
   "source": [
    "structred_llm.invoke(\"Tell me about France\")"
   ]
  },
  {
   "cell_type": "markdown",
   "id": "de6ca0e0-72cd-4d6c-a8a4-e5723fc70f4c",
   "metadata": {},
   "source": [
    "### Without Pydantic Validations"
   ]
  },
  {
   "cell_type": "code",
   "execution_count": 10,
   "id": "32ff6c76-a875-4ee3-aeec-855c0ebd8f4b",
   "metadata": {},
   "outputs": [],
   "source": [
    "from typing_extensions import TypedDict, Annotated\n",
    "from typing import Optional"
   ]
  },
  {
   "cell_type": "code",
   "execution_count": 21,
   "id": "eff7916d-10a3-40ef-84c2-d6a103ac62c4",
   "metadata": {},
   "outputs": [],
   "source": [
    "class Joke(TypedDict):\n",
    "    \"\"\"Joke to tell a user\"\"\"\n",
    "    setup: Annotated[str, ..., \"The setup of the joke\"]\n",
    "    punchline: Annotated[str, ..., \"The punchline of the joke\"]\n",
    "    rating: Annotated[Optional[int], None, \"How funny the joke is, from 1 to 10\"]"
   ]
  },
  {
   "cell_type": "code",
   "execution_count": 22,
   "id": "eec965c2-1563-43bc-aa8a-7a858291bb06",
   "metadata": {},
   "outputs": [],
   "source": [
    "structred_llm = llm.with_structured_output(schema=Joke)"
   ]
  },
  {
   "cell_type": "code",
   "execution_count": 23,
   "id": "c712b06f-8bf0-4eab-b025-cff546c2368f",
   "metadata": {},
   "outputs": [
    {
     "data": {
      "text/plain": [
       "{'setup': \"Why can't dogs be doctors?\",\n",
       " 'punchline': \"Because they can't operate MRI machines\"}"
      ]
     },
     "execution_count": 23,
     "metadata": {},
     "output_type": "execute_result"
    }
   ],
   "source": [
    "structred_llm.invoke(\"Tell me a joke about dogs\")"
   ]
  },
  {
   "cell_type": "code",
   "execution_count": null,
   "id": "9f6560fc-4fa1-4da3-93fc-463c6d7af2d1",
   "metadata": {},
   "outputs": [],
   "source": []
  },
  {
   "cell_type": "code",
   "execution_count": null,
   "id": "fb22608e-d101-40ba-9069-d5fdd44b1c61",
   "metadata": {},
   "outputs": [],
   "source": []
  }
 ],
 "metadata": {
  "kernelspec": {
   "display_name": "Python 3 (ipykernel)",
   "language": "python",
   "name": "python3"
  },
  "language_info": {
   "codemirror_mode": {
    "name": "ipython",
    "version": 3
   },
   "file_extension": ".py",
   "mimetype": "text/x-python",
   "name": "python",
   "nbconvert_exporter": "python",
   "pygments_lexer": "ipython3",
   "version": "3.11.4"
  }
 },
 "nbformat": 4,
 "nbformat_minor": 5
}
