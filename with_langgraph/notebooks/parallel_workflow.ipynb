{
 "cells": [
  {
   "cell_type": "code",
   "execution_count": null,
   "id": "e4c2ae98",
   "metadata": {},
   "outputs": [],
   "source": [
    "from typing import TypedDict\n",
    "from langchain_openai import ChatOpenAI\n",
    "from langgraph.graph import StateGraph, START, END\n",
    "from dotenv import load_dotenv, find_dotenv"
   ]
  },
  {
   "cell_type": "code",
   "execution_count": 2,
   "id": "6fea5aea",
   "metadata": {},
   "outputs": [
    {
     "data": {
      "text/plain": [
       "True"
      ]
     },
     "execution_count": 2,
     "metadata": {},
     "output_type": "execute_result"
    }
   ],
   "source": [
    "load_dotenv(find_dotenv())"
   ]
  },
  {
   "cell_type": "code",
   "execution_count": 3,
   "id": "f0cfa773",
   "metadata": {},
   "outputs": [],
   "source": [
    "llm = ChatOpenAI(model=\"gpt-4o-mini\", temperature=0)"
   ]
  },
  {
   "cell_type": "markdown",
   "id": "27c59c7b",
   "metadata": {},
   "source": [
    "## Workflow using without LLM"
   ]
  },
  {
   "cell_type": "code",
   "execution_count": 4,
   "id": "6a9b1fde",
   "metadata": {},
   "outputs": [],
   "source": [
    "class BatsmanState(TypedDict):\n",
    "    runs: int\n",
    "    balls: int\n",
    "    fours: int\n",
    "    sixes: int\n",
    "\n",
    "    strike_rate: float\n",
    "    balls_per_boundary: float\n",
    "    boundary_percent: float\n",
    "    summary: str"
   ]
  },
  {
   "cell_type": "code",
   "execution_count": 32,
   "id": "a8d3351b",
   "metadata": {},
   "outputs": [],
   "source": [
    "def calculate_strike_rate(state: BatsmanState):\n",
    "    strike_rate = (state[\"runs\"] / state[\"balls\"]) * 100\n",
    "    state[\"strike_rate\"] = strike_rate\n",
    "    #  returns only the computed field as a new dictionary rather than modifying the state directly\n",
    "    return {\"strike_rate\": strike_rate}"
   ]
  },
  {
   "cell_type": "code",
   "execution_count": 33,
   "id": "4cea4b01",
   "metadata": {},
   "outputs": [],
   "source": [
    "def calculate_balls_per_boundry(state: BatsmanState):\n",
    "    balls_per_boundry = state['balls'] / (state['fours'] + state['sixes'])\n",
    "    state[\"balls_per_boundary\"] = balls_per_boundry\n",
    "    #  returns only the computed field as a new dictionary rather than modifying the state directly\n",
    "    return {\"balls_per_boundary\": balls_per_boundry}"
   ]
  },
  {
   "cell_type": "code",
   "execution_count": 34,
   "id": "415f2e03",
   "metadata": {},
   "outputs": [],
   "source": [
    "def calculate_boundry_percent(state: BatsmanState):\n",
    "    boundry_percent = (((state['fours'] * 4) + (state['sixes'] * 6)) / state['runs']) * 100\n",
    "    state['boundary_percent'] = boundry_percent\n",
    "    #  returns only the computed field as a new dictionary rather than modifying the state directly\n",
    "    return {\"boundary_percent\": boundry_percent}"
   ]
  },
  {
   "cell_type": "code",
   "execution_count": 35,
   "id": "efd9559f",
   "metadata": {},
   "outputs": [],
   "source": [
    "def summary(state: BatsmanState):\n",
    "    summary = f\"\"\"\n",
    "    Strike Rate: {state['strike_rate']} \\n\n",
    "    Balls per boundry: {state['balls_per_boundary']} \\n\n",
    "    Boundry Percent: {state['boundary_percent']}\n",
    "\"\"\".strip()    \n",
    "    state[\"summary\"] = summary\n",
    "    #  returns only the computed field as a new dictionary rather than modifying the state directly\n",
    "    return {\"summary\": summary}\n"
   ]
  },
  {
   "cell_type": "code",
   "execution_count": 36,
   "id": "615e8430",
   "metadata": {},
   "outputs": [],
   "source": [
    "graph = StateGraph(state_schema=BatsmanState)\n",
    "graph.add_node('calculate_strike_rate', calculate_strike_rate)\n",
    "graph.add_node('calculate_balls_per_boundry', calculate_balls_per_boundry)\n",
    "graph.add_node('calculate_boundry_percent', calculate_boundry_percent)\n",
    "graph.add_node('calculate_summary', summary)\n",
    "# define edges\n",
    "graph.add_edge(START, 'calculate_strike_rate')\n",
    "graph.add_edge(START, 'calculate_balls_per_boundry')\n",
    "graph.add_edge(START, 'calculate_boundry_percent')\n",
    "graph.add_edge('calculate_strike_rate', 'calculate_summary')\n",
    "graph.add_edge('calculate_balls_per_boundry', 'calculate_summary')\n",
    "graph.add_edge('calculate_boundry_percent', 'calculate_summary')\n",
    "graph.add_edge('calculate_summary', END)\n",
    "graph = graph.compile()"
   ]
  },
  {
   "cell_type": "code",
   "execution_count": 37,
   "id": "815fbf2f",
   "metadata": {},
   "outputs": [
    {
     "data": {
      "image/png": "[encoded data removed]",
      "text/plain": [
       "<langgraph.graph.state.CompiledStateGraph object at 0x000001DE03451AD0>"
      ]
     },
     "execution_count": 37,
     "metadata": {},
     "output_type": "execute_result"
    }
   ],
   "source": [
    "graph"
   ]
  },
  {
   "cell_type": "code",
   "execution_count": 38,
   "id": "5e4b00f0",
   "metadata": {},
   "outputs": [
    {
     "name": "stdout",
     "output_type": "stream",
     "text": [
      "Strike Rate: 200.0 \n",
      "\n",
      "    Balls per boundry: 5.0 \n",
      "\n",
      "    Boundry Percent: 48.0\n"
     ]
    }
   ],
   "source": [
    "intial_state = {\n",
    "    'runs': 100,\n",
    "    'balls': 50,\n",
    "    'fours': 6,\n",
    "    'sixes': 4\n",
    "}\n",
    "\n",
    "result = graph.invoke(intial_state)\n",
    "\n",
    "print(result['summary'].strip())"
   ]
  },
  {
   "cell_type": "markdown",
   "id": "05ae0f05",
   "metadata": {},
   "source": [
    "## With LLM Workflow"
   ]
  },
  {
   "cell_type": "code",
   "execution_count": 45,
   "id": "6b017d99",
   "metadata": {},
   "outputs": [],
   "source": [
    "from typing import TypedDict, Annotated\n",
    "from langchain_openai import ChatOpenAI\n",
    "from langgraph.graph import StateGraph, START, END\n",
    "from pydantic import BaseModel, Field\n",
    "from dotenv import load_dotenv, find_dotenv\n",
    "import operator"
   ]
  },
  {
   "cell_type": "code",
   "execution_count": null,
   "id": "c76a3b2e",
   "metadata": {},
   "outputs": [
    {
     "data": {
      "text/plain": [
       "True"
      ]
     },
     "execution_count": 40,
     "metadata": {},
     "output_type": "execute_result"
    }
   ],
   "source": [
    "load_dotenv(find_dotenv())"
   ]
  },
  {
   "cell_type": "code",
   "execution_count": 42,
   "id": "7fbc82ad",
   "metadata": {},
   "outputs": [],
   "source": [
    "class EvaluationSchema(BaseModel):\n",
    "    feedback: str = Field(description=\"Detailed feedback for the essay\")\n",
    "    score: int = Field(description=\"Score out of 10\", ge=0, le=10)"
   ]
  },
  {
   "cell_type": "code",
   "execution_count": 43,
   "id": "95bc0d61",
   "metadata": {},
   "outputs": [],
   "source": [
    "structured_llm = llm.with_structured_output(EvaluationSchema)"
   ]
  },
  {
   "cell_type": "code",
   "execution_count": 53,
   "id": "f6d6ff0f",
   "metadata": {},
   "outputs": [],
   "source": [
    "class UPSCState(TypedDict):\n",
    "    essay: str\n",
    "    language_feedback: str\n",
    "    analysis_feedback: str\n",
    "    clarity_feedback: str\n",
    "    overall_feedback: str\n",
    "    individual_scores: Annotated[list[int], operator.add]\n",
    "    avg_score: float"
   ]
  },
  {
   "cell_type": "code",
   "execution_count": 54,
   "id": "2771a991",
   "metadata": {},
   "outputs": [],
   "source": [
    "def evaluate_language(state: UPSCState):\n",
    "    essay = state[\"essay\"]\n",
    "    prompt = f\"\"\"\n",
    "Evaluate the language quality of the below essay and provide a feedback and assign a score out of 10. \\n\\n Essay: {essay}\n",
    "\"\"\"\n",
    "    output = structured_llm.invoke(prompt)\n",
    "    return {'language_feedback': output.feedback, 'individual_scores': [output.score]}\n",
    "\n",
    "def evaluate_analysis(state: UPSCState):\n",
    "    essay = state[\"essay\"]\n",
    "    prompt = f\"\"\"\n",
    "Evaluate the depth of analysis of the below essay and provide a feedback and assign a score out of 10. \\n\\n Essay: {essay}\n",
    "\"\"\"\n",
    "    output = structured_llm.invoke(prompt)\n",
    "    return {'analysis_feedback': output.feedback, 'individual_scores': [output.score]}\n",
    "\n",
    "\n",
    "def evaluate_thought(state: UPSCState):\n",
    "    essay = state[\"essay\"]\n",
    "    prompt = f\"\"\"\n",
    "Evaluate the clarity of thought of the below essay and provide a feedback and assign a score out of 10. \\n\\n Essay: {essay}\n",
    "\"\"\"\n",
    "    output = structured_llm.invoke(prompt)\n",
    "    return {'clarity_feedback': output.feedback, 'individual_scores': [output.score]}\n",
    "\n",
    "def final_evaluation(state: UPSCState):\n",
    "    prompt = f'Based on the following feedbacks create a summarized feedback \\n language feedback - {state[\"language_feedback\"]} \\n depth of analysis feedback - {state[\"analysis_feedback\"]} \\n clarity of thought feedback - {state[\"clarity_feedback\"]}'\n",
    "\n",
    "    overall_feedback = llm.invoke(prompt).content\n",
    "\n",
    "    avg_score = sum(state['individual_scores']) / len(state['individual_scores'])\n",
    "\n",
    "    return {'overall_feedback': overall_feedback, 'avg_score': avg_score}"
   ]
  },
  {
   "cell_type": "code",
   "execution_count": 55,
   "id": "3ca40557",
   "metadata": {},
   "outputs": [],
   "source": [
    "graph = StateGraph(state_schema=UPSCState)\n",
    "# add all the nodes\n",
    "graph.add_node('evaluate_language', evaluate_language)\n",
    "graph.add_node('evaluate_analysis', evaluate_analysis)\n",
    "graph.add_node('evaluate_thought', evaluate_thought)\n",
    "graph.add_node('final_evaluation', final_evaluation)\n",
    "# add all the edges\n",
    "graph.add_edge(START, 'evaluate_language')\n",
    "graph.add_edge(START, 'evaluate_analysis')\n",
    "graph.add_edge(START, 'evaluate_thought')\n",
    "graph.add_edge('evaluate_language', 'final_evaluation')\n",
    "graph.add_edge('evaluate_analysis', 'final_evaluation')\n",
    "graph.add_edge('evaluate_thought', 'final_evaluation')\n",
    "graph.add_edge('final_evaluation', END)\n",
    "\n",
    "graph = graph.compile()"
   ]
  },
  {
   "cell_type": "code",
   "execution_count": 56,
   "id": "263643ae",
   "metadata": {},
   "outputs": [
    {
     "data": {
      "image/png": "[encoded data removed]",
      "text/plain": [
       "<langgraph.graph.state.CompiledStateGraph object at 0x000001DE08981F50>"
      ]
     },
     "execution_count": 56,
     "metadata": {},
     "output_type": "execute_result"
    }
   ],
   "source": [
    "graph"
   ]
  },
  {
   "cell_type": "code",
   "execution_count": 57,
   "id": "c47e8dc0",
   "metadata": {},
   "outputs": [],
   "source": [
    "essay = \"\"\"India in the Age of AI\n",
    "As the world enters a transformative era defined by artificial intelligence (AI), India stands at a critical juncture — one where it can either emerge as a global leader in AI innovation or risk falling behind in the technology race. The age of AI brings with it immense promise as well as unprecedented challenges, and how India navigates this landscape will shape its socio-economic and geopolitical future.\n",
    "\n",
    "India's strengths in the AI domain are rooted in its vast pool of skilled engineers, a thriving IT industry, and a growing startup ecosystem. With over 5 million STEM graduates annually and a burgeoning base of AI researchers, India possesses the intellectual capital required to build cutting-edge AI systems. Institutions like IITs, IIITs, and IISc have begun fostering AI research, while private players such as TCS, Infosys, and Wipro are integrating AI into their global services. In 2020, the government launched the National AI Strategy (AI for All) with a focus on inclusive growth, aiming to leverage AI in healthcare, agriculture, education, and smart mobility.\n",
    "\n",
    "One of the most promising applications of AI in India lies in agriculture, where predictive analytics can guide farmers on optimal sowing times, weather forecasts, and pest control. In healthcare, AI-powered diagnostics can help address India’s doctor-patient ratio crisis, particularly in rural areas. Educational platforms are increasingly using AI to personalize learning paths, while smart governance tools are helping improve public service delivery and fraud detection.\n",
    "\n",
    "However, the path to AI-led growth is riddled with challenges. Chief among them is the digital divide. While metropolitan cities may embrace AI-driven solutions, rural India continues to struggle with basic internet access and digital literacy. The risk of job displacement due to automation also looms large, especially for low-skilled workers. Without effective skilling and re-skilling programs, AI could exacerbate existing socio-economic inequalities.\n",
    "\n",
    "Another pressing concern is data privacy and ethics. As AI systems rely heavily on vast datasets, ensuring that personal data is used transparently and responsibly becomes vital. India is still shaping its data protection laws, and in the absence of a strong regulatory framework, AI systems may risk misuse or bias.\n",
    "\n",
    "To harness AI responsibly, India must adopt a multi-stakeholder approach involving the government, academia, industry, and civil society. Policies should promote open datasets, encourage responsible innovation, and ensure ethical AI practices. There is also a need for international collaboration, particularly with countries leading in AI research, to gain strategic advantage and ensure interoperability in global systems.\n",
    "\n",
    "India’s demographic dividend, when paired with responsible AI adoption, can unlock massive economic growth, improve governance, and uplift marginalized communities. But this vision will only materialize if AI is seen not merely as a tool for automation, but as an enabler of human-centered development.\n",
    "\n",
    "In conclusion, India in the age of AI is a story in the making — one of opportunity, responsibility, and transformation. The decisions we make today will not just determine India’s AI trajectory, but also its future as an inclusive, equitable, and innovation-driven society.\"\"\""
   ]
  },
  {
   "cell_type": "code",
   "execution_count": 58,
   "id": "cf5d3edb",
   "metadata": {},
   "outputs": [
    {
     "data": {
      "text/plain": [
       "{'essay': \"India in the Age of AI\\nAs the world enters a transformative era defined by artificial intelligence (AI), India stands at a critical juncture — one where it can either emerge as a global leader in AI innovation or risk falling behind in the technology race. The age of AI brings with it immense promise as well as unprecedented challenges, and how India navigates this landscape will shape its socio-economic and geopolitical future.\\n\\nIndia's strengths in the AI domain are rooted in its vast pool of skilled engineers, a thriving IT industry, and a growing startup ecosystem. With over 5 million STEM graduates annually and a burgeoning base of AI researchers, India possesses the intellectual capital required to build cutting-edge AI systems. Institutions like IITs, IIITs, and IISc have begun fostering AI research, while private players such as TCS, Infosys, and Wipro are integrating AI into their global services. In 2020, the government launched the National AI Strategy (AI for All) with a focus on inclusive growth, aiming to leverage AI in healthcare, agriculture, education, and smart mobility.\\n\\nOne of the most promising applications of AI in India lies in agriculture, where predictive analytics can guide farmers on optimal sowing times, weather forecasts, and pest control. In healthcare, AI-powered diagnostics can help address India’s doctor-patient ratio crisis, particularly in rural areas. Educational platforms are increasingly using AI to personalize learning paths, while smart governance tools are helping improve public service delivery and fraud detection.\\n\\nHowever, the path to AI-led growth is riddled with challenges. Chief among them is the digital divide. While metropolitan cities may embrace AI-driven solutions, rural India continues to struggle with basic internet access and digital literacy. The risk of job displacement due to automation also looms large, especially for low-skilled workers. Without effective skilling and re-skilling programs, AI could exacerbate existing socio-economic inequalities.\\n\\nAnother pressing concern is data privacy and ethics. As AI systems rely heavily on vast datasets, ensuring that personal data is used transparently and responsibly becomes vital. India is still shaping its data protection laws, and in the absence of a strong regulatory framework, AI systems may risk misuse or bias.\\n\\nTo harness AI responsibly, India must adopt a multi-stakeholder approach involving the government, academia, industry, and civil society. Policies should promote open datasets, encourage responsible innovation, and ensure ethical AI practices. There is also a need for international collaboration, particularly with countries leading in AI research, to gain strategic advantage and ensure interoperability in global systems.\\n\\nIndia’s demographic dividend, when paired with responsible AI adoption, can unlock massive economic growth, improve governance, and uplift marginalized communities. But this vision will only materialize if AI is seen not merely as a tool for automation, but as an enabler of human-centered development.\\n\\nIn conclusion, India in the age of AI is a story in the making — one of opportunity, responsibility, and transformation. The decisions we make today will not just determine India’s AI trajectory, but also its future as an inclusive, equitable, and innovation-driven society.\",\n",
       " 'language_feedback': \"The essay presents a well-structured and insightful analysis of India's position in the age of AI. The introduction effectively sets the stage for the discussion, highlighting both the opportunities and challenges that AI presents for India. The use of specific examples, such as the role of educational institutions and the applications of AI in agriculture and healthcare, adds depth to the argument and demonstrates a clear understanding of the subject matter. \\n\\nThe language is generally clear and formal, appropriate for an academic or analytical essay. However, there are a few areas where the language could be improved for greater clarity and impact. For instance, some sentences are quite long and could benefit from being broken down into shorter, more digestible parts. Additionally, while the essay covers a range of important points, it could be enhanced by providing more specific examples or data to support claims, particularly regarding the challenges of the digital divide and job displacement.\\n\\nThe conclusion effectively summarizes the main points and reinforces the importance of responsible AI adoption. Overall, the essay is coherent and well-articulated, but it could be strengthened with more precise language and additional supporting evidence.\",\n",
       " 'analysis_feedback': \"The essay provides a comprehensive overview of India's position in the age of AI, highlighting both its strengths and challenges. The analysis is well-structured, beginning with India's potential as a leader in AI innovation and moving through various sectors where AI can have a significant impact, such as agriculture, healthcare, and education. The mention of the National AI Strategy and the role of educational institutions adds depth to the discussion of India's capabilities. \\n\\nHowever, while the essay touches on critical issues like the digital divide, job displacement, and data privacy, it could benefit from a deeper exploration of these challenges. For instance, more specific examples or statistics regarding the digital divide and job displacement would strengthen the argument. Additionally, the discussion on ethical AI practices could be expanded to include potential solutions or existing frameworks that could be adopted. \\n\\nThe conclusion effectively summarizes the main points and emphasizes the importance of responsible AI adoption, but it could be more impactful with a call to action or specific recommendations for stakeholders. Overall, the essay demonstrates a solid understanding of the topic but could enhance its analytical depth by providing more detailed examples and exploring solutions to the challenges presented.\",\n",
       " 'clarity_feedback': \"The essay presents a well-structured argument regarding India's position in the age of AI, highlighting both opportunities and challenges. The introduction effectively sets the stage for the discussion, and the body paragraphs provide clear examples of India's strengths and potential applications of AI. The mention of challenges such as the digital divide and data privacy adds depth to the analysis. However, the essay could benefit from more specific examples or data to support claims, particularly regarding the impact of AI on job displacement and the effectiveness of current initiatives. Additionally, while the conclusion summarizes the main points, it could be strengthened by reiterating specific actions that India should take to ensure a positive outcome in the AI landscape. Overall, the clarity of thought is strong, but there is room for improvement in supporting arguments and providing actionable insights.\",\n",
       " 'overall_feedback': \"**Summarized Feedback:**\\n\\nThe essay offers a well-structured and insightful analysis of India's position in the age of AI, effectively highlighting both opportunities and challenges. The introduction sets a strong foundation, and the use of specific examples, particularly in agriculture, healthcare, and education, demonstrates a solid understanding of the subject. The language is generally clear and formal, suitable for an academic context, though some sentences could be shortened for better clarity. \\n\\nWhile the essay covers critical issues like the digital divide, job displacement, and data privacy, it would benefit from a deeper exploration of these challenges, including more specific examples or statistics to support claims. The discussion on ethical AI practices could also be expanded to include potential solutions or existing frameworks. \\n\\nThe conclusion effectively summarizes the main points and emphasizes the importance of responsible AI adoption, but it could be more impactful with a call to action or specific recommendations for stakeholders. Overall, the essay is coherent and well-articulated, yet it could be strengthened by enhancing analytical depth, providing more precise language, and offering actionable insights.\",\n",
       " 'individual_scores': [7, 8, 8],\n",
       " 'avg_score': 7.666666666666667}"
      ]
     },
     "execution_count": 58,
     "metadata": {},
     "output_type": "execute_result"
    }
   ],
   "source": [
    "intial_state = {\n",
    "    'essay': essay\n",
    "}\n",
    "\n",
    "graph.invoke(intial_state)"
   ]
  },
  {
   "cell_type": "code",
   "execution_count": null,
   "id": "37359d8b",
   "metadata": {},
   "outputs": [],
   "source": []
  },
  {
   "cell_type": "code",
   "execution_count": null,
   "id": "c67dd7d4",
   "metadata": {},
   "outputs": [],
   "source": []
  },
  {
   "cell_type": "code",
   "execution_count": null,
   "id": "d978a492",
   "metadata": {},
   "outputs": [],
   "source": []
  },
  {
   "cell_type": "code",
   "execution_count": null,
   "id": "42aecb00",
   "metadata": {},
   "outputs": [],
   "source": []
  }
 ],
 "metadata": {
  "kernelspec": {
   "display_name": "with-langgraph",
   "language": "python",
   "name": "python3"
  },
  "language_info": {
   "codemirror_mode": {
    "name": "ipython",
    "version": 3
   },
   "file_extension": ".py",
   "mimetype": "text/x-python",
   "name": "python",
   "nbconvert_exporter": "python",
   "pygments_lexer": "ipython3",
   "version": "3.11.4"
  }
 },
 "nbformat": 4,
 "nbformat_minor": 5
}
