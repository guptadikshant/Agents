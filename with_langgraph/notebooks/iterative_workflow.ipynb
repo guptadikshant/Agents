{
 "cells": [
  {
   "cell_type": "code",
   "execution_count": 1,
   "id": "90e3ee2b",
   "metadata": {},
   "outputs": [],
   "source": [
    "import operator\n",
    "from typing import TypedDict, Literal, Annotated\n",
    "from langchain_openai import ChatOpenAI\n",
    "from langgraph.graph import StateGraph, START, END\n",
    "from langchain_core.messages import SystemMessage, HumanMessage\n",
    "from pydantic import BaseModel, Field\n",
    "from dotenv import load_dotenv, find_dotenv"
   ]
  },
  {
   "cell_type": "code",
   "execution_count": 2,
   "id": "b782d00f",
   "metadata": {},
   "outputs": [
    {
     "data": {
      "text/plain": [
       "True"
      ]
     },
     "execution_count": 2,
     "metadata": {},
     "output_type": "execute_result"
    }
   ],
   "source": [
    "load_dotenv(find_dotenv())"
   ]
  },
  {
   "cell_type": "code",
   "execution_count": 3,
   "id": "f9218c60",
   "metadata": {},
   "outputs": [],
   "source": [
    "class TweetEvaluation(BaseModel):\n",
    "    evaluation: Literal[\"approved\", \"needs_improvement\"] = Field(\n",
    "        ..., description=\"Final evaluation result.\"\n",
    "    )\n",
    "    feedback: str = Field(..., description=\"feedback for the tweet.\")"
   ]
  },
  {
   "cell_type": "code",
   "execution_count": 4,
   "id": "fee997ba",
   "metadata": {},
   "outputs": [],
   "source": [
    "generator_llm = ChatOpenAI(model=\"gpt-4o\", temperature=0)\n",
    "evaluator_llm = ChatOpenAI(model=\"gpt-4o-mini\", temperature=0)\n",
    "optimizer_llm = ChatOpenAI(model=\"gpt-4o\", temperature=0)\n",
    "structured_evaluator_llm = evaluator_llm.with_structured_output(TweetEvaluation)"
   ]
  },
  {
   "cell_type": "code",
   "execution_count": 5,
   "id": "5c161fd1",
   "metadata": {},
   "outputs": [],
   "source": [
    "class TweetState(TypedDict):\n",
    "    topic: str\n",
    "    tweet: str\n",
    "    evaluation: Literal[\"approved\", \"needs_improvement\"]\n",
    "    feedback: str\n",
    "    iteration: int\n",
    "    max_iteration: int\n",
    "    tweet_history: Annotated[list[str], operator.add]\n",
    "    feedback_history: Annotated[list[str], operator.add]"
   ]
  },
  {
   "cell_type": "code",
   "execution_count": 6,
   "id": "09702d22",
   "metadata": {},
   "outputs": [],
   "source": [
    "def generate_tweet(state: TweetState):\n",
    "    prompt = [\n",
    "        SystemMessage(content=\"you are a funny and clever Twitter/X influencer\"),\n",
    "        HumanMessage(\n",
    "            content=f\"\"\"\n",
    "    Write a short, original, and hilarious tweet on the topic: {state[\"topic\"]}.\n",
    "    Rules:\n",
    "    - Do NOT use the question-answer format.\n",
    "    - Max output should be of 280 characters.\n",
    "    - Use observational humor, irony, sarcasm, or cultural references.\n",
    "    - Think in meme logic, punchlines, or relatable takes.\n",
    "    - Use simple, day to day english.\n",
    "\"\"\"\n",
    "        ),\n",
    "    ]\n",
    "    response = generator_llm.invoke(prompt).content\n",
    "    return {\"tweet\": response, 'tweet_history': [response]}"
   ]
  },
  {
   "cell_type": "code",
   "execution_count": 7,
   "id": "598450af",
   "metadata": {},
   "outputs": [],
   "source": [
    "def evaluate_tweet(state: TweetState):\n",
    "    # prompt\n",
    "    messages = [\n",
    "        SystemMessage(\n",
    "            content=\"You are a ruthless, no-laugh-given Twitter critic. You evaluate tweets based on humor, originality, virality, and tweet format.\"\n",
    "        ),\n",
    "        HumanMessage(\n",
    "            content=f\"\"\"\n",
    "Evaluate the following tweet:\n",
    "\n",
    "Tweet: \"{state[\"tweet\"]}\"\n",
    "\n",
    "Use the criteria below to evaluate the tweet:\n",
    "\n",
    "1. Originality: Is this fresh, or have you seen it a hundred times before?  \n",
    "2. Humor: Did it genuinely make you smile, laugh, or chuckle?  \n",
    "3. Punchiness: Is it short, sharp, and scroll-stopping?  \n",
    "4. Virality Potential: Would people retweet or share it?  \n",
    "5. Format: Is it a well-formed tweet (not a setup-punchline joke, not a Q&A joke, and under 280 characters)?\n",
    "\n",
    "Auto-reject if:\n",
    "- It's written in question-answer format (e.g., \"Why did...\" or \"What happens when...\")\n",
    "- It exceeds 280 characters\n",
    "- It reads like a traditional setup-punchline joke\n",
    "- Dont end with generic, throwaway, or deflating lines that weaken the humor (e.g., “Masterpieces of the auntie-uncle universe” or vague summaries)\n",
    "\n",
    "### Respond ONLY in structured format:\n",
    "- evaluation: \"approved\" or \"needs_improvement\"  \n",
    "- feedback: One paragraph explaining the strengths and weaknesses \n",
    "\"\"\"\n",
    "        ),\n",
    "    ]\n",
    "\n",
    "    response = structured_evaluator_llm.invoke(messages)\n",
    "\n",
    "    return {\n",
    "        \"evaluation\": response.evaluation,\n",
    "        \"feedback\": response.feedback,\n",
    "        \"feedback_history\": [response.feedback]\n",
    "    }"
   ]
  },
  {
   "cell_type": "code",
   "execution_count": 8,
   "id": "c3898164",
   "metadata": {},
   "outputs": [],
   "source": [
    "def optimize_tweet(state: TweetState):\n",
    "    messages = [\n",
    "        SystemMessage(\n",
    "            content=\"You punch up tweets for virality and humor based on given feedback.\"\n",
    "        ),\n",
    "        HumanMessage(\n",
    "            content=f\"\"\"\n",
    "Improve the tweet based on this feedback:\n",
    "\"{state[\"feedback\"]}\"\n",
    "\n",
    "Topic: \"{state[\"topic\"]}\"\n",
    "Original Tweet:\n",
    "{state[\"tweet\"]}\n",
    "\n",
    "Re-write it as a short, viral-worthy tweet. Avoid Q&A style and stay under 280 characters.\n",
    "\"\"\"\n",
    "        ),\n",
    "    ]\n",
    "\n",
    "    response = optimizer_llm.invoke(messages).content\n",
    "    iteration = state[\"iteration\"] + 1\n",
    "\n",
    "    return {\"tweet\": response, \"iteration\": iteration, 'tweet_history': [response]}"
   ]
  },
  {
   "cell_type": "code",
   "execution_count": 9,
   "id": "7e144c4b",
   "metadata": {},
   "outputs": [],
   "source": [
    "def route_evaluation(state: TweetState):\n",
    "    if state['evaluation'] == 'approved' or state['iteration'] >= state['max_iteration']:\n",
    "        return 'approved'\n",
    "    else:\n",
    "        return 'needs_improvements'"
   ]
  },
  {
   "cell_type": "code",
   "execution_count": 10,
   "id": "0cd28206",
   "metadata": {},
   "outputs": [],
   "source": [
    "graph = StateGraph(state_schema=TweetState)\n",
    "graph.add_node('generate_tweet', generate_tweet)\n",
    "graph.add_node('evaluate_tweet', evaluate_tweet)\n",
    "graph.add_node('optimize_tweet', optimize_tweet)\n",
    "\n",
    "graph.add_edge(START, 'generate_tweet')\n",
    "graph.add_edge('generate_tweet', 'evaluate_tweet')\n",
    "graph.add_conditional_edges(\n",
    "    'evaluate_tweet',\n",
    "    route_evaluation,\n",
    "    {\n",
    "        'approved': END,\n",
    "        'needs_improvements': 'optimize_tweet'\n",
    "    }\n",
    ")\n",
    "graph.add_edge('optimize_tweet', 'evaluate_tweet')\n",
    "graph = graph.compile()"
   ]
  },
  {
   "cell_type": "code",
   "execution_count": 11,
   "id": "02822ccd",
   "metadata": {},
   "outputs": [
    {
     "data": {
      "image/png": "[encoded data removed]",
      "text/plain": [
       "<langgraph.graph.state.CompiledStateGraph object at 0x000002079D7E1550>"
      ]
     },
     "execution_count": 11,
     "metadata": {},
     "output_type": "execute_result"
    }
   ],
   "source": [
    "graph"
   ]
  },
  {
   "cell_type": "code",
   "execution_count": 12,
   "id": "688cbc4f",
   "metadata": {},
   "outputs": [
    {
     "data": {
      "text/plain": [
       "{'topic': 'Indian Railways',\n",
       " 'tweet': \"Indian Railways: where the train is always on time... in an alternate universe. Here, it's like a surprise party—never when you expect it, but when it arrives, everyone’s just happy it showed up. #TrainTales #IndianRailwaysLogic\",\n",
       " 'evaluation': 'approved',\n",
       " 'feedback': 'This tweet showcases originality by creatively comparing Indian Railways to a surprise party, which is a fresh perspective. The humor is subtle yet effective, likely eliciting a chuckle from those familiar with the unpredictability of train schedules. The punchiness is decent, though it could be slightly more concise to enhance its scroll-stopping potential. The use of hashtags is appropriate and adds to its virality potential, as it taps into a relatable experience for many. Overall, it is well-formed and adheres to the character limit, making it a strong tweet.',\n",
       " 'iteration': 1,\n",
       " 'tweet_history': [\"Indian Railways: where the train is always on time... in an alternate universe. Here, it's like a surprise party—never when you expect it, but when it arrives, everyone’s just happy it showed up. #TrainTales #IndianRailwaysLogic\"],\n",
       " 'feedback_history': ['This tweet showcases originality by creatively comparing Indian Railways to a surprise party, which is a fresh perspective. The humor is subtle yet effective, likely eliciting a chuckle from those familiar with the unpredictability of train schedules. The punchiness is decent, though it could be slightly more concise to enhance its scroll-stopping potential. The use of hashtags is appropriate and adds to its virality potential, as it taps into a relatable experience for many. Overall, it is well-formed and adheres to the character limit, making it a strong tweet.']}"
      ]
     },
     "execution_count": 12,
     "metadata": {},
     "output_type": "execute_result"
    }
   ],
   "source": [
    "initial_state = {\n",
    "    'topic': 'Indian Railways',\n",
    "    'iteration': 1,\n",
    "    'max_iteraion': 5\n",
    "}\n",
    "\n",
    "graph.invoke(initial_state)"
   ]
  },
  {
   "cell_type": "code",
   "execution_count": null,
   "id": "c28ecd8b",
   "metadata": {},
   "outputs": [],
   "source": []
  },
  {
   "cell_type": "code",
   "execution_count": null,
   "id": "f8c5f334",
   "metadata": {},
   "outputs": [],
   "source": []
  },
  {
   "cell_type": "code",
   "execution_count": null,
   "id": "8ed5b0c9",
   "metadata": {},
   "outputs": [],
   "source": []
  },
  {
   "cell_type": "code",
   "execution_count": null,
   "id": "60ab1dff",
   "metadata": {},
   "outputs": [],
   "source": []
  },
  {
   "cell_type": "code",
   "execution_count": null,
   "id": "00a5a6af",
   "metadata": {},
   "outputs": [],
   "source": []
  },
  {
   "cell_type": "code",
   "execution_count": null,
   "id": "b6be5644",
   "metadata": {},
   "outputs": [],
   "source": []
  },
  {
   "cell_type": "code",
   "execution_count": null,
   "id": "8088af5f",
   "metadata": {},
   "outputs": [],
   "source": []
  },
  {
   "cell_type": "code",
   "execution_count": null,
   "id": "28ff15b7",
   "metadata": {},
   "outputs": [],
   "source": []
  },
  {
   "cell_type": "code",
   "execution_count": null,
   "id": "f0a1596e",
   "metadata": {},
   "outputs": [],
   "source": []
  },
  {
   "cell_type": "code",
   "execution_count": null,
   "id": "13ae990b",
   "metadata": {},
   "outputs": [],
   "source": []
  },
  {
   "cell_type": "code",
   "execution_count": null,
   "id": "69937c6f",
   "metadata": {},
   "outputs": [],
   "source": []
  },
  {
   "cell_type": "code",
   "execution_count": null,
   "id": "53bd55f2",
   "metadata": {},
   "outputs": [],
   "source": []
  },
  {
   "cell_type": "code",
   "execution_count": null,
   "id": "577a7acd",
   "metadata": {},
   "outputs": [],
   "source": []
  }
 ],
 "metadata": {
  "kernelspec": {
   "display_name": "with-langgraph",
   "language": "python",
   "name": "python3"
  },
  "language_info": {
   "codemirror_mode": {
    "name": "ipython",
    "version": 3
   },
   "file_extension": ".py",
   "mimetype": "text/x-python",
   "name": "python",
   "nbconvert_exporter": "python",
   "pygments_lexer": "ipython3",
   "version": "3.11.4"
  }
 },
 "nbformat": 4,
 "nbformat_minor": 5
}
