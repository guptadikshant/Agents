{
 "cells": [
  {
   "cell_type": "code",
   "execution_count": 12,
   "id": "34c54c9b",
   "metadata": {},
   "outputs": [],
   "source": [
    "from typing import TypedDict\n",
    "\n",
    "from dotenv import find_dotenv, load_dotenv\n",
    "from langchain_community.tools.tavily_search import TavilySearchResults\n",
    "from langchain_openai import ChatOpenAI\n",
    "from langgraph.graph import END, START, StateGraph\n",
    "from langgraph.prebuilt import ToolNode, tools_condition\n",
    "from langchain_core.messages import HumanMessage, AIMessage"
   ]
  },
  {
   "cell_type": "code",
   "execution_count": 13,
   "id": "273db3c6",
   "metadata": {},
   "outputs": [
    {
     "data": {
      "text/plain": [
       "True"
      ]
     },
     "execution_count": 13,
     "metadata": {},
     "output_type": "execute_result"
    }
   ],
   "source": [
    "load_dotenv(find_dotenv())"
   ]
  },
  {
   "cell_type": "code",
   "execution_count": 14,
   "id": "f7d4003a",
   "metadata": {},
   "outputs": [],
   "source": [
    "llm = ChatOpenAI(model=\"gpt-4.1-mini\", temperature=0)\n",
    "tool = [TavilySearchResults(max_results=1, topic=\"general\")]\n",
    "llm_with_tool = llm.bind_tools(tool)"
   ]
  },
  {
   "cell_type": "code",
   "execution_count": 15,
   "id": "1f338585",
   "metadata": {},
   "outputs": [],
   "source": [
    "class ResearchState(TypedDict):\n",
    "    research_topic: str\n",
    "    searched_output: str\n",
    "    messages: list"
   ]
  },
  {
   "cell_type": "code",
   "execution_count": 30,
   "id": "329bab6f",
   "metadata": {},
   "outputs": [],
   "source": [
    "def search_topic(state: ResearchState):\n",
    "    print(f\"Search topic: {state['research_topic']}\")\n",
    "    prompt = f\"\"\"\n",
    "You are a intelligent research assistant which searches on the internet on a below given topic. The search result should be of 2-3 lines summary and less than 300 words. Capture the main points, no need to capture the whole sentences. This summary will be consumed by someone who will creates final report out of it. So it is vital for you to capture the essence of the topic and ignore any fluff.\n",
    "\n",
    "NOTE: If you are not able to run the available tool(s), the reply with best of your knowledge\n",
    "\n",
    "\\n\\n Search Topic: {state[\"research_topic\"]}\n",
    "\"\"\"\n",
    "    # messages = [HumanMessage(content=prompt)]\n",
    "    response = llm_with_tool.invoke(prompt)\n",
    "\n",
    "    return {\"searched_output\": response.content, \"messages\": [response]}"
   ]
  },
  {
   "cell_type": "code",
   "execution_count": 31,
   "id": "975dd971",
   "metadata": {},
   "outputs": [],
   "source": [
    "def create_search_graph():\n",
    "    graph = StateGraph(state_schema=ResearchState)\n",
    "    graph.add_node(\"search_agent\", search_topic)\n",
    "    graph.add_node('tools', ToolNode(tools=tool))\n",
    "    graph.add_edge(START, \"search_agent\")\n",
    "    graph.add_edge(\"search_agent\", 'tools')\n",
    "    graph.add_conditional_edges(\n",
    "        'search_agent',\n",
    "        tools_condition\n",
    "    )\n",
    "    graph.add_edge(\"search_agent\", END)\n",
    "\n",
    "    return graph.compile()"
   ]
  },
  {
   "cell_type": "code",
   "execution_count": 32,
   "id": "bdd7011b",
   "metadata": {},
   "outputs": [],
   "source": [
    "workflow = create_search_graph()"
   ]
  },
  {
   "cell_type": "code",
   "execution_count": 33,
   "id": "416fb201",
   "metadata": {},
   "outputs": [
    {
     "data": {
      "image/png": "[encoded data removed]",
      "text/plain": [
       "<langgraph.graph.state.CompiledStateGraph object at 0x00000189C15EADD0>"
      ]
     },
     "execution_count": 33,
     "metadata": {},
     "output_type": "execute_result"
    }
   ],
   "source": [
    "workflow"
   ]
  },
  {
   "cell_type": "code",
   "execution_count": 34,
   "id": "a8098b72",
   "metadata": {},
   "outputs": [
    {
     "name": "stdout",
     "output_type": "stream",
     "text": [
      "Search topic: content='GPT-5 Launch' additional_kwargs={} response_metadata={}\n"
     ]
    }
   ],
   "source": [
    "messages = workflow.invoke({'research_topic': HumanMessage(content=\"GPT-5 Launch\")})"
   ]
  },
  {
   "cell_type": "code",
   "execution_count": 35,
   "id": "032ceca1",
   "metadata": {},
   "outputs": [
    {
     "name": "stdout",
     "output_type": "stream",
     "text": [
      "=================================\u001b[1m Tool Message \u001b[0m=================================\n",
      "Name: tavily_search_results_json\n",
      "\n",
      "[{\"title\": \"Everything you should know about GPT-5 [August 2025] - Botpress\", \"url\": \"https://botpress.com/blog/everything-you-should-know-about-gpt-5\", \"content\": \"After months of speculation, OpenAI officially announced the GPT-5 launch on August 6, 2025, with a cryptic teaser posted on X (formerly Twitter):\\n\\n> LIVE5TREAM THURSDAY 10AM PT\\n> \\n> — OpenAI (@OpenAI) August 6, 2025\\n\\nThe “5” in the livestream title was the only confirmation needed — it marked the arrival of GPT-5. Just 24 hours later, on August 7 at 10am PT, OpenAI began rolling out GPT-5 across ChatGPT, the API, and the GitHub Models Playground. [...] What is GPT-5?\\n--------------\\n\\nGPT-5 is OpenAI’s latest-generation large language model, officially released on August 7, 2025. It builds on the GPT architecture while integrating advancements fromreasoning-first models like o1 and o3.\\n\\nBefore GPT-5, OpenAI rolled out GPT-4.5 (Orion) inside ChatGPT — a transitional model that sharpened reasoning accuracy, reduced hallucinations, and laid the groundwork for the deeper chain-of-thought execution now native to GPT-5. [...] Over the past year, OpenAI introduced GPT-4o, o1, and o3, each improving how AI thinks, reasons, and interacts.\\n\\nThese models made AI responses faster, more accurate, and more intuitive. But each was just a step toward something bigger.\\n\\nOn August 6th, OpenAI announced — not-so-subtly — the imminent launch of GPT-5.\", \"score\": 0.8745175}]\n"
     ]
    }
   ],
   "source": [
    "for message in messages[\"messages\"]:\n",
    "    message.pretty_print()"
   ]
  },
  {
   "cell_type": "code",
   "execution_count": null,
   "id": "52997b1a",
   "metadata": {},
   "outputs": [],
   "source": []
  }
 ],
 "metadata": {
  "kernelspec": {
   "display_name": "with-langgraph",
   "language": "python",
   "name": "python3"
  },
  "language_info": {
   "codemirror_mode": {
    "name": "ipython",
    "version": 3
   },
   "file_extension": ".py",
   "mimetype": "text/x-python",
   "name": "python",
   "nbconvert_exporter": "python",
   "pygments_lexer": "ipython3",
   "version": "3.11.4"
  }
 },
 "nbformat": 4,
 "nbformat_minor": 5
}
