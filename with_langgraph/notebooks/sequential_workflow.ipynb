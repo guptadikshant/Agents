{
 "cells": [
  {
   "cell_type": "code",
   "execution_count": 6,
   "id": "ea48e03a",
   "metadata": {},
   "outputs": [],
   "source": [
    "from typing import TypedDict\n",
    "from langchain_core.messages import HumanMessage\n",
    "from langchain_openai import ChatOpenAI\n",
    "from langgraph.graph import StateGraph, START, END\n",
    "from dotenv import load_dotenv, find_dotenv"
   ]
  },
  {
   "cell_type": "code",
   "execution_count": 7,
   "id": "ea25d449",
   "metadata": {},
   "outputs": [
    {
     "data": {
      "text/plain": [
       "True"
      ]
     },
     "execution_count": 7,
     "metadata": {},
     "output_type": "execute_result"
    }
   ],
   "source": [
    "load_dotenv(find_dotenv())"
   ]
  },
  {
   "cell_type": "code",
   "execution_count": 23,
   "id": "119ccb2b",
   "metadata": {},
   "outputs": [],
   "source": [
    "llm = ChatOpenAI(model=\"gpt-4o-mini\", temperature=0)"
   ]
  },
  {
   "cell_type": "markdown",
   "id": "815bedc8",
   "metadata": {},
   "source": [
    "## Workflow without LLM"
   ]
  },
  {
   "cell_type": "code",
   "execution_count": 12,
   "id": "380d84f9",
   "metadata": {},
   "outputs": [],
   "source": [
    "class BMIState(TypedDict):\n",
    "    weight: int\n",
    "    height: float\n",
    "    bmi: float\n",
    "    category: str"
   ]
  },
  {
   "cell_type": "code",
   "execution_count": 4,
   "id": "ecdc8a6c",
   "metadata": {},
   "outputs": [],
   "source": [
    "def calculate_bmi(state: BMIState) -> BMIState:\n",
    "    weight = state[\"weight\"]\n",
    "    height = state[\"height\"]\n",
    "\n",
    "    bmi = weight / (height**2)\n",
    "    state[\"bmi\"] = round(bmi, 2)\n",
    "    return state"
   ]
  },
  {
   "cell_type": "code",
   "execution_count": null,
   "id": "23e33021",
   "metadata": {},
   "outputs": [],
   "source": [
    "def label_bmi(state: BMIState) -> BMIState:\n",
    "    bmi = state[\"bmi\"]\n",
    "\n",
    "    if bmi < 18.5:\n",
    "        state[\"category\"] = \"under_weight\"\n",
    "    elif 18.5 <= bmi < 25:\n",
    "        state[\"category\"] = \"normal_weight\"\n",
    "    elif 25 <= bmi < 30:\n",
    "        state[\"category\"] = \"over_weight\"\n",
    "    else:\n",
    "        state[\"category\"] = \"obese\"\n",
    "    \n",
    "    return state"
   ]
  },
  {
   "cell_type": "code",
   "execution_count": 15,
   "id": "55e2bbd1",
   "metadata": {},
   "outputs": [],
   "source": [
    "# define the graph\n",
    "graph = StateGraph(state_schema=BMIState)\n",
    "# add the nodes\n",
    "graph.add_node('calculate_bmi', calculate_bmi)\n",
    "graph.add_node('label_bmi', label_bmi)\n",
    "# add the edges\n",
    "graph.add_edge(START, 'calculate_bmi')\n",
    "graph.add_edge(\"calculate_bmi\", \"label_bmi\")\n",
    "graph.add_edge('label_bmi', END)\n",
    "# compile the graph\n",
    "graph = graph.compile()"
   ]
  },
  {
   "cell_type": "code",
   "execution_count": 16,
   "id": "c79cd7e1",
   "metadata": {},
   "outputs": [
    {
     "data": {
      "image/png": "[encoded data removed]",
      "text/plain": [
       "<langgraph.graph.state.CompiledStateGraph object at 0x0000014B90163890>"
      ]
     },
     "execution_count": 16,
     "metadata": {},
     "output_type": "execute_result"
    }
   ],
   "source": [
    "graph"
   ]
  },
  {
   "cell_type": "code",
   "execution_count": 17,
   "id": "3dd6c05a",
   "metadata": {},
   "outputs": [
    {
     "data": {
      "text/plain": [
       "{'weight': 80, 'height': 1.73, 'bmi': 26.73, 'category': 'over_weight'}"
      ]
     },
     "execution_count": 17,
     "metadata": {},
     "output_type": "execute_result"
    }
   ],
   "source": [
    "graph.invoke({\"weight\": 80, \"height\": 1.73})"
   ]
  },
  {
   "cell_type": "markdown",
   "id": "21c5056a",
   "metadata": {},
   "source": [
    "## LLM Based Workflow"
   ]
  },
  {
   "cell_type": "code",
   "execution_count": 18,
   "id": "ea6240dd",
   "metadata": {},
   "outputs": [],
   "source": [
    "class LLMState(TypedDict):\n",
    "    question: str\n",
    "    answer: str"
   ]
  },
  {
   "cell_type": "code",
   "execution_count": 24,
   "id": "ec7fd3d2",
   "metadata": {},
   "outputs": [],
   "source": [
    "def llm_qa(state: LLMState) -> LLMState:\n",
    "    question = state[\"question\"]\n",
    "    prompt = f\"Answer the below question as best of your knowledge. \\n\\n Question: {question}\"\n",
    "    answer = llm.invoke(prompt).content\n",
    "    state[\"answer\"] = answer\n",
    "\n",
    "    return state"
   ]
  },
  {
   "cell_type": "code",
   "execution_count": 25,
   "id": "0090f626",
   "metadata": {},
   "outputs": [
    {
     "data": {
      "image/png": "[encoded data removed]",
      "text/plain": [
       "<langgraph.graph.state.CompiledStateGraph object at 0x0000014B916DF890>"
      ]
     },
     "execution_count": 25,
     "metadata": {},
     "output_type": "execute_result"
    }
   ],
   "source": [
    "graph = StateGraph(LLMState)\n",
    "graph.add_node(\"llm_qa\", llm_qa)\n",
    "graph.add_edge(START, \"llm_qa\")\n",
    "graph.add_edge(\"llm_qa\", END)\n",
    "graph = graph.compile()\n",
    "\n",
    "graph"
   ]
  },
  {
   "cell_type": "code",
   "execution_count": 26,
   "id": "989842c8",
   "metadata": {},
   "outputs": [
    {
     "data": {
      "text/plain": [
       "{'question': 'How far is moon from the earth?',\n",
       " 'answer': \"The average distance from the Earth to the Moon is about 238,855 miles (384,400 kilometers). However, this distance can vary slightly due to the Moon's elliptical orbit around the Earth, ranging from about 225,623 miles (363,104 kilometers) at its closest (perigee) to about 252,088 miles (405,696 kilometers) at its farthest (apogee).\"}"
      ]
     },
     "execution_count": 26,
     "metadata": {},
     "output_type": "execute_result"
    }
   ],
   "source": [
    "graph.invoke({\"question\": \"How far is moon from the earth?\"})"
   ]
  },
  {
   "cell_type": "markdown",
   "id": "5bc7becc",
   "metadata": {},
   "source": [
    "## Prompt Chaining"
   ]
  },
  {
   "cell_type": "code",
   "execution_count": 32,
   "id": "5b677a8a",
   "metadata": {},
   "outputs": [],
   "source": [
    "class BlogState(TypedDict):\n",
    "    title: str\n",
    "    outline: str\n",
    "    content: str\n",
    "    eval_score: int"
   ]
  },
  {
   "cell_type": "code",
   "execution_count": 33,
   "id": "09bec030",
   "metadata": {},
   "outputs": [],
   "source": [
    "def create_outline(state: BlogState) -> BlogState:\n",
    "    title = state[\"title\"]\n",
    "    prompt = f\"Generate a detailed outline for a blog on the below mentioned topic. \\n\\n Topic: {title}\"\n",
    "    outline = llm.invoke(prompt).content\n",
    "    state[\"outline\"] = outline\n",
    "\n",
    "    return state\n"
   ]
  },
  {
   "cell_type": "code",
   "execution_count": 34,
   "id": "39e32934",
   "metadata": {},
   "outputs": [],
   "source": [
    "def create_blog(state: BlogState) -> BlogState:\n",
    "    title = state[\"title\"]\n",
    "    outline = state[\"outline\"]\n",
    "\n",
    "    prompt = f\"Write a detailed blog on the below mentioned title using the given outline below. \\n\\n Title: {title} \\n\\n {outline}\"\n",
    "\n",
    "    content = llm.invoke(prompt).content\n",
    "    state[\"content\"] = content\n",
    "    return state"
   ]
  },
  {
   "cell_type": "code",
   "execution_count": 35,
   "id": "46b67caa",
   "metadata": {},
   "outputs": [],
   "source": [
    "def evaluate_blog(state: BlogState) -> BlogState:\n",
    "    outline = state['outline']\n",
    "    content = state['content']\n",
    "\n",
    "    prompt = f\"Based on the below given outline, evaluate the below blog and give the evaluation score out of 5 in integer only. \\n\\n Outline: {outline} \\n\\n Blog Content: {content}\"\n",
    "\n",
    "    eval_score = llm.invoke(prompt).content\n",
    "    state[\"eval_score\"] = eval_score\n",
    "\n",
    "    return state"
   ]
  },
  {
   "cell_type": "code",
   "execution_count": 36,
   "id": "004d180f",
   "metadata": {},
   "outputs": [
    {
     "data": {
      "image/png": "[encoded data removed]",
      "text/plain": [
       "<langgraph.graph.state.CompiledStateGraph object at 0x0000014B8E7AB890>"
      ]
     },
     "execution_count": 36,
     "metadata": {},
     "output_type": "execute_result"
    }
   ],
   "source": [
    "graph = StateGraph(BlogState)\n",
    "graph.add_node(\"create_outline\", create_outline)\n",
    "graph.add_node(\"create_blog\", create_blog)\n",
    "graph.add_node(\"evaluate_blog\", evaluate_blog)\n",
    "\n",
    "graph.add_edge(START, 'create_outline')\n",
    "graph.add_edge('create_outline', 'create_blog')\n",
    "graph.add_edge('create_blog', 'evaluate_blog')\n",
    "graph.add_edge('evaluate_blog', END)\n",
    "\n",
    "graph = graph.compile()\n",
    "\n",
    "graph"
   ]
  },
  {
   "cell_type": "code",
   "execution_count": 38,
   "id": "c07ccb92",
   "metadata": {},
   "outputs": [
    {
     "name": "stdout",
     "output_type": "stream",
     "text": [
      "Blog Outline: # Blog Outline: The Rise of AI in India\n",
      "\n",
      "## Introduction\n",
      "- Brief overview of AI and its significance in the modern world\n",
      "- Importance of discussing the rise of AI specifically in India\n",
      "- Purpose of the blog: to explore the current state, challenges, and future prospects of AI in India\n",
      "\n",
      "## Section 1: Understanding AI\n",
      "### 1.1 Definition of Artificial Intelligence\n",
      "- Explanation of AI and its various branches (machine learning, natural language processing, etc.)\n",
      "### 1.2 Historical Context\n",
      "- Brief history of AI development globally\n",
      "- Key milestones in AI development in India\n",
      "\n",
      "## Section 2: Current State of AI in India\n",
      "### 2.1 Government Initiatives\n",
      "- Overview of government policies and initiatives promoting AI (e.g., National AI Strategy)\n",
      "- Role of NITI Aayog and other governmental bodies\n",
      "### 2.2 Industry Growth\n",
      "- Statistics on AI startups and investments in India\n",
      "- Key sectors adopting AI (healthcare, agriculture, finance, etc.)\n",
      "### 2.3 Academic Contributions\n",
      "- Role of Indian universities and research institutions in AI research\n",
      "- Collaborations between academia and industry\n",
      "\n",
      "## Section 3: Key Players in the AI Ecosystem\n",
      "### 3.1 Startups\n",
      "- Highlighting successful AI startups in India (e.g., Zomato, Razorpay, etc.)\n",
      "- Discussion on the startup ecosystem and funding landscape\n",
      "### 3.2 Corporations\n",
      "- Major corporations investing in AI (e.g., Infosys, TCS, Wipro)\n",
      "- Case studies of AI implementation in large enterprises\n",
      "### 3.3 Government and NGOs\n",
      "- Role of government and non-profit organizations in promoting AI literacy and research\n",
      "\n",
      "## Section 4: Challenges Facing AI in India\n",
      "### 4.1 Infrastructure and Resources\n",
      "- Discussion on the need for better infrastructure (data centers, internet access)\n",
      "### 4.2 Skill Gap\n",
      "- Analysis of the current skill gap in AI talent\n",
      "- Initiatives to bridge the gap (training programs, online courses)\n",
      "### 4.3 Ethical and Regulatory Concerns\n",
      "- Overview of ethical issues related to AI (bias, privacy concerns)\n",
      "- Current regulatory landscape and the need for policies\n",
      "\n",
      "## Section 5: Future Prospects of AI in India\n",
      "### 5.1 Economic Impact\n",
      "- Predictions on how AI will contribute to India’s GDP\n",
      "- Potential for job creation and transformation of industries\n",
      "### 5.2 Innovations on the Horizon\n",
      "- Emerging trends in AI technology (e.g., AI in IoT, AI for social good)\n",
      "### 5.3 Global Positioning\n",
      "- India’s potential to become a global leader in AI\n",
      "- Comparison with other countries in AI development\n",
      "\n",
      "## Section 6: Conclusion\n",
      "- Recap of the rise of AI in India and its implications\n",
      "- Call to action for stakeholders (government, industry, academia) to collaborate for a sustainable AI future\n",
      "- Encouragement for readers to stay informed and engaged with AI developments\n",
      "\n",
      "## Additional Resources\n",
      "- Links to relevant articles, reports, and studies on AI in India\n",
      "- Suggested books and online courses for further learning\n",
      "\n",
      "## Call to Action\n",
      "- Invite readers to share their thoughts on AI in India in the comments\n",
      "- Encourage sharing the blog on social media to raise awareness about AI developments in India\n",
      "Blog Content: # Rise of AI in India\n",
      "\n",
      "## Introduction\n",
      "\n",
      "Artificial Intelligence (AI) has emerged as a transformative force in the modern world, reshaping industries, enhancing productivity, and revolutionizing the way we interact with technology. From self-driving cars to virtual assistants, AI is not just a buzzword; it is a critical component of innovation and economic growth. In India, a country known for its rich technological heritage and a burgeoning startup ecosystem, the rise of AI is particularly significant. This blog aims to explore the current state of AI in India, the challenges it faces, and the future prospects that lie ahead.\n",
      "\n",
      "## Section 1: Understanding AI\n",
      "\n",
      "### 1.1 Definition of Artificial Intelligence\n",
      "\n",
      "Artificial Intelligence refers to the simulation of human intelligence in machines programmed to think and learn. It encompasses various branches, including machine learning (ML), where algorithms improve through experience; natural language processing (NLP), which enables machines to understand and respond to human language; and computer vision, which allows machines to interpret visual information. These branches work together to create systems that can perform tasks that typically require human intelligence.\n",
      "\n",
      "### 1.2 Historical Context\n",
      "\n",
      "The journey of AI began in the mid-20th century, with pioneers like Alan Turing and John McCarthy laying the groundwork. Globally, key milestones include the development of expert systems in the 1980s and the advent of deep learning in the 2010s. In India, the AI narrative gained momentum in the early 2000s, with significant contributions from institutions like the Indian Institute of Technology (IIT) and the Indian Institute of Science (IISc). The establishment of the National AI Strategy in 2018 marked a pivotal moment, signaling the government's commitment to harnessing AI for national development.\n",
      "\n",
      "## Section 2: Current State of AI in India\n",
      "\n",
      "### 2.1 Government Initiatives\n",
      "\n",
      "The Indian government has recognized the potential of AI and has initiated several policies to promote its development. The National AI Strategy, spearheaded by NITI Aayog, aims to position India as a global leader in AI by fostering research, innovation, and collaboration across sectors. Initiatives like the \"AI for All\" campaign emphasize the importance of AI literacy and accessibility, ensuring that the benefits of AI reach all segments of society.\n",
      "\n",
      "### 2.2 Industry Growth\n",
      "\n",
      "India's AI landscape is witnessing exponential growth, with over 1,000 AI startups emerging in recent years. According to a report by NASSCOM, investments in AI startups reached approximately $1.7 billion in 2020, with significant funding from both domestic and international investors. Key sectors adopting AI include healthcare, where predictive analytics is improving patient outcomes; agriculture, where AI-driven solutions are enhancing crop yields; and finance, where AI is streamlining operations and risk management.\n",
      "\n",
      "### 2.3 Academic Contributions\n",
      "\n",
      "Indian universities and research institutions are at the forefront of AI research, contributing to advancements in algorithms, data analytics, and machine learning. Collaborations between academia and industry are fostering innovation, with institutions like IIT Bombay and IISc partnering with tech companies to develop cutting-edge AI solutions. These partnerships are crucial for translating research into practical applications that can benefit society.\n",
      "\n",
      "## Section 3: Key Players in the AI Ecosystem\n",
      "\n",
      "### 3.1 Startups\n",
      "\n",
      "The Indian startup ecosystem is vibrant, with successful AI-driven companies like Zomato, which uses AI for personalized recommendations, and Razorpay, which leverages AI for fraud detection and payment processing. The funding landscape is also encouraging, with venture capitalists increasingly investing in AI startups, recognizing their potential for growth and innovation.\n",
      "\n",
      "### 3.2 Corporations\n",
      "\n",
      "Major corporations such as Infosys, Tata Consultancy Services (TCS), and Wipro are heavily investing in AI to enhance their service offerings. For instance, Infosys has developed AI-driven platforms that automate business processes, while TCS has implemented AI solutions in various sectors, including retail and manufacturing. These case studies highlight how large enterprises are integrating AI to improve efficiency and drive growth.\n",
      "\n",
      "### 3.3 Government and NGOs\n",
      "\n",
      "The role of government and non-profit organizations in promoting AI literacy and research cannot be overstated. Initiatives aimed at educating the workforce about AI and its applications are essential for building a knowledgeable society that can leverage AI for social good. Organizations like the Digital India initiative are working to bridge the digital divide and ensure that AI benefits all citizens.\n",
      "\n",
      "## Section 4: Challenges Facing AI in India\n",
      "\n",
      "### 4.1 Infrastructure and Resources\n",
      "\n",
      "Despite the promising growth of AI, India faces significant challenges, particularly in infrastructure. The need for robust data centers, reliable internet access, and advanced computing resources is critical for AI development. Without these foundational elements, the potential of AI cannot be fully realized.\n",
      "\n",
      "### 4.2 Skill Gap\n",
      "\n",
      "There is a notable skill gap in AI talent in India, with a shortage of professionals equipped with the necessary expertise. While initiatives like online courses and training programs are emerging to bridge this gap, there is still a long way to go. Collaboration between educational institutions and industry is essential to create a workforce that meets the demands of the AI sector.\n",
      "\n",
      "### 4.3 Ethical and Regulatory Concerns\n",
      "\n",
      "As AI continues to evolve, ethical issues such as bias in algorithms and privacy concerns are becoming increasingly prominent. The current regulatory landscape is still developing, and there is a pressing need for comprehensive policies that address these challenges while fostering innovation. Establishing ethical guidelines for AI development is crucial to ensure that technology serves humanity positively.\n",
      "\n",
      "## Section 5: Future Prospects of AI in India\n",
      "\n",
      "### 5.1 Economic Impact\n",
      "\n",
      "The economic impact of AI in India is expected to be substantial, with predictions suggesting that AI could contribute up to $957 billion to the Indian economy by 2035. This growth will not only enhance productivity but also create new job opportunities across various sectors, transforming the job landscape.\n",
      "\n",
      "### 5.2 Innovations on the Horizon\n",
      "\n",
      "Emerging trends in AI technology, such as the integration of AI with the Internet of Things (IoT) and AI applications for social good, are set to redefine industries. Innovations in healthcare, education, and environmental sustainability are just a few areas where AI can make a significant impact.\n",
      "\n",
      "### 5.3 Global Positioning\n",
      "\n",
      "India has the potential to become a global leader in AI, leveraging its vast talent pool and entrepreneurial spirit. By fostering collaboration between government, industry, and academia, India can position itself as a hub for AI innovation, competing with countries like the United States and China in the global AI landscape.\n",
      "\n",
      "## Section 6: Conclusion\n",
      "\n",
      "The rise of AI in India is a testament to the country's commitment to innovation and technological advancement. As we navigate the challenges and opportunities that lie ahead, it is crucial for stakeholders—government, industry, and academia—to collaborate for a sustainable AI future. By staying informed and engaged with AI developments, we can ensure that this transformative technology benefits all of society.\n",
      "\n",
      "## Additional Resources\n",
      "\n",
      "- [NASSCOM AI Report](https://nasscom.in)\n",
      "- [National AI Strategy Document](https://niti.gov.in)\n",
      "- Suggested books: \"Artificial Intelligence: A Guide to Intelligent Systems\" by Michael Negnevitsky, \"Life 3.0: Being Human in the Age of Artificial Intelligence\" by Max Tegmark\n",
      "- Online courses: Coursera's \"AI for Everyone\" by Andrew Ng, edX's \"Artificial Intelligence\" by Columbia University\n",
      "\n",
      "## Call to Action\n",
      "\n",
      "We invite you to share your thoughts on the rise of AI in India in the comments below. What excites you about the future of AI? How do you see it impacting your industry? Don’t forget to share this blog on social media to raise awareness about the developments in AI in India!\n",
      "Blog Eval Score: Based on the provided outline and the blog content, I would evaluate the blog with a score of **4 out of 5**. \n",
      "\n",
      "### Evaluation Criteria:\n",
      "1. **Structure and Organization (4/5)**: The blog follows the outline closely, with clear sections that address the key points outlined. Each section is logically organized, making it easy for readers to follow the flow of information.\n",
      "\n",
      "2. **Content Depth and Relevance (4/5)**: The blog provides a comprehensive overview of AI in India, covering definitions, historical context, current state, challenges, and future prospects. However, some sections could benefit from more detailed examples or case studies to enhance depth.\n",
      "\n",
      "3. **Clarity and Engagement (4/5)**: The writing is clear and accessible, making complex topics understandable for a broad audience. The call to action at the end encourages reader engagement, which is a positive aspect.\n",
      "\n",
      "4. **Additional Resources (5/5)**: The inclusion of additional resources is a strong point, providing readers with avenues for further exploration of the topic.\n",
      "\n",
      "5. **Originality and Insight (4/5)**: While the blog presents relevant information, it could include more unique insights or perspectives on the implications of AI in India, which would enhance its originality.\n",
      "\n",
      "Overall, the blog is well-written and informative, but there is room for improvement in providing deeper insights and examples.\n"
     ]
    }
   ],
   "source": [
    "result = graph.invoke({'title': \"Rise of AI in India\"})\n",
    "print(f\"Blog Outline: {result['outline']}\")\n",
    "print(f\"Blog Content: {result['content']}\")\n",
    "print(f\"Blog Eval Score: {result['eval_score']}\")"
   ]
  },
  {
   "cell_type": "code",
   "execution_count": null,
   "id": "bbfd401b",
   "metadata": {},
   "outputs": [],
   "source": []
  },
  {
   "cell_type": "code",
   "execution_count": null,
   "id": "9dfb6433",
   "metadata": {},
   "outputs": [],
   "source": []
  },
  {
   "cell_type": "code",
   "execution_count": null,
   "id": "4ba6aa57",
   "metadata": {},
   "outputs": [],
   "source": []
  }
 ],
 "metadata": {
  "kernelspec": {
   "display_name": "with-langgraph",
   "language": "python",
   "name": "python3"
  },
  "language_info": {
   "codemirror_mode": {
    "name": "ipython",
    "version": 3
   },
   "file_extension": ".py",
   "mimetype": "text/x-python",
   "name": "python",
   "nbconvert_exporter": "python",
   "pygments_lexer": "ipython3",
   "version": "3.11.4"
  }
 },
 "nbformat": 4,
 "nbformat_minor": 5
}
