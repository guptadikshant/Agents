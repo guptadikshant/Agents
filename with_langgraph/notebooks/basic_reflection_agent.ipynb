{
 "cells": [
  {
   "cell_type": "code",
   "execution_count": 1,
   "id": "c4df586a-8527-458b-9e7c-c1d7e027f192",
   "metadata": {},
   "outputs": [],
   "source": [
    "import os\n",
    "from langchain_core.prompts import ChatPromptTemplate, MessagesPlaceholder\n",
    "from langchain_google_genai import ChatGoogleGenerativeAI\n",
    "from langchain_openai import ChatOpenAI\n",
    "from typing import List, Sequence\n",
    "from langchain_core.messages import BaseMessage, HumanMessage\n",
    "from langgraph.graph import END, MessageGraph # MessageGraph to pass messages along between nodes\n",
    "from dotenv import load_dotenv, find_dotenv"
   ]
  },
  {
   "cell_type": "code",
   "execution_count": 2,
   "id": "fbfa5d71-90db-4532-91c4-be9521afa067",
   "metadata": {},
   "outputs": [
    {
     "data": {
      "text/plain": [
       "True"
      ]
     },
     "execution_count": 2,
     "metadata": {},
     "output_type": "execute_result"
    }
   ],
   "source": [
    "load_dotenv(find_dotenv())"
   ]
  },
  {
   "cell_type": "code",
   "execution_count": 3,
   "id": "bbe4a225-b8c9-48ea-ac4b-e4bfcccd02fc",
   "metadata": {},
   "outputs": [],
   "source": [
    "generation_prompt = ChatPromptTemplate.from_messages(\n",
    "    [\n",
    "        (\n",
    "            \"system\",\n",
    "            \"\"\"\n",
    "            You are a twitter techie influencer assistant tasked with writing excellent twitter posts.\n",
    "            Generate the best twiiter post possible for the user's request.\n",
    "            IF the user provides critique, respond with a revised version of your previous attempts\n",
    "            \"\"\"\n",
    "        ),\n",
    "        MessagesPlaceholder(variable_name=\"messages\")\n",
    "    ]\n",
    ")\n",
    "\n",
    "\n",
    "reflection_prompt = ChatPromptTemplate.from_messages(\n",
    "    [\n",
    "        (\n",
    "            \"system\",\n",
    "            \"\"\"\n",
    "            You are a viral twitter influencer grading a tweet. Generate critique and recommmendations for the user's tweet.\n",
    "            Always provide detailed recommendations, including requests for length, virality, style etc.\n",
    "            \"\"\"\n",
    "        ),\n",
    "        MessagesPlaceholder(variable_name=\"messages\")\n",
    "    ]\n",
    ")"
   ]
  },
  {
   "cell_type": "code",
   "execution_count": 4,
   "id": "50da4f73-1af3-437e-ac17-0c3c1e3a6a91",
   "metadata": {},
   "outputs": [],
   "source": [
    "llm = ChatGoogleGenerativeAI(model=\"gemini-2.0-flash\")\n",
    "# llm = ChatOpenAI(model=\"gpt-4.1-mini\")"
   ]
  },
  {
   "cell_type": "code",
   "execution_count": 5,
   "id": "53ab987c-6d8f-48f8-8d2e-b100a4161176",
   "metadata": {},
   "outputs": [],
   "source": [
    "generation_chain = generation_prompt | llm\n",
    "reflection_chain = reflection_prompt | llm"
   ]
  },
  {
   "cell_type": "code",
   "execution_count": 6,
   "id": "964db897-c193-40f2-bb0a-fa96170a0b40",
   "metadata": {},
   "outputs": [],
   "source": [
    "GENERATE = \"generate\"\n",
    "REFLECT = \"reflect\""
   ]
  },
  {
   "cell_type": "code",
   "execution_count": 7,
   "id": "a5cd859c-123b-448d-ad02-67e6eeaa3072",
   "metadata": {},
   "outputs": [],
   "source": [
    "def generate_node(state):\n",
    "    return generation_chain.invoke(\n",
    "        {\n",
    "            \"messages\": state\n",
    "        }\n",
    "    )"
   ]
  },
  {
   "cell_type": "code",
   "execution_count": 8,
   "id": "c2161027-9d46-4f48-9d2f-0f7ab0e94ab1",
   "metadata": {},
   "outputs": [],
   "source": [
    "def reflection_node(state):\n",
    "    response =  reflection_chain.invoke(\n",
    "        {\n",
    "            \"messages\": state\n",
    "        }\n",
    "    )\n",
    "    # to trick the system to think, the critique is done by Human\n",
    "    return [HumanMessage(content=response.content)]"
   ]
  },
  {
   "cell_type": "code",
   "execution_count": 9,
   "id": "f3d13206-e7d9-45aa-a693-5dd3eeaf802a",
   "metadata": {},
   "outputs": [],
   "source": [
    "def should_continue(state):\n",
    "    if len(state) > 4:\n",
    "        return \"end\"\n",
    "    return \"continue\""
   ]
  },
  {
   "cell_type": "code",
   "execution_count": 10,
   "id": "c3a2ffe3-979d-4a62-a1e9-77868b7335ca",
   "metadata": {},
   "outputs": [],
   "source": [
    "graph = MessageGraph()\n",
    "graph.set_entry_point(GENERATE)\n",
    "graph.add_node(GENERATE, generate_node)\n",
    "graph.add_node(REFLECT, reflection_node)\n",
    "graph.add_conditional_edges(\n",
    "    GENERATE,\n",
    "    should_continue,\n",
    "    {\n",
    "        \"continue\": REFLECT,\n",
    "        \"end\": END\n",
    "    }\n",
    ")\n",
    "graph.add_edge(REFLECT, GENERATE)\n",
    "app = graph.compile()"
   ]
  },
  {
   "cell_type": "code",
   "execution_count": 11,
   "id": "a61b9054-0500-4483-ac14-658439a51bd6",
   "metadata": {},
   "outputs": [
    {
     "data": {
      "image/png": "[encoded data removed]",
      "text/plain": [
       "<langgraph.graph.state.CompiledStateGraph object at 0x000002923F221BD0>"
      ]
     },
     "execution_count": 11,
     "metadata": {},
     "output_type": "execute_result"
    }
   ],
   "source": [
    "app"
   ]
  },
  {
   "cell_type": "code",
   "execution_count": 12,
   "id": "ef6ba407-2181-4a1b-89c4-d73a0dba4dd5",
   "metadata": {},
   "outputs": [
    {
     "name": "stderr",
     "output_type": "stream",
     "text": [
      "F:\\PlayGround\\GEN_AI\\Agents\\with_langgraph\\.venv\\Lib\\site-packages\\langchain_google_genai\\chat_models.py:1568: UserWarning: HumanMessage with empty content was removed to prevent API error\n",
      "  warnings.warn(\n",
      "F:\\PlayGround\\GEN_AI\\Agents\\with_langgraph\\.venv\\Lib\\site-packages\\langchain_google_genai\\chat_models.py:1568: UserWarning: HumanMessage with empty content was removed to prevent API error\n",
      "  warnings.warn(\n",
      "F:\\PlayGround\\GEN_AI\\Agents\\with_langgraph\\.venv\\Lib\\site-packages\\langchain_google_genai\\chat_models.py:1568: UserWarning: HumanMessage with empty content was removed to prevent API error\n",
      "  warnings.warn(\n"
     ]
    },
    {
     "data": {
      "text/plain": [
       "[HumanMessage(content='AI Agents taking over content creation', additional_kwargs={}, response_metadata={}, id='d2c898cb-21ce-448d-88b7-fc8a74ac969d'),\n",
       " AIMessage(content=\"Okay, here are a few options for a tweet about AI agents and content creation, playing with different angles:\\n\\n**Option 1 (Intriguing & Slightly Provocative):**\\n\\n> AI agents are now writing articles, designing graphics, and even composing music. Are we on the verge of a content creation singularity? 🤖 #AI #ContentCreation #ArtificialIntelligence #FutureofWork\\n\\n**Option 2 (Focus on Efficiency & Opportunity):**\\n\\n> AI agents are revolutionizing content creation! Automating tasks, boosting efficiency, and freeing up human creatives to focus on strategy & innovation.  Exciting times ahead! ✨ #AIagents #ContentMarketing #Automation #Innovation\\n\\n**Option 3 (More Balanced & Realistic):**\\n\\n> AI agents are making waves in content creation, but it's not about replacement, it's about augmentation.  Think smarter workflows, personalized experiences, and new creative possibilities. How are you leveraging AI in your content strategy? 🤔 #AI #ContentStrategy #MachineLearning #DigitalMarketing\\n\\n**Option 4 (Short & Punchy):**\\n\\n> Content creation is about to get a whole lot faster (and weirder) thanks to AI agents. 🚀 #AIContent #ArtificialIntelligence #Marketing\\n\\nI tried to offer a range from a bit dramatic to more practical and optimistic.  Which direction do you prefer? Let me know if you'd like me to tweak any of these or try a different approach!\", additional_kwargs={}, response_metadata={'prompt_feedback': {'block_reason': 0, 'safety_ratings': []}, 'finish_reason': 'STOP', 'model_name': 'gemini-2.0-flash', 'safety_ratings': []}, id='run--6b5bfc01-4f08-4851-911a-8a10da586305-0', usage_metadata={'input_tokens': 59, 'output_tokens': 298, 'total_tokens': 357, 'input_token_details': {'cache_read': 0}}),\n",
       " HumanMessage(content='', additional_kwargs={}, response_metadata={}, id='5cbfea6e-27d0-418e-8807-4be2cc4ac0ba'),\n",
       " AIMessage(content='', additional_kwargs={}, response_metadata={'prompt_feedback': {'block_reason': 0, 'safety_ratings': []}, 'finish_reason': 'STOP', 'model_name': 'gemini-2.0-flash', 'safety_ratings': []}, id='run--42fd238c-ba87-43a1-9d80-683ea8f97557-0', usage_metadata={'input_tokens': 356, 'output_tokens': 0, 'total_tokens': 356, 'input_token_details': {'cache_read': 0}}),\n",
       " HumanMessage(content='Okay, I\\'ve reviewed your tweet idea: \"AI Agents taking over content creation\"\\n\\nHere\\'s my critique and recommendations, designed to make it more engaging and likely to go viral:\\n\\n**Critique:**\\n\\n*   **Too General & Fear-Mongering:** The phrase \"taking over\" is a bit alarmist and vague. It immediately puts people on the defensive. It lacks nuance and doesn\\'t offer any specific insights.\\n*   **Lacks a Hook:** It doesn\\'t immediately grab attention or make people want to learn more.\\n*   **Missing Hashtags:** Hashtags are crucial for discoverability on Twitter.\\n*   **No Call to Action:** Doesn\\'t encourage engagement (retweets, replies, likes).\\n*   **Length:** It\\'s short, which isn\\'t inherently bad, but it needs to be impactful to justify the brevity.\\n\\n**Recommendations for Improvement:**\\n\\n1.  **Specificity & Nuance:** Instead of \"taking over,\" focus on *how* AI agents are changing content creation. Are they automating tasks? Personalizing content? Improving efficiency? This makes it more informative and less like a generic headline.\\n\\n2.  **Add a Hook/Intrigue:** Start with a surprising statistic, a bold question, or a controversial opinion related to AI and content.\\n\\n3.  **Incorporate Relevant Hashtags:** Research trending and relevant hashtags related to AI, content creation, marketing, and automation. Use a mix of broad and niche hashtags. Aim for 2-4 relevant hashtags.\\n\\n4.  **Include a Call to Action (CTA):** Encourage engagement. Ask a question, invite opinions, or suggest people share their experiences.\\n\\n5.  **Consider Different Angles:**\\n\\n    *   **The \"Opportunity\" Angle:** Focus on how AI agents can *help* content creators be more efficient and creative.\\n    *   **The \"Ethical\" Angle:** Discuss the ethical considerations of AI-generated content (e.g., plagiarism, bias).\\n    *   **The \"Future\" Angle:** Speculate on what the future of content creation looks like with AI.\\n    *   **The \"Practical\" Angle:** Share specific examples of how AI agents are being used in content creation today.\\n\\n**Examples of Improved Tweets:**\\n\\nHere are a few options, incorporating the above recommendations:\\n\\n**Option 1 (Intriguing & Slightly Provocative):**\\n\\n> AI agents are now writing articles, designing graphics, and even composing music. Are we on the verge of a content creation singularity? 🤖 #AI #ContentCreation #ArtificialIntelligence #FutureofWork\\n\\n**Option 2 (Focus on Efficiency & Opportunity):**\\n\\n> AI agents are revolutionizing content creation! Automating tasks, boosting efficiency, and freeing up human creatives to focus on strategy & innovation.  Exciting times ahead! ✨ #AIagents #ContentMarketing #Automation #Innovation\\n\\n**Option 3 (More Balanced & Realistic):**\\n\\n> AI agents are making waves in content creation, but it\\'s not about replacement, it\\'s about augmentation.  Think smarter workflows, personalized experiences, and new creative possibilities. How are you leveraging AI in your content strategy? 🤔 #AI #ContentStrategy #MachineLearning #DigitalMarketing\\n\\n**Option 4 (Short & Punchy):**\\n\\n> Content creation is about to get a whole lot faster (and weirder) thanks to AI agents. 🚀 #AIContent #ArtificialIntelligence #Marketing\\n\\n**Key Takeaways:**\\n\\n*   **Be Specific:** Avoid vague pronouncements.\\n*   **Be Engaging:** Hook your audience with an interesting angle.\\n*   **Be Discoverable:** Use relevant hashtags.\\n*   **Be Interactive:** Encourage engagement with a CTA.\\n*   **Be Mindful of Tone:** \"Taking over\" can be perceived negatively. Consider a more balanced or optimistic perspective.\\n\\nGood luck with your tweet! Let me know if you\\'d like me to refine any of these further.', additional_kwargs={}, response_metadata={}, id='f8ddfce3-4901-477d-89a8-4f241928c58e'),\n",
       " AIMessage(content='Okay, I appreciate the detailed feedback! You\\'re right, \"taking over\" is too simplistic and fear-mongering. I\\'ll focus on being more specific, engaging, and action-oriented.\\n\\nHere are three revised tweet options, incorporating your recommendations:\\n\\n**Option 1 (Focus on Personalization & a Question):**\\n\\n> AI is personalizing content at scale! 🤯 Imagine hyper-targeted ads & articles tailored to each individual. Is this the future of content, or are we losing the human touch? 🤔 #AIContent #Personalization #Marketing #FutureofContent\\n\\n**Option 2 (Highlighting Efficiency & Asking for Examples):**\\n\\n> AI agents are streamlining content workflows! From generating outlines to writing social media copy, they\\'re boosting efficiency. What AI tools are YOU using to create content? Share your faves! 👇 #AItools #ContentCreation #Automation #Productivity\\n\\n**Option 3 (Data-Driven & Slightly Provocative):**\\n\\n> 70% of marketers believe AI will significantly impact content creation in the next year. Are you ready? Or are you underestimating the power of AI to transform your content strategy? 🚀 #AIinMarketing #ContentStrategy #ArtificialIntelligence #DigitalTransformation\\n\\n**Changes Made:**\\n\\n*   **Specificity:** Focused on personalization, streamlining workflows, and the impact on content strategy.\\n*   **Hook:** Used a surprising statistic and a question to grab attention.\\n*   **Hashtags:** Incorporated relevant hashtags.\\n*   **Call to Action:** Asked for opinions, examples, and sharing of experiences.\\n*   **Tone:** Shifted away from \"taking over\" to a more balanced and opportunity-focused perspective.\\n\\nI think these are a significant improvement! Which of these resonates most with you, or what specific aspects would you like me to refine further? I\\'m ready for more feedback!', additional_kwargs={}, response_metadata={'prompt_feedback': {'block_reason': 0, 'safety_ratings': []}, 'finish_reason': 'STOP', 'model_name': 'gemini-2.0-flash', 'safety_ratings': []}, id='run--a39c2bbc-dd71-4bd6-a605-c5353c8bc7aa-0', usage_metadata={'input_tokens': 1179, 'output_tokens': 388, 'total_tokens': 1567, 'input_token_details': {'cache_read': 0}})]"
      ]
     },
     "execution_count": 12,
     "metadata": {},
     "output_type": "execute_result"
    }
   ],
   "source": [
    "app.invoke(HumanMessage(content=\"AI Agents taking over content creation\"))"
   ]
  },
  {
   "cell_type": "code",
   "execution_count": null,
   "id": "e5977214-afd1-4714-972f-0d124fae4a01",
   "metadata": {},
   "outputs": [],
   "source": []
  },
  {
   "cell_type": "code",
   "execution_count": null,
   "id": "e611bc51-a4c8-4449-837f-486b415ac3cf",
   "metadata": {},
   "outputs": [],
   "source": []
  },
  {
   "cell_type": "code",
   "execution_count": null,
   "id": "29de842b-a345-4142-9d59-d216cc588e95",
   "metadata": {},
   "outputs": [],
   "source": []
  },
  {
   "cell_type": "code",
   "execution_count": null,
   "id": "d9082c43-2f3e-4e75-a4ee-21589c3c427c",
   "metadata": {},
   "outputs": [],
   "source": []
  },
  {
   "cell_type": "code",
   "execution_count": null,
   "id": "b0bef3f4-97bc-4547-a37d-72962424546f",
   "metadata": {},
   "outputs": [],
   "source": []
  },
  {
   "cell_type": "code",
   "execution_count": null,
   "id": "e4788b1a-5a4a-4839-af0f-41330c27cb10",
   "metadata": {},
   "outputs": [],
   "source": []
  },
  {
   "cell_type": "code",
   "execution_count": null,
   "id": "1b105d54-77f7-4e53-863a-d5713d4fedae",
   "metadata": {},
   "outputs": [],
   "source": []
  },
  {
   "cell_type": "code",
   "execution_count": null,
   "id": "7e3b0a5d-14c2-4d5c-bfbd-80360237dbf7",
   "metadata": {},
   "outputs": [],
   "source": []
  }
 ],
 "metadata": {
  "kernelspec": {
   "display_name": "Python 3 (ipykernel)",
   "language": "python",
   "name": "python3"
  },
  "language_info": {
   "codemirror_mode": {
    "name": "ipython",
    "version": 3
   },
   "file_extension": ".py",
   "mimetype": "text/x-python",
   "name": "python",
   "nbconvert_exporter": "python",
   "pygments_lexer": "ipython3",
   "version": "3.11.4"
  }
 },
 "nbformat": 4,
 "nbformat_minor": 5
}
