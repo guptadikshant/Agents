{
 "cells": [
  {
   "cell_type": "code",
   "execution_count": 18,
   "id": "4eecfe92-7f60-48b8-996c-e33e202d15f3",
   "metadata": {},
   "outputs": [],
   "source": [
    "from agno.agent import Agent\n",
    "from agno.models.groq import Groq\n",
    "from dotenv import load_dotenv, find_dotenv"
   ]
  },
  {
   "cell_type": "code",
   "execution_count": 4,
   "id": "72dae924-11bb-4e92-9047-ffee1bde01da",
   "metadata": {},
   "outputs": [
    {
     "data": {
      "text/plain": [
       "True"
      ]
     },
     "execution_count": 4,
     "metadata": {},
     "output_type": "execute_result"
    }
   ],
   "source": [
    "load_dotenv(find_dotenv())"
   ]
  },
  {
   "cell_type": "code",
   "execution_count": 12,
   "id": "13250a4a-8af1-4bb0-9a78-1fcce478901e",
   "metadata": {},
   "outputs": [
    {
     "name": "stdout",
     "output_type": "stream",
     "text": [
      "As I lay in bed, I couldn't shake the feeling that someone was watching me from the shadows. It wasn't until I heard my own voice whisper \"goodnight\" back to me that I realized I wasn't alone.\n"
     ]
    }
   ],
   "source": [
    "agent = Agent(\n",
    "    model=Groq(id=\"llama-3.3-70b-versatile\"),\n",
    "    markdown=True,\n",
    ")\n",
    "\n",
    "# Print the response in the terminal\n",
    "print(agent.run(\"Share a 2 sentence horror story.\").content)"
   ]
  },
  {
   "cell_type": "code",
   "execution_count": 14,
   "id": "7c05573f-e3ef-43cf-a99f-2b587ef9eaba",
   "metadata": {},
   "outputs": [
    {
     "data": {
      "text/plain": [
       "'## Introduction\\nI am an artificial intelligence language model designed to assist and communicate with users. My purpose is to provide information, answer questions, and engage in conversations to the best of my abilities.\\n\\n## Key Features\\nSome key features of my capabilities include:\\n* Answering questions on a wide range of topics\\n* Generating text based on a prompt or topic\\n* Translation and language-related tasks\\n* Summarizing content and providing overviews\\n* Engaging in natural-sounding conversations\\n\\n## Limitations\\nWhile I strive to provide accurate and helpful responses, I am not perfect and have limitations, such as:\\n* Lack of personal experiences and emotions\\n* Limited ability to understand sarcasm and nuances of human language\\n* Dependence on training data, which may not always be up-to-date or accurate\\n\\n## How to Interact with Me\\nTo get the most out of our conversation, feel free to:\\n* Ask me specific questions or provide topics for discussion\\n* Clarify any misunderstandings or provide additional context\\n* Engage in open-ended conversations and explore new ideas together'"
      ]
     },
     "execution_count": 14,
     "metadata": {},
     "output_type": "execute_result"
    }
   ],
   "source": [
    "agent.run(\"Who are you?\").content"
   ]
  },
  {
   "cell_type": "code",
   "execution_count": 15,
   "id": "6dc2de0b-3185-4598-9dd8-774e85b561cd",
   "metadata": {},
   "outputs": [],
   "source": [
    "new_agent = Agent(\n",
    "    model=Groq(id=\"llama-3.3-70b-versatile\"),\n",
    "    description=\"You are a helpful AI Agent\",\n",
    "    goal=\"Your goal is to answer user queries with relevant information\"\n",
    ")"
   ]
  },
  {
   "cell_type": "code",
   "execution_count": 17,
   "id": "bad64c6a-57ef-4135-a7c8-d69fc6af8a7e",
   "metadata": {},
   "outputs": [
    {
     "data": {
      "text/plain": [
       "\"I'm not able to access real-time weather information. However, I can suggest some ways for you to find out the current weather:\\n\\n1. **Check online weather websites**: You can visit websites like AccuWeather, Weather.com, or the National Weather Service (NWS) to get the current weather conditions in your area.\\n2. **Use a mobile app**: Download a weather app like Dark Sky, Weather Underground, or The Weather Channel to get real-time weather updates on your smartphone.\\n3. **Check your local news**: Tune into your local news channel or check their website for weather updates.\\n4. **Look out the window**: If you're at home or have a window nearby, take a glance outside to see the current weather conditions.\\n\\nPlease let me know if there's anything else I can help you with.\""
      ]
     },
     "execution_count": 17,
     "metadata": {},
     "output_type": "execute_result"
    }
   ],
   "source": [
    "new_agent.run(\"Tell me weather today?\").content"
   ]
  },
  {
   "cell_type": "code",
   "execution_count": 20,
   "id": "8c0649a1-7bdc-4287-acf2-4e12dadcd411",
   "metadata": {
    "scrolled": true
   },
   "outputs": [
    {
     "name": "stdout",
     "output_type": "stream",
     "text": [
      "\u001b[2K\u001b[34m┏━\u001b[0m\u001b[34m Response (4.2s) \u001b[0m\u001b[34m━━━━━━━━━━━━━━━━━━━━━━━━━━━━━━━━━━━━━━━━━━━━━━━━━━━━━━━━━━━━━━━━━━━━━━━━━━━━━━━━━━━━━━━━━━━━━━━━━━━━━━━━━━\u001b[0m\u001b[34m━┓\u001b[0m\n",
      "\u001b[34m┃\u001b[0m                                                                                                                             \u001b[34m┃\u001b[0m\n",
      "\u001b[34m┃\u001b[0m                                                 \u001b[1mThe Lost Potion of Hogwarts\u001b[0m                                                 \u001b[34m┃\u001b[0m\n",
      "\u001b[34m┃\u001b[0m                                                                                                                             \u001b[34m┃\u001b[0m\n",
      "\u001b[34m┃\u001b[0m In the hallowed halls of Hogwarts School of Witchcraft and Wizardry, a mysterious tale unfolded, one that would test the    \u001b[34m┃\u001b[0m\n",
      "\u001b[34m┃\u001b[0m courage and ingenuity of its most renowned student, Harry Potter.                                                           \u001b[34m┃\u001b[0m\n",
      "\u001b[34m┃\u001b[0m                                                                                                                             \u001b[34m┃\u001b[0m\n",
      "\u001b[34m┃\u001b[0m It was a chilly autumn evening when Professor Dumbledore, the wise and venerable headmaster, summoned Harry to his office.  \u001b[34m┃\u001b[0m\n",
      "\u001b[34m┃\u001b[0m The atmosphere was tense, and the usual warmth of the fireplace seemed subdued. Dumbledore's eyes, filled with a deep       \u001b[34m┃\u001b[0m\n",
      "\u001b[34m┃\u001b[0m concern, met Harry's as he began to speak.                                                                                  \u001b[34m┃\u001b[0m\n",
      "\u001b[34m┃\u001b[0m                                                                                                                             \u001b[34m┃\u001b[0m\n",
      "\u001b[34m┃\u001b[0m \"Harry, an ancient potion, known as the Elixir of Enlightenment, has gone missing. This potion, rumored to enhance one's    \u001b[34m┃\u001b[0m\n",
      "\u001b[34m┃\u001b[0m magical abilities beyond imagination, was last seen in the restricted section of the library. I fear it has fallen into the \u001b[34m┃\u001b[0m\n",
      "\u001b[34m┃\u001b[0m wrong hands,\" Dumbledore explained, his voice laced with urgency.                                                           \u001b[34m┃\u001b[0m\n",
      "\u001b[34m┃\u001b[0m                                                                                                                             \u001b[34m┃\u001b[0m\n",
      "\u001b[34m┃\u001b[0m Without hesitation, Harry accepted the challenge. He was determined to find the potion and ensure it did not become a tool  \u001b[34m┃\u001b[0m\n",
      "\u001b[34m┃\u001b[0m for darkness. Accompanied by his loyal friends, Ron Weasley and Hermione Granger, they embarked on a perilous quest.        \u001b[34m┃\u001b[0m\n",
      "\u001b[34m┃\u001b[0m                                                                                                                             \u001b[34m┃\u001b[0m\n",
      "\u001b[34m┃\u001b[0m Their first lead took them to the usually inaccessible parts of the castle, where they encountered obstacles both magical   \u001b[34m┃\u001b[0m\n",
      "\u001b[34m┃\u001b[0m and mundane. From avoiding the watchful eyes of the portcullis to deciphering ancient spells that guarded hidden passages,  \u001b[34m┃\u001b[0m\n",
      "\u001b[34m┃\u001b[0m each step forward required a combination of bravery, intelligence, and friendship.                                          \u001b[34m┃\u001b[0m\n",
      "\u001b[34m┃\u001b[0m                                                                                                                             \u001b[34m┃\u001b[0m\n",
      "\u001b[34m┃\u001b[0m As the sun dipped below the horizon, casting the castle in a mysterious twilight, the trio found themselves standing in     \u001b[34m┃\u001b[0m\n",
      "\u001b[34m┃\u001b[0m front of a door hidden behind a tapestry. The air was thick with the scent of old parchment and forgotten knowledge. With a \u001b[34m┃\u001b[0m\n",
      "\u001b[34m┃\u001b[0m gentle push, the door creaked open, revealing a room filled with shelves upon shelves of ancient tomes and mysterious       \u001b[34m┃\u001b[0m\n",
      "\u001b[34m┃\u001b[0m artifacts.                                                                                                                  \u001b[34m┃\u001b[0m\n",
      "\u001b[34m┃\u001b[0m                                                                                                                             \u001b[34m┃\u001b[0m\n",
      "\u001b[34m┃\u001b[0m It was there, nestled between two large, leather-bound books, that they found the Elixir of Enlightenment. But, to their    \u001b[34m┃\u001b[0m\n",
      "\u001b[34m┃\u001b[0m surprise, the potion was not alone. Lord Voldemort, the dark wizard who had murdered Harry's parents and sought to dominate \u001b[34m┃\u001b[0m\n",
      "\u001b[34m┃\u001b[0m the wizarding world, stood beside it, his eyes gleaming with malevolence.                                                   \u001b[34m┃\u001b[0m\n",
      "\u001b[34m┃\u001b[0m                                                                                                                             \u001b[34m┃\u001b[0m\n",
      "\u001b[34m┃\u001b[0m \"You are just in time to witness the beginning of my true power,\" Voldemort sneered, the Elixir of Enlightenment glowing    \u001b[34m┃\u001b[0m\n",
      "\u001b[34m┃\u001b[0m ominously in his hand.                                                                                                      \u001b[34m┃\u001b[0m\n",
      "\u001b[34m┃\u001b[0m                                                                                                                             \u001b[34m┃\u001b[0m\n",
      "\u001b[34m┃\u001b[0m Undaunted, Harry, Ron, and Hermione prepared for battle. Spells flew back and forth, illuminating the dark room in flashes  \u001b[34m┃\u001b[0m\n",
      "\u001b[34m┃\u001b[0m of light. The air was filled with the sound of clashing magic, each side determined to emerge victorious.                   \u001b[34m┃\u001b[0m\n",
      "\u001b[34m┃\u001b[0m                                                                                                                             \u001b[34m┃\u001b[0m\n",
      "\u001b[34m┃\u001b[0m In the heart of the chaos, Harry found himself face to face with Voldemort. The dark lord, fueled by the Elixir's power,    \u001b[34m┃\u001b[0m\n",
      "\u001b[34m┃\u001b[0m was formidable, but Harry's courage, combined with the love and friendship that surrounded him, proved to be the decisive   \u001b[34m┃\u001b[0m\n",
      "\u001b[34m┃\u001b[0m factor.                                                                                                                     \u001b[34m┃\u001b[0m\n",
      "\u001b[34m┃\u001b[0m                                                                                                                             \u001b[34m┃\u001b[0m\n",
      "\u001b[34m┃\u001b[0m With a final, mighty spell, Harry managed to shatter the vial containing the Elixir, rendering its power useless to         \u001b[34m┃\u001b[0m\n",
      "\u001b[34m┃\u001b[0m Voldemort. The dark lord, enraged and defeated, retreated into the shadows, his plans foiled once again by the boy who had  \u001b[34m┃\u001b[0m\n",
      "\u001b[34m┃\u001b[0m become his greatest adversary.                                                                                              \u001b[34m┃\u001b[0m\n",
      "\u001b[34m┃\u001b[0m                                                                                                                             \u001b[34m┃\u001b[0m\n",
      "\u001b[34m┃\u001b[0m As the dust settled, Harry, Ron, and Hermione stood victorious, the lost potion of Hogwarts no longer a threat to the       \u001b[34m┃\u001b[0m\n",
      "\u001b[34m┃\u001b[0m wizarding world. Their bond, stronger than any magic, had saved the day. And in the wisdom of Dumbledore's words, they      \u001b[34m┃\u001b[0m\n",
      "\u001b[34m┃\u001b[0m found solace: \"Happiness can be found even in the darkest of times if one only remembers to turn on the light.\"             \u001b[34m┃\u001b[0m\n",
      "\u001b[34m┃\u001b[0m                                                                                                                             \u001b[34m┃\u001b[0m\n",
      "\u001b[34m┃\u001b[0m And so, the tale of the Elixir of Enlightenment became a legend, a testament to the power of friendship and the unyielding  \u001b[34m┃\u001b[0m\n",
      "\u001b[34m┃\u001b[0m spirit of those who defend what is right, even in the face of overwhelming darkness.                                        \u001b[34m┃\u001b[0m\n",
      "\u001b[34m┃\u001b[0m                                                                                                                             \u001b[34m┃\u001b[0m\n",
      "\u001b[34m┗━━━━━━━━━━━━━━━━━━━━━━━━━━━━━━━━━━━━━━━━━━━━━━━━━━━━━━━━━━━━━━━━━━━━━━━━━━━━━━━━━━━━━━━━━━━━━━━━━━━━━━━━━━━━━━━━━━━━━━━━━━━━━┛\u001b[0m\n",
      "\u001b[?25h"
     ]
    }
   ],
   "source": [
    "agent.print_response(message=\"Tell me a story about harry potter\", show_message=False)"
   ]
  },
  {
   "cell_type": "code",
   "execution_count": 44,
   "id": "5a8dddf6-f756-4b9d-bbad-37785c8c512e",
   "metadata": {},
   "outputs": [],
   "source": [
    "from agno.tools.duckduckgo import DuckDuckGoTools\n",
    "from agno.tools.calculator import CalculatorTools\n",
    "from agno.tools.yfinance import YFinanceTools"
   ]
  },
  {
   "cell_type": "code",
   "execution_count": 45,
   "id": "7ce6fb13-6a6e-4808-89ca-44d97814b833",
   "metadata": {},
   "outputs": [],
   "source": [
    "general_agent = Agent(\n",
    "    model=Groq(id=\"llama-3.3-70b-versatile\", temperature=0),\n",
    "    description=\"You are helpful AI Agent\",\n",
    "    goal=\"Your task is to resolve user's queries\",\n",
    "    tools=[DuckDuckGoTools(), CalculatorTools(), YFinanceTools()]\n",
    ")"
   ]
  },
  {
   "cell_type": "code",
   "execution_count": 48,
   "id": "7b814478-9698-4c5d-869a-92d7c2f2dca5",
   "metadata": {},
   "outputs": [
    {
     "name": "stdout",
     "output_type": "stream",
     "text": [
      "\u001b[2K\u001b[32m▰▰▱▱▱▱▱\u001b[0m Thinking.....\n",
      "\u001b[33m┏━\u001b[0m\u001b[33m Tool Calls \u001b[0m\u001b[33m━━━━━━━━━━━━━━━━━━━━━━━━━━━━━━━━━━━━━━━━━━━━━━━━━━━━━━━━━━━━━━━━━━━━━━━━━━━━━━━━━━━━━━━━━━━━━━━━━━━━━━━━━━━━━━━\u001b[0m\u001b[33m━┓\u001b[0m\n",
      "\u001b[33m┃\u001b[0m                                                                                                                             \u001b[33m┃\u001b[0m\n",
      "\u001b[33m┃\u001b[0m • duckduckgo_search(query=Delhi India temperature today)                                                                    \u001b[33m┃\u001b[0m\n",
      "\u001b[33m┃\u001b[0m                                                                                                                             \u001b[33m┃\u001b[0m\n",
      "\u001b[33m┗━━━━━━━━━━━━━━━━━━━━━━━━━━━━━━━━━━━━━━━━━━━━━━━━━━━━━━━━━━━━━━━━━━━━━━━━━━━━━━━━━━━━━━━━━━━━━━━━━━━━━━━━━━━━━━━━━━━━━━━━━━━━━┛\u001b[0m\n",
      "\u001b[34m┏━\u001b[0m\u001b[34m Response (2.0s) \u001b[0m\u001b[34m━━━━━━━━━━━━━━━━━━━━━━━━━━━━━━━━━━━━━━━━━━━━━━━━━━━━━━━━━━━━━━━━━━━━━━━━━━━━━━━━━━━━━━━━━━━━━━━━━━━━━━━━━━\u001b[0m\u001b[34m━┓\u001b[0m\n",
      "\u001b[34m┃\u001b[0m                                                                                                                             \u001b[34m┃\u001b[0m\n",
      "\u001b[34m┃\u001b[0m The current temperature in Delhi, India is 38°C (high) and 27°C (low).                                                      \u001b[34m┃\u001b[0m\n",
      "\u001b[34m┃\u001b[0m                                                                                                                             \u001b[34m┃\u001b[0m\n",
      "\u001b[2K\u001b[1A\u001b[2K\u001b[1A\u001b[2K\u001b[1A\u001b[2K\u001b[1A\u001b[2K\u001b[1A\u001b[2K\u001b[1A\u001b[2K\u001b[1A\u001b[2K\u001b[1A\u001b[2K\u001b[1A\u001b[2K\u001b[1A\u001b[2K\u001b[32m▰▰▰▱▱▱▱\u001b[0m Thinking...━━━━━━━━━━━━━━━━━━━┛\u001b[0m\n",
      "\u001b[33m┏━\u001b[0m\u001b[33m Tool Calls \u001b[0m\u001b[33m━━━━━━━━━━━━━━━━━━━━━━━━━━━━━━━━━━━━━━━━━━━━━━━━━━━━━━━━━━━━━━━━━━━━━━━━━━━━━━━━━━━━━━━━━━━━━━━━━━━━━━━━━━━━━━━\u001b[0m\u001b[33m━┓\u001b[0m\n",
      "\u001b[33m┃\u001b[0m                                                                                                                             \u001b[33m┃\u001b[0m\n",
      "\u001b[33m┃\u001b[0m • duckduckgo_search(query=Delhi India temperature today)                                                                    \u001b[33m┃\u001b[0m\n",
      "\u001b[33m┃\u001b[0m                                                                                                                             \u001b[33m┃\u001b[0m\n",
      "\u001b[33m┗━━━━━━━━━━━━━━━━━━━━━━━━━━━━━━━━━━━━━━━━━━━━━━━━━━━━━━━━━━━━━━━━━━━━━━━━━━━━━━━━━━━━━━━━━━━━━━━━━━━━━━━━━━━━━━━━━━━━━━━━━━━━━┛\u001b[0m\n",
      "\u001b[34m┏━\u001b[0m\u001b[34m Response (2.0s) \u001b[0m\u001b[34m━━━━━━━━━━━━━━━━━━━━━━━━━━━━━━━━━━━━━━━━━━━━━━━━━━━━━━━━━━━━━━━━━━━━━━━━━━━━━━━━━━━━━━━━━━━━━━━━━━━━━━━━━━\u001b[0m\u001b[34m━┓\u001b[0m\n",
      "\u001b[34m┃\u001b[0m                                                                                                                             \u001b[34m┃\u001b[0m\n",
      "\u001b[34m┃\u001b[0m The current temperature in Delhi, India is 38°C (high) and 27°C (low).                                                      \u001b[34m┃\u001b[0m\n",
      "\u001b[34m┃\u001b[0m                                                                                                                             \u001b[34m┃\u001b[0m\n",
      "\u001b[2K\u001b[1A\u001b[2K\u001b[1A\u001b[2K\u001b[1A\u001b[2K\u001b[1A\u001b[2K\u001b[1A\u001b[2K\u001b[1A\u001b[2K\u001b[1A\u001b[2K\u001b[1A\u001b[2K\u001b[1A\u001b[2K\u001b[1A\u001b[2K\u001b[32m▰▰▰▰▱▱▱\u001b[0m Thinking...━━━━━━━━━━━━━━━━━━━┛\u001b[0m\n",
      "\u001b[33m┏━\u001b[0m\u001b[33m Tool Calls \u001b[0m\u001b[33m━━━━━━━━━━━━━━━━━━━━━━━━━━━━━━━━━━━━━━━━━━━━━━━━━━━━━━━━━━━━━━━━━━━━━━━━━━━━━━━━━━━━━━━━━━━━━━━━━━━━━━━━━━━━━━━\u001b[0m\u001b[33m━┓\u001b[0m\n",
      "\u001b[33m┃\u001b[0m                                                                                                                             \u001b[33m┃\u001b[0m\n",
      "\u001b[33m┃\u001b[0m • duckduckgo_search(query=Delhi India temperature today)                                                                    \u001b[33m┃\u001b[0m\n",
      "\u001b[33m┃\u001b[0m                                                                                                                             \u001b[33m┃\u001b[0m\n",
      "\u001b[33m┗━━━━━━━━━━━━━━━━━━━━━━━━━━━━━━━━━━━━━━━━━━━━━━━━━━━━━━━━━━━━━━━━━━━━━━━━━━━━━━━━━━━━━━━━━━━━━━━━━━━━━━━━━━━━━━━━━━━━━━━━━━━━━┛\u001b[0m\n",
      "\u001b[34m┏━\u001b[0m\u001b[34m Response (2.0s) \u001b[0m\u001b[34m━━━━━━━━━━━━━━━━━━━━━━━━━━━━━━━━━━━━━━━━━━━━━━━━━━━━━━━━━━━━━━━━━━━━━━━━━━━━━━━━━━━━━━━━━━━━━━━━━━━━━━━━━━\u001b[0m\u001b[34m━┓\u001b[0m\n",
      "\u001b[34m┃\u001b[0m                                                                                                                             \u001b[34m┃\u001b[0m\n",
      "\u001b[34m┃\u001b[0m The current temperature in Delhi, India is 38°C (high) and 27°C (low).                                                      \u001b[34m┃\u001b[0m\n",
      "\u001b[34m┃\u001b[0m                                                                                                                             \u001b[34m┃\u001b[0m\n",
      "\u001b[2K\u001b[1A\u001b[2K\u001b[1A\u001b[2K\u001b[1A\u001b[2K\u001b[1A\u001b[2K\u001b[1A\u001b[2K\u001b[1A\u001b[2K\u001b[1A\u001b[2K\u001b[1A\u001b[2K\u001b[1A\u001b[2K\u001b[1A\u001b[2K\u001b[32m▰▰▰▰▰▰▱\u001b[0m Thinking...━━━━━━━━━━━━━━━━━━━┛\u001b[0m\n",
      "\u001b[33m┏━\u001b[0m\u001b[33m Tool Calls \u001b[0m\u001b[33m━━━━━━━━━━━━━━━━━━━━━━━━━━━━━━━━━━━━━━━━━━━━━━━━━━━━━━━━━━━━━━━━━━━━━━━━━━━━━━━━━━━━━━━━━━━━━━━━━━━━━━━━━━━━━━━\u001b[0m\u001b[33m━┓\u001b[0m\n",
      "\u001b[33m┃\u001b[0m                                                                                                                             \u001b[33m┃\u001b[0m\n",
      "\u001b[33m┃\u001b[0m • duckduckgo_search(query=Delhi India temperature today)                                                                    \u001b[33m┃\u001b[0m\n",
      "\u001b[33m┃\u001b[0m                                                                                                                             \u001b[33m┃\u001b[0m\n",
      "\u001b[33m┗━━━━━━━━━━━━━━━━━━━━━━━━━━━━━━━━━━━━━━━━━━━━━━━━━━━━━━━━━━━━━━━━━━━━━━━━━━━━━━━━━━━━━━━━━━━━━━━━━━━━━━━━━━━━━━━━━━━━━━━━━━━━━┛\u001b[0m\n",
      "\u001b[34m┏━\u001b[0m\u001b[34m Response (2.0s) \u001b[0m\u001b[34m━━━━━━━━━━━━━━━━━━━━━━━━━━━━━━━━━━━━━━━━━━━━━━━━━━━━━━━━━━━━━━━━━━━━━━━━━━━━━━━━━━━━━━━━━━━━━━━━━━━━━━━━━━\u001b[0m\u001b[34m━┓\u001b[0m\n",
      "\u001b[34m┃\u001b[0m                                                                                                                             \u001b[34m┃\u001b[0m\n",
      "\u001b[34m┃\u001b[0m The current temperature in Delhi, India is 38°C (high) and 27°C (low).                                                      \u001b[34m┃\u001b[0m\n",
      "\u001b[34m┃\u001b[0m                                                                                                                             \u001b[34m┃\u001b[0m\n",
      "\u001b[2K\u001b[1A\u001b[2K\u001b[1A\u001b[2K\u001b[1A\u001b[2K\u001b[1A\u001b[2K\u001b[1A\u001b[2K\u001b[1A\u001b[2K\u001b[1A\u001b[2K\u001b[1A\u001b[2K\u001b[1A\u001b[2K\u001b[1A\u001b[2K\u001b[33m┏━\u001b[0m\u001b[33m Tool Calls \u001b[0m\u001b[33m━━━━━━━━━━━━━━━━━━━━━━━━━━━━━━━━━━━━━━━━━━━━━━━━━━━━━━━━━━━━━━━━━━━━━━━━━━━━━━━━━━━━━━━━━━━━━━━━━━━━━━━━━━━━━━━\u001b[0m\u001b[33m━┓\u001b[0m\n",
      "\u001b[33m┃\u001b[0m                                                                                                                             \u001b[33m┃\u001b[0m\n",
      "\u001b[33m┃\u001b[0m • duckduckgo_search(query=Delhi India temperature today)                                                                    \u001b[33m┃\u001b[0m\n",
      "\u001b[33m┃\u001b[0m                                                                                                                             \u001b[33m┃\u001b[0m\n",
      "\u001b[33m┗━━━━━━━━━━━━━━━━━━━━━━━━━━━━━━━━━━━━━━━━━━━━━━━━━━━━━━━━━━━━━━━━━━━━━━━━━━━━━━━━━━━━━━━━━━━━━━━━━━━━━━━━━━━━━━━━━━━━━━━━━━━━━┛\u001b[0m\n",
      "\u001b[34m┏━\u001b[0m\u001b[34m Response (2.0s) \u001b[0m\u001b[34m━━━━━━━━━━━━━━━━━━━━━━━━━━━━━━━━━━━━━━━━━━━━━━━━━━━━━━━━━━━━━━━━━━━━━━━━━━━━━━━━━━━━━━━━━━━━━━━━━━━━━━━━━━\u001b[0m\u001b[34m━┓\u001b[0m\n",
      "\u001b[34m┃\u001b[0m                                                                                                                             \u001b[34m┃\u001b[0m\n",
      "\u001b[34m┃\u001b[0m The current temperature in Delhi, India is 38°C (high) and 27°C (low).                                                      \u001b[34m┃\u001b[0m\n",
      "\u001b[34m┃\u001b[0m                                                                                                                             \u001b[34m┃\u001b[0m\n",
      "\u001b[34m┗━━━━━━━━━━━━━━━━━━━━━━━━━━━━━━━━━━━━━━━━━━━━━━━━━━━━━━━━━━━━━━━━━━━━━━━━━━━━━━━━━━━━━━━━━━━━━━━━━━━━━━━━━━━━━━━━━━━━━━━━━━━━━┛\u001b[0m\n",
      "\u001b[?25h"
     ]
    }
   ],
   "source": [
    "general_agent.print_response(\"What's the temperature today in Delhi, India?\", show_message=False)"
   ]
  },
  {
   "cell_type": "code",
   "execution_count": 47,
   "id": "47f4d722-889b-402c-b4aa-c0f07b4dcfe6",
   "metadata": {},
   "outputs": [
    {
     "name": "stdout",
     "output_type": "stream",
     "text": [
      "\u001b[2K\u001b[32m▰▰▰▰▰▰▰\u001b[0m Thinking.....\n",
      "\u001b[33m┏━\u001b[0m\u001b[33m Tool Calls \u001b[0m\u001b[33m━━━━━━━━━━━━━━━━━━━━━━━━━━━━━━━━━━━━━━━━━━━━━━━━━━━━━━━━━━━━━━━━━━━━━━━━━━━━━━━━━━━━━━━━━━━━━━━━━━━━━━━━━━━━━━━\u001b[0m\u001b[33m━┓\u001b[0m\n",
      "\u001b[33m┃\u001b[0m                                                                                                                             \u001b[33m┃\u001b[0m\n",
      "\u001b[33m┃\u001b[0m • get_current_stock_price(symbol=NVDA)                                                                                      \u001b[33m┃\u001b[0m\n",
      "\u001b[33m┃\u001b[0m                                                                                                                             \u001b[33m┃\u001b[0m\n",
      "\u001b[33m┗━━━━━━━━━━━━━━━━━━━━━━━━━━━━━━━━━━━━━━━━━━━━━━━━━━━━━━━━━━━━━━━━━━━━━━━━━━━━━━━━━━━━━━━━━━━━━━━━━━━━━━━━━━━━━━━━━━━━━━━━━━━━━┛\u001b[0m\n",
      "\u001b[34m┏━\u001b[0m\u001b[34m Response (3.1s) \u001b[0m\u001b[34m━━━━━━━━━━━━━━━━━━━━━━━━━━━━━━━━━━━━━━━━━━━━━━━━━━━━━━━━━━━━━━━━━━━━━━━━━━━━━━━━━━━━━━━━━━━━━━━━━━━━━━━━━━\u001b[0m\u001b[34m━┓\u001b[0m\n",
      "\u001b[34m┃\u001b[0m                                                                                                                             \u001b[34m┃\u001b[0m\n",
      "\u001b[34m┃\u001b[0m The current stock price of NVDA is $                                                                                        \u001b[34m┃\u001b[0m\n",
      "\u001b[34m┃\u001b[0m                                                                                                                             \u001b[34m┃\u001b[0m\n",
      "\u001b[2K\u001b[1A\u001b[2K\u001b[1A\u001b[2K\u001b[1A\u001b[2K\u001b[1A\u001b[2K\u001b[1A\u001b[2K\u001b[1A\u001b[2K\u001b[1A\u001b[2K\u001b[1A\u001b[2K\u001b[1A\u001b[2K\u001b[1A\u001b[2K\u001b[32m▰▱▱▱▱▱▱\u001b[0m Thinking...━━━━━━━━━━━━━━━━━━━┛\u001b[0m\n",
      "\u001b[33m┏━\u001b[0m\u001b[33m Tool Calls \u001b[0m\u001b[33m━━━━━━━━━━━━━━━━━━━━━━━━━━━━━━━━━━━━━━━━━━━━━━━━━━━━━━━━━━━━━━━━━━━━━━━━━━━━━━━━━━━━━━━━━━━━━━━━━━━━━━━━━━━━━━━\u001b[0m\u001b[33m━┓\u001b[0m\n",
      "\u001b[33m┃\u001b[0m                                                                                                                             \u001b[33m┃\u001b[0m\n",
      "\u001b[33m┃\u001b[0m • get_current_stock_price(symbol=NVDA)                                                                                      \u001b[33m┃\u001b[0m\n",
      "\u001b[33m┃\u001b[0m                                                                                                                             \u001b[33m┃\u001b[0m\n",
      "\u001b[33m┗━━━━━━━━━━━━━━━━━━━━━━━━━━━━━━━━━━━━━━━━━━━━━━━━━━━━━━━━━━━━━━━━━━━━━━━━━━━━━━━━━━━━━━━━━━━━━━━━━━━━━━━━━━━━━━━━━━━━━━━━━━━━━┛\u001b[0m\n",
      "\u001b[34m┏━\u001b[0m\u001b[34m Response (3.2s) \u001b[0m\u001b[34m━━━━━━━━━━━━━━━━━━━━━━━━━━━━━━━━━━━━━━━━━━━━━━━━━━━━━━━━━━━━━━━━━━━━━━━━━━━━━━━━━━━━━━━━━━━━━━━━━━━━━━━━━━\u001b[0m\u001b[34m━┓\u001b[0m\n",
      "\u001b[34m┃\u001b[0m                                                                                                                             \u001b[34m┃\u001b[0m\n",
      "\u001b[34m┃\u001b[0m The current stock price of NVDA is $114.50.                                                                                 \u001b[34m┃\u001b[0m\n",
      "\u001b[34m┃\u001b[0m                                                                                                                             \u001b[34m┃\u001b[0m\n",
      "\u001b[2K\u001b[1A\u001b[2K\u001b[1A\u001b[2K\u001b[1A\u001b[2K\u001b[1A\u001b[2K\u001b[1A\u001b[2K\u001b[1A\u001b[2K\u001b[1A\u001b[2K\u001b[1A\u001b[2K\u001b[1A\u001b[2K\u001b[1A\u001b[2K\u001b[32m▰▰▱▱▱▱▱\u001b[0m Thinking...━━━━━━━━━━━━━━━━━━━┛\u001b[0m\n",
      "\u001b[33m┏━\u001b[0m\u001b[33m Tool Calls \u001b[0m\u001b[33m━━━━━━━━━━━━━━━━━━━━━━━━━━━━━━━━━━━━━━━━━━━━━━━━━━━━━━━━━━━━━━━━━━━━━━━━━━━━━━━━━━━━━━━━━━━━━━━━━━━━━━━━━━━━━━━\u001b[0m\u001b[33m━┓\u001b[0m\n",
      "\u001b[33m┃\u001b[0m                                                                                                                             \u001b[33m┃\u001b[0m\n",
      "\u001b[33m┃\u001b[0m • get_current_stock_price(symbol=NVDA)                                                                                      \u001b[33m┃\u001b[0m\n",
      "\u001b[33m┃\u001b[0m                                                                                                                             \u001b[33m┃\u001b[0m\n",
      "\u001b[33m┗━━━━━━━━━━━━━━━━━━━━━━━━━━━━━━━━━━━━━━━━━━━━━━━━━━━━━━━━━━━━━━━━━━━━━━━━━━━━━━━━━━━━━━━━━━━━━━━━━━━━━━━━━━━━━━━━━━━━━━━━━━━━━┛\u001b[0m\n",
      "\u001b[34m┏━\u001b[0m\u001b[34m Response (3.2s) \u001b[0m\u001b[34m━━━━━━━━━━━━━━━━━━━━━━━━━━━━━━━━━━━━━━━━━━━━━━━━━━━━━━━━━━━━━━━━━━━━━━━━━━━━━━━━━━━━━━━━━━━━━━━━━━━━━━━━━━\u001b[0m\u001b[34m━┓\u001b[0m\n",
      "\u001b[34m┃\u001b[0m                                                                                                                             \u001b[34m┃\u001b[0m\n",
      "\u001b[34m┃\u001b[0m The current stock price of NVDA is $114.50.                                                                                 \u001b[34m┃\u001b[0m\n",
      "\u001b[34m┃\u001b[0m                                                                                                                             \u001b[34m┃\u001b[0m\n",
      "\u001b[2K\u001b[1A\u001b[2K\u001b[1A\u001b[2K\u001b[1A\u001b[2K\u001b[1A\u001b[2K\u001b[1A\u001b[2K\u001b[1A\u001b[2K\u001b[1A\u001b[2K\u001b[1A\u001b[2K\u001b[1A\u001b[2K\u001b[1A\u001b[2K\u001b[32m▰▰▰▱▱▱▱\u001b[0m Thinking...━━━━━━━━━━━━━━━━━━━┛\u001b[0m\n",
      "\u001b[33m┏━\u001b[0m\u001b[33m Tool Calls \u001b[0m\u001b[33m━━━━━━━━━━━━━━━━━━━━━━━━━━━━━━━━━━━━━━━━━━━━━━━━━━━━━━━━━━━━━━━━━━━━━━━━━━━━━━━━━━━━━━━━━━━━━━━━━━━━━━━━━━━━━━━\u001b[0m\u001b[33m━┓\u001b[0m\n",
      "\u001b[33m┃\u001b[0m                                                                                                                             \u001b[33m┃\u001b[0m\n",
      "\u001b[33m┃\u001b[0m • get_current_stock_price(symbol=NVDA)                                                                                      \u001b[33m┃\u001b[0m\n",
      "\u001b[33m┃\u001b[0m                                                                                                                             \u001b[33m┃\u001b[0m\n",
      "\u001b[33m┗━━━━━━━━━━━━━━━━━━━━━━━━━━━━━━━━━━━━━━━━━━━━━━━━━━━━━━━━━━━━━━━━━━━━━━━━━━━━━━━━━━━━━━━━━━━━━━━━━━━━━━━━━━━━━━━━━━━━━━━━━━━━━┛\u001b[0m\n",
      "\u001b[34m┏━\u001b[0m\u001b[34m Response (3.2s) \u001b[0m\u001b[34m━━━━━━━━━━━━━━━━━━━━━━━━━━━━━━━━━━━━━━━━━━━━━━━━━━━━━━━━━━━━━━━━━━━━━━━━━━━━━━━━━━━━━━━━━━━━━━━━━━━━━━━━━━\u001b[0m\u001b[34m━┓\u001b[0m\n",
      "\u001b[34m┃\u001b[0m                                                                                                                             \u001b[34m┃\u001b[0m\n",
      "\u001b[34m┃\u001b[0m The current stock price of NVDA is $114.50.                                                                                 \u001b[34m┃\u001b[0m\n",
      "\u001b[34m┃\u001b[0m                                                                                                                             \u001b[34m┃\u001b[0m\n",
      "\u001b[2K\u001b[1A\u001b[2K\u001b[1A\u001b[2K\u001b[1A\u001b[2K\u001b[1A\u001b[2K\u001b[1A\u001b[2K\u001b[1A\u001b[2K\u001b[1A\u001b[2K\u001b[1A\u001b[2K\u001b[1A\u001b[2K\u001b[1A\u001b[2K\u001b[33m┏━\u001b[0m\u001b[33m Tool Calls \u001b[0m\u001b[33m━━━━━━━━━━━━━━━━━━━━━━━━━━━━━━━━━━━━━━━━━━━━━━━━━━━━━━━━━━━━━━━━━━━━━━━━━━━━━━━━━━━━━━━━━━━━━━━━━━━━━━━━━━━━━━━\u001b[0m\u001b[33m━┓\u001b[0m\n",
      "\u001b[33m┃\u001b[0m                                                                                                                             \u001b[33m┃\u001b[0m\n",
      "\u001b[33m┃\u001b[0m • get_current_stock_price(symbol=NVDA)                                                                                      \u001b[33m┃\u001b[0m\n",
      "\u001b[33m┃\u001b[0m                                                                                                                             \u001b[33m┃\u001b[0m\n",
      "\u001b[33m┗━━━━━━━━━━━━━━━━━━━━━━━━━━━━━━━━━━━━━━━━━━━━━━━━━━━━━━━━━━━━━━━━━━━━━━━━━━━━━━━━━━━━━━━━━━━━━━━━━━━━━━━━━━━━━━━━━━━━━━━━━━━━━┛\u001b[0m\n",
      "\u001b[34m┏━\u001b[0m\u001b[34m Response (3.2s) \u001b[0m\u001b[34m━━━━━━━━━━━━━━━━━━━━━━━━━━━━━━━━━━━━━━━━━━━━━━━━━━━━━━━━━━━━━━━━━━━━━━━━━━━━━━━━━━━━━━━━━━━━━━━━━━━━━━━━━━\u001b[0m\u001b[34m━┓\u001b[0m\n",
      "\u001b[34m┃\u001b[0m                                                                                                                             \u001b[34m┃\u001b[0m\n",
      "\u001b[34m┃\u001b[0m The current stock price of NVDA is $114.50.                                                                                 \u001b[34m┃\u001b[0m\n",
      "\u001b[34m┃\u001b[0m                                                                                                                             \u001b[34m┃\u001b[0m\n",
      "\u001b[34m┗━━━━━━━━━━━━━━━━━━━━━━━━━━━━━━━━━━━━━━━━━━━━━━━━━━━━━━━━━━━━━━━━━━━━━━━━━━━━━━━━━━━━━━━━━━━━━━━━━━━━━━━━━━━━━━━━━━━━━━━━━━━━━┛\u001b[0m\n",
      "\u001b[?25h"
     ]
    }
   ],
   "source": [
    "general_agent.print_response(\n",
    "    message=\"What's the stock price of NVDA today?\", \n",
    "    stream=True, \n",
    "    show_message=False, \n",
    "    show_full_reasoning=False, \n",
    "    show_reasoning=False\n",
    ")"
   ]
  },
  {
   "cell_type": "code",
   "execution_count": null,
   "id": "0da1dbd7-18ea-4964-bfbf-a1fa058b28a9",
   "metadata": {},
   "outputs": [],
   "source": []
  },
  {
   "cell_type": "code",
   "execution_count": null,
   "id": "dcefb5ce-f2a5-4bed-97e3-d774f664fe94",
   "metadata": {},
   "outputs": [],
   "source": []
  },
  {
   "cell_type": "code",
   "execution_count": null,
   "id": "dcd5b7c1-80d4-456e-8742-ec043a3d8a8d",
   "metadata": {},
   "outputs": [],
   "source": []
  },
  {
   "cell_type": "code",
   "execution_count": null,
   "id": "2164b11d-5d44-4d68-86db-fd5eafb5c660",
   "metadata": {},
   "outputs": [],
   "source": []
  },
  {
   "cell_type": "code",
   "execution_count": null,
   "id": "34d5736f-08c8-47eb-90a8-38f26cbfb4f5",
   "metadata": {},
   "outputs": [],
   "source": []
  }
 ],
 "metadata": {
  "kernelspec": {
   "display_name": "Python 3 (ipykernel)",
   "language": "python",
   "name": "python3"
  },
  "language_info": {
   "codemirror_mode": {
    "name": "ipython",
    "version": 3
   },
   "file_extension": ".py",
   "mimetype": "text/x-python",
   "name": "python",
   "nbconvert_exporter": "python",
   "pygments_lexer": "ipython3",
   "version": "3.11.4"
  }
 },
 "nbformat": 4,
 "nbformat_minor": 5
}
